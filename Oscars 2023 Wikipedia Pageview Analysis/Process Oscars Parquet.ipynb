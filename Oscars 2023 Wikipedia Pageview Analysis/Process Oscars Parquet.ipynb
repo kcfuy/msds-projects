{
 "cells": [
  {
   "cell_type": "markdown",
   "id": "68da92fe-8ccb-407e-980b-00c6105b7406",
   "metadata": {
    "execution": {
     "iopub.execute_input": "2024-05-14T15:45:46.407387Z",
     "iopub.status.busy": "2024-05-14T15:45:46.406664Z",
     "iopub.status.idle": "2024-05-14T15:45:46.414360Z",
     "shell.execute_reply": "2024-05-14T15:45:46.412959Z",
     "shell.execute_reply.started": "2024-05-14T15:45:46.407325Z"
    }
   },
   "source": [
    "# Process Oscars Pageviews"
   ]
  },
  {
   "cell_type": "code",
   "execution_count": 1,
   "id": "fa2ece7c-3fba-4db6-8e5e-262fe707e928",
   "metadata": {
    "execution": {
     "iopub.execute_input": "2024-05-14T19:16:05.149487Z",
     "iopub.status.busy": "2024-05-14T19:16:05.149286Z",
     "iopub.status.idle": "2024-05-14T19:16:06.558634Z",
     "shell.execute_reply": "2024-05-14T19:16:06.557706Z",
     "shell.execute_reply.started": "2024-05-14T19:16:05.149467Z"
    }
   },
   "outputs": [],
   "source": [
    "import os\n",
    "os.environ['PYARROW_IGNORE_TIMEZONE'] = '1'\n",
    "import warnings\n",
    "warnings.filterwarnings('ignore')\n",
    "import pyspark.pandas as ps\n",
    "from pyspark.sql import SparkSession"
   ]
  },
  {
   "cell_type": "code",
   "execution_count": 2,
   "id": "1c67e84f-3b80-4a27-9c8f-3b495777707a",
   "metadata": {
    "execution": {
     "iopub.execute_input": "2024-05-14T19:16:06.559722Z",
     "iopub.status.busy": "2024-05-14T19:16:06.559418Z",
     "iopub.status.idle": "2024-05-14T19:16:10.065276Z",
     "shell.execute_reply": "2024-05-14T19:16:10.063287Z",
     "shell.execute_reply.started": "2024-05-14T19:16:06.559701Z"
    }
   },
   "outputs": [],
   "source": [
    "spark = (SparkSession\n",
    "         .builder\n",
    "         .master('local[*]')\n",
    "         .config('spark.sql.execution.arrow.pyspark.enabled', 'true')\n",
    "         .getOrCreate())\n",
    "spark.sparkContext.setLogLevel('OFF')"
   ]
  },
  {
   "cell_type": "code",
   "execution_count": 3,
   "id": "66b42f78-70f2-4bd7-ac91-2c16657338bb",
   "metadata": {
    "execution": {
     "iopub.execute_input": "2024-05-14T19:16:10.074683Z",
     "iopub.status.busy": "2024-05-14T19:16:10.074086Z",
     "iopub.status.idle": "2024-05-14T19:16:10.082038Z",
     "shell.execute_reply": "2024-05-14T19:16:10.080747Z",
     "shell.execute_reply.started": "2024-05-14T19:16:10.074623Z"
    }
   },
   "outputs": [],
   "source": [
    "import pyspark.sql.functions as F"
   ]
  },
  {
   "cell_type": "code",
   "execution_count": 4,
   "id": "016bd923-fd18-4d9f-b0d9-c17f7ae420f8",
   "metadata": {
    "execution": {
     "iopub.execute_input": "2024-05-14T19:16:10.084346Z",
     "iopub.status.busy": "2024-05-14T19:16:10.083784Z",
     "iopub.status.idle": "2024-05-14T19:16:46.537191Z",
     "shell.execute_reply": "2024-05-14T19:16:46.535490Z",
     "shell.execute_reply.started": "2024-05-14T19:16:10.084293Z"
    }
   },
   "outputs": [],
   "source": [
    "wiki_1 = spark.read.parquet(\n",
    "    \"pageviews_parquet/*\"\n",
    ")\n",
    "\n",
    "wiki_2 = spark.read.parquet(\n",
    "    'pageviews_parquet_repeat/*'\n",
    ")\n",
    "\n",
    "wiki = wiki_1.union(wiki_2)"
   ]
  },
  {
   "cell_type": "code",
   "execution_count": 5,
   "id": "e3f60bef-a411-45d3-b913-cc13e5f8ebd8",
   "metadata": {
    "execution": {
     "iopub.execute_input": "2024-05-14T19:16:46.541655Z",
     "iopub.status.busy": "2024-05-14T19:16:46.540708Z",
     "iopub.status.idle": "2024-05-14T19:16:46.553000Z",
     "shell.execute_reply": "2024-05-14T19:16:46.551232Z",
     "shell.execute_reply.started": "2024-05-14T19:16:46.541595Z"
    }
   },
   "outputs": [],
   "source": [
    "items = [\n",
    "    \"95th_Academy_Awards\",\n",
    "    \"Everything_Everywhere_All_at_Once\",\n",
    "    \"Michelle_Yeoh\",\n",
    "    \"Ke_Huy_Quan\",\n",
    "    \"Jamie_Lee_Curtis\",\n",
    "    \"A24\",\n",
    "    \"All_Quiet_on_the_Western_Front_(2022_film)\",\n",
    "    \"The_Whale_(2022_film)\",\n",
    "    \"Avatar:_The_Way_of_Water\",\n",
    "    \"Black_Panther:_Wakanda_Forever\",\n",
    "    \"The_Boy,_the_Mole,_the_Fox_and_the_Horse_(film)\",\n",
    "    \"The_Elephant_Whisperers\",\n",
    "    \"An_Irish_Goodbye\",\n",
    "    \"Navalny_(film)\",\n",
    "    \"RRR\",\n",
    "    \"Top_Gun:_Maverick\",\n",
    "    \"Women_Talking_(film)\",\n",
    "    \"Daniels_(directors)\",\n",
    "    \"Brendan_Fraser\",\n",
    "    \"Hauschka\",\n",
    "    \"Charlie_Mackesy\",\n",
    "    \"M._M._Keeravani\",\n",
    "    \"Sarah_Polley\",\n",
    "    \"Miriam_Toews\",\n",
    "    \"Guillermo_del_Toro\",\n",
    "    \"Mark_Gustafson\",\n",
    "    \"Alex_Bulkley\",\n",
    "    \"Edward_Berger\",\n",
    "    \"Daniel_Roher\",\n",
    "    \"Odessa_Rae\",\n",
    "    \"Shane_Boris\",\n",
    "    \"Kartiki_Gonsalves\",\n",
    "    \"Guneet_Monga\",\n",
    "    \"Chandrabose_(lyricist)\",\n",
    "    \"James_Mather_(sound_editor)\",\n",
    "    \"Al_Nelson_(sound_engineer)\",\n",
    "    \"Chris_Burdon\",\n",
    "    \"Christian_M._Goldbeck\",\n",
    "    \"Ernestine_Hipper\",\n",
    "    \"James_Friend\",\n",
    "    \"Adrien_Morot\",\n",
    "    \"Judy_Chin\",\n",
    "    \"Annemarie_Bradley\",\n",
    "    \"Ruth_E._Carter\",\n",
    "    \"Paul_Rogers_(film_editor)\",\n",
    "    \"Joe_Letteri\",\n",
    "    \"Richard_Baneham\",\n",
    "    \"Eric_Saindon\",\n",
    "    \"Daniel_Barrett_(visual_effects_supervisor)\",\n",
    "    \"Guillermo_del_Toro's_Pinocchio\"\n",
    "]"
   ]
  },
  {
   "cell_type": "code",
   "execution_count": 6,
   "id": "83808931-bb46-42bd-9eec-f9fe0d6ccc58",
   "metadata": {
    "execution": {
     "iopub.execute_input": "2024-05-14T19:16:46.555349Z",
     "iopub.status.busy": "2024-05-14T19:16:46.554842Z",
     "iopub.status.idle": "2024-05-14T19:16:47.349549Z",
     "shell.execute_reply": "2024-05-14T19:16:47.347920Z",
     "shell.execute_reply.started": "2024-05-14T19:16:46.555304Z"
    }
   },
   "outputs": [],
   "source": [
    "oscars_daily = (wiki\n",
    " .select(\n",
    "     F.col('_c1').alias('title'),\n",
    "     F.col('_c2').alias('pageid'),\n",
    "     F.col('_c3').alias('mode'),\n",
    "     F.col('_c4').cast('int').alias('daily_count'),\n",
    "     F.col('_c5').alias('hourly_counts'),\n",
    "     F.to_date(F.regexp_substr(F.col('filename'),\n",
    "                               F.lit(r\"\\b\\d{8}\\b\")\n",
    "                              ), 'yyyyMMdd').alias('date')\n",
    " ).filter((F.col('_c0')=='en.wikipedia') & (F.col('_c1').isin(items)))\n",
    "  .dropDuplicates()\n",
    ").cache()"
   ]
  },
  {
   "cell_type": "code",
   "execution_count": 7,
   "id": "31e0f16f-d026-4736-b5e3-c43ea2240e37",
   "metadata": {
    "execution": {
     "iopub.execute_input": "2024-05-14T19:16:47.352884Z",
     "iopub.status.busy": "2024-05-14T19:16:47.351510Z",
     "iopub.status.idle": "2024-05-14T19:40:00.128261Z",
     "shell.execute_reply": "2024-05-14T19:40:00.126789Z",
     "shell.execute_reply.started": "2024-05-14T19:16:47.352824Z"
    }
   },
   "outputs": [],
   "source": [
    "oscars_daily.write.parquet(\n",
    "            'oscars',\n",
    "            mode='overwrite'\n",
    "        )"
   ]
  },
  {
   "cell_type": "code",
   "execution_count": 8,
   "id": "544bab3e-27ce-4d5b-95a4-aed7cd0f677e",
   "metadata": {
    "execution": {
     "iopub.execute_input": "2024-05-15T02:21:54.240878Z",
     "iopub.status.busy": "2024-05-15T02:21:54.240129Z",
     "iopub.status.idle": "2024-05-15T02:21:55.347735Z",
     "shell.execute_reply": "2024-05-15T02:21:55.346103Z",
     "shell.execute_reply.started": "2024-05-15T02:21:54.240798Z"
    }
   },
   "outputs": [],
   "source": [
    "spark.stop()"
   ]
  }
 ],
 "metadata": {
  "kernelspec": {
   "display_name": "Python 3 (ipykernel)",
   "language": "python",
   "name": "python3"
  },
  "language_info": {
   "codemirror_mode": {
    "name": "ipython",
    "version": 3
   },
   "file_extension": ".py",
   "mimetype": "text/x-python",
   "name": "python",
   "nbconvert_exporter": "python",
   "pygments_lexer": "ipython3",
   "version": "3.11.8"
  }
 },
 "nbformat": 4,
 "nbformat_minor": 5
}
