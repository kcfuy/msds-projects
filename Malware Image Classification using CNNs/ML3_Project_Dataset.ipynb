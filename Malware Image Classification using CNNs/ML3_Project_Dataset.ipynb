{
 "cells": [
  {
   "cell_type": "markdown",
   "id": "75f353b1-53fc-413f-93b0-2b0b4204dce4",
   "metadata": {
    "execution": {
     "iopub.execute_input": "2024-06-12T09:11:43.629484Z",
     "iopub.status.busy": "2024-06-12T09:11:43.629318Z",
     "iopub.status.idle": "2024-06-12T09:11:43.633868Z",
     "shell.execute_reply": "2024-06-12T09:11:43.633447Z",
     "shell.execute_reply.started": "2024-06-12T09:11:43.629470Z"
    }
   },
   "source": [
    "Please download the dataset from this <a href=\"https://aimedu.sharepoint.com/:u:/s/CapstoneTeam563/ETCqJZQwfa1CibDllUWaPEUBZu607_r1ZZabsiPzj71qQA?e=iy6wGU\">link</a>"
   ]
  },
  {
   "cell_type": "code",
   "execution_count": null,
   "id": "6edb9cee-f537-4a16-bf2b-d57dc9edc16c",
   "metadata": {},
   "outputs": [],
   "source": [
    "import os\n",
    "import shutil\n",
    "import numpy as np\n",
    "\n",
    "# Set the paths\n",
    "original_data_dir = 'malimg_paper_dataset_imgs'\n",
    "new_data_dir = 'malimg'\n",
    "train_dir = os.path.join(new_data_dir, 'train')\n",
    "val_dir = os.path.join(new_data_dir, 'validation')\n",
    "test_dir = os.path.join(new_data_dir, 'test')\n",
    "\n",
    "# Create the new directory structure\n",
    "for dir_path in [train_dir, val_dir, test_dir]:\n",
    "    os.makedirs(dir_path, exist_ok=True)\n",
    "\n",
    "# Define the overall dataset size percentage to use\n",
    "overall_percentage = 1\n",
    "\n",
    "# Define the split ratios\n",
    "val_split = 0.2\n",
    "test_split = 0.1\n",
    "\n",
    "# Split the data\n",
    "for class_name in os.listdir(original_data_dir):\n",
    "    class_path = os.path.join(original_data_dir, class_name)\n",
    "    \n",
    "    # Ensure the class is a directory\n",
    "    if not os.path.isdir(class_path):\n",
    "        continue\n",
    "    \n",
    "    images = os.listdir(class_path)\n",
    "    np.random.shuffle(images)\n",
    "    \n",
    "    # Select 20% of the images from each class directory\n",
    "    selected_images_count = int(len(images) * overall_percentage)\n",
    "    selected_images = images[:selected_images_count]\n",
    "    \n",
    "    # Calculate the split indices for the selected images\n",
    "    train_end_idx = int(len(selected_images) * (1 - val_split - test_split))\n",
    "    val_end_idx = int(len(selected_images) * (1 - test_split))\n",
    "    \n",
    "    train_images = selected_images[:train_end_idx]\n",
    "    val_images = selected_images[train_end_idx:val_end_idx]\n",
    "    test_images = selected_images[val_end_idx:]\n",
    "    \n",
    "    # Create class directories in the new data structure\n",
    "    for img_set, img_set_dir in zip([train_images, val_images, test_images], [train_dir, val_dir, test_dir]):\n",
    "        class_target_dir = os.path.join(img_set_dir, class_name)\n",
    "        os.makedirs(class_target_dir, exist_ok=True)\n",
    "        \n",
    "        # Copy images to their respective directories\n",
    "        for img_name in img_set:\n",
    "            src = os.path.join(class_path, img_name)\n",
    "            dst = os.path.join(class_target_dir, img_name)\n",
    "            shutil.copy(src, dst)\n",
    "\n",
    "print(\"Data has been split into train, validation, and test sets in a stratified manner.\")"
   ]
  }
 ],
 "metadata": {
  "kernelspec": {
   "display_name": "Python 3 (ipykernel)",
   "language": "python",
   "name": "python3"
  },
  "language_info": {
   "codemirror_mode": {
    "name": "ipython",
    "version": 3
   },
   "file_extension": ".py",
   "mimetype": "text/x-python",
   "name": "python",
   "nbconvert_exporter": "python",
   "pygments_lexer": "ipython3",
   "version": "3.10.12"
  }
 },
 "nbformat": 4,
 "nbformat_minor": 5
}
