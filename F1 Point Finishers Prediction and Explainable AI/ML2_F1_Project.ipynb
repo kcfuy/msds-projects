{
 "cells": [
  {
   "cell_type": "markdown",
   "id": "3db4d5c7-f12b-42ca-9051-17b515ffc9dd",
   "metadata": {},
   "source": [
    "# IMPORT DATASET"
   ]
  },
  {
   "cell_type": "code",
   "execution_count": null,
   "id": "5eadda5b-7292-4ce2-9e9c-2a74e0b7e605",
   "metadata": {
    "tags": []
   },
   "outputs": [],
   "source": [
    "import pandas as pd\n",
    "import matplotlib.pyplot as plt\n",
    "import requests\n",
    "from bs4 import BeautifulSoup\n",
    "import sqlite3\n",
    "import pickle\n",
    "from xgboost import XGBRegressor\n",
    "from sklearn.ensemble import RandomForestRegressor, GradientBoostingRegressor\n",
    "from sklearn.linear_model import LinearRegression\n",
    "import numpy as np\n",
    "import re\n",
    "from itertools import product\n",
    "\n",
    "# XAI\n",
    "import shap\n",
    "import dice_ml\n",
    "from dice_ml import Data, Model, Dice\n",
    "from dice_ml.explainer_interfaces import dice_tensorflow2\n",
    "from lime.lime_tabular import LimeTabularExplainer"
   ]
  },
  {
   "cell_type": "code",
   "execution_count": null,
   "id": "8a8d177a-fc39-4cb8-bc28-962ca5027eb5",
   "metadata": {
    "tags": []
   },
   "outputs": [],
   "source": [
    "conn = sqlite3.connect('formula_1.sql')"
   ]
  },
  {
   "cell_type": "code",
   "execution_count": null,
   "id": "9d7ddd31-8d7b-4fbf-b4c4-043ebc59b4ed",
   "metadata": {
    "tags": []
   },
   "outputs": [],
   "source": [
    "races_by_year = {\n",
    "    '2022': [\n",
    "        {\"race_id\": \"1124/bahrain\", \"sessions\": ['1', '2', '3'], 'race_name': 'Bahrain Grand Prix'},\n",
    "        {\"race_id\": \"1125/saudi-arabia\", \"sessions\": ['1', '2', '3'], 'race_name': 'Saudi Arabian Grand Prix'},\n",
    "        {\"race_id\": \"1108/australia\", \"sessions\": ['1', '2', '3'], 'race_name': 'Australian Grand Prix'},\n",
    "        {\"race_id\": \"1109/italy\", \"sessions\": ['1', '2'], 'race_name': 'Emilia Romagna Grand Prix'},\n",
    "        {\"race_id\": \"1110/miami\", \"sessions\": ['1', '2', '3'], 'race_name': 'Miami Grand Prix'},\n",
    "        {\"race_id\": \"1111/spain\", \"sessions\": ['1', '2', '3'], 'race_name': 'Spanish Grand Prix'},\n",
    "        {\"race_id\": \"1112/monaco\", \"sessions\": ['1', '2', '3'], 'race_name': 'Monaco Grand Prix'},\n",
    "        {\"race_id\": \"1126/azerbaijan\", \"sessions\": ['1', '2', '3'], 'race_name': 'Azerbaijan Grand Prix'},\n",
    "        {\"race_id\": \"1113/canada\", \"sessions\": ['1', '2', '3'], 'race_name': 'Canadian Grand Prix'},\n",
    "        {\"race_id\": \"1114/great-britain\", \"sessions\": ['1', '2', '3'], 'race_name': 'British Grand Prix'},\n",
    "        {\"race_id\": \"1115/austria\", \"sessions\": ['1', '2'], 'race_name': 'Austrian Grand Prix'},\n",
    "        {\"race_id\": \"1116/france\", \"sessions\": ['1', '2', '3'], 'race_name': 'French Grand Prix'},\n",
    "        {\"race_id\": \"1117/hungary\", \"sessions\": ['1', '2', '3'], 'race_name': 'Hungarian Grand Prix'},\n",
    "        {\"race_id\": \"1118/belgium\", \"sessions\": ['1', '2', '3'], 'race_name': 'Belgian Grand Prix'},\n",
    "        {\"race_id\": \"1119/netherlands\", \"sessions\": ['1', '2', '3'], 'race_name': 'Dutch Grand Prix'},\n",
    "        {\"race_id\": \"1120/italy\", \"sessions\": ['1', '2', '3'], 'race_name': 'Italian Grand Prix'},\n",
    "        {\"race_id\": \"1133/singapore\", \"sessions\": ['1', '2', '3'], 'race_name': 'Singapore Grand Prix'},\n",
    "        {\"race_id\": \"1134/japan\", \"sessions\": ['1', '2', '3'], 'race_name': 'Japanese Grand Prix'},\n",
    "        {\"race_id\": \"1135/united-states\", \"sessions\": ['1', '2', '3'], 'race_name': 'United States Grand Prix'},\n",
    "        {\"race_id\": \"1136/mexico\", \"sessions\": ['1', '2', '3'], 'race_name': 'Mexico City Grand Prix'},\n",
    "        {\"race_id\": \"1137/brazil\", \"sessions\": ['1', '2'], 'race_name': 'Brazilian Grand Prix'},\n",
    "        {\"race_id\": \"1138/abu-dhabi\", \"sessions\": ['1', '2', '3'], 'race_name': 'Abu Dhabi Grand Prix'}\n",
    "    ],\n",
    "    '2023': [\n",
    "        {\"race_id\": \"1141/bahrain\", \"sessions\": ['1', '2', '3'], 'race_name': 'Bahrain Grand Prix'},\n",
    "        {\"race_id\": \"1142/saudi-arabia\", \"sessions\": ['1', '2', '3'], 'race_name': 'Saudi Arabian Grand Prix'},\n",
    "        {\"race_id\": \"1143/australia\", \"sessions\": ['1', '2', '3'], 'race_name': 'Australian Grand Prix'},\n",
    "        {\"race_id\": \"1207/azerbaijan\", \"sessions\": ['1'], 'race_name': 'Azerbaijan Grand Prix'},\n",
    "        {\"race_id\": \"1208/miami\", \"sessions\": ['1', '2', '3'], 'race_name': 'Miami Grand Prix'},\n",
    "        #{\"race_id\": \"1209/italy\", \"sessions\": ['1', '2', '3']},\n",
    "        {\"race_id\": \"1210/monaco\", \"sessions\": ['1', '2', '3'], 'race_name': 'Monaco Grand Prix'},\n",
    "        {\"race_id\": \"1211/spain\", \"sessions\": ['1', '2', '3'], 'race_name': 'Spanish Grand Prix'},\n",
    "        {\"race_id\": \"1212/canada\", \"sessions\": ['1', '2', '3'], 'race_name': 'Canadian Grand Prix'},\n",
    "        {\"race_id\": \"1213/austria\", \"sessions\": ['1'], 'race_name': 'Austrian Grand Prix'},\n",
    "        {\"race_id\": \"1214/great-britain\", \"sessions\": ['1', '2', '3'], 'race_name': 'British Grand Prix'},\n",
    "        {\"race_id\": \"1215/hungary\", \"sessions\": ['1', '2', '3'], 'race_name': 'Hungarian Grand Prix'},\n",
    "        {\"race_id\": \"1216/belgium\", \"sessions\": ['1'], 'race_name': 'Belgian Grand Prix'},\n",
    "        {\"race_id\": \"1217/netherlands\", \"sessions\": ['1', '2', '3'], 'race_name': 'Dutch Grand Prix'},\n",
    "        {\"race_id\": \"1218/italy\", \"sessions\": ['1', '2', '3'], 'race_name': 'Italian Grand Prix'},\n",
    "        {\"race_id\": \"1219/singapore\", \"sessions\": ['1', '2', '3'], 'race_name': 'Singapore Grand Prix'},\n",
    "        {\"race_id\": \"1220/japan\", \"sessions\": ['1', '2', '3'], 'race_name': 'Japanese Grand Prix'},\n",
    "        {\"race_id\": \"1221/qatar\", \"sessions\": ['1'], 'race_name': 'Qatar Grand Prix'},\n",
    "        {\"race_id\": \"1222/united-states\", \"sessions\": ['1'], 'race_name': 'United States Grand Prix'},\n",
    "        {\"race_id\": \"1223/mexico\", \"sessions\": ['1', '2', '3'], 'race_name': 'Mexico City Grand Prix'},\n",
    "        {\"race_id\": \"1224/brazil\", \"sessions\": ['1'], 'race_name': 'Brazilian Grand Prix'},\n",
    "        {\"race_id\": \"1225/las-vegas\", \"sessions\": ['1', '2', '3'], 'race_name': 'Las Vegas Grand Prix'},\n",
    "        {\"race_id\": \"1226/abu-dhabi\", \"sessions\": ['1', '2', '3'], 'race_name': 'Abu Dhabi Grand Prix'}\n",
    "    ]\n",
    "}\n",
    "\n",
    "def scrape_f1_results(url):\n",
    "    \"\"\"\n",
    "    Scrape F1 results from a given URL for different years and races.\n",
    "    \n",
    "    Parameters\n",
    "    ----------\n",
    "    url: The base URL to fetch data from.\n",
    "    \n",
    "    Returns\n",
    "    -------\n",
    "    - A DataFrame containing the practice session results for all specified races.\n",
    "    \"\"\"\n",
    "    all_results_df = pd.DataFrame()\n",
    "    \n",
    "    for year, races in races_by_year.items():\n",
    "        for race in races:\n",
    "            race_id_split, location = race[\"race_id\"].split('/')\n",
    "            for practice_session in race[\"sessions\"]:\n",
    "                full_url = f\"{url}/{year}/races/{race_id_split}/{location}/practice-{practice_session}.html\"\n",
    "                # print(f\"Fetching data from {full_url}\")\n",
    "                \n",
    "                try:\n",
    "                    response = requests.get(full_url)\n",
    "                    response.raise_for_status()\n",
    "                    \n",
    "                    html_content = response.text\n",
    "                    soup = BeautifulSoup(html_content, 'html.parser')\n",
    "                    \n",
    "                    table = soup.find('table', class_='resultsarchive-table')\n",
    "                    if table:\n",
    "                        rows = table.find_all('tr')\n",
    "                        columns = ['Year', 'Location', 'Session', 'Pos', 'No', 'Driver', 'Car', 'Time', 'Gap', 'Laps', 'Racename']\n",
    "                        data = []\n",
    "                        \n",
    "                        for row in rows[1:]:\n",
    "                            cols = row.find_all('td')\n",
    "                            row_data = [col.get_text(strip=True) for col in cols][1:-1]  # Assume trimming is needed\n",
    "                            row_data.insert(0, practice_session)\n",
    "                            row_data.insert(0, location)\n",
    "                            row_data.insert(0, year)\n",
    "                            row_data.append(race['race_name'])\n",
    "                            data.append(row_data)\n",
    "                        \n",
    "                        df = pd.DataFrame(data, columns=columns)\n",
    "                        all_results_df = pd.concat([all_results_df, df], ignore_index=True)\n",
    "                    else:\n",
    "                        print(f\"Table not found for {year}, {location}, Practice {practice_session}\")\n",
    "                except requests.exceptions.RequestException as e:\n",
    "                    print(f\"Request failed: {e}\")\n",
    "\n",
    "    return all_results_df\n",
    "\n",
    "\n",
    "df_all_practice = scrape_f1_results('https://www.formula1.com/en/results.html')\n",
    "df_all_practice['driverCode'] = df_all_practice['Driver'].str[-3:]\n",
    "df_all_practice['driverName'] = df_all_practice['Driver'].str[:-3]\n",
    "df_all_practice['Pos'] = pd.to_numeric(df_all_practice['Pos'])\n",
    "df_all_practice['Session'] = pd.to_numeric(df_all_practice['Session'])\n",
    "df_all_practice['Year'] = pd.to_numeric(df_all_practice['Year'])\n",
    "df_all_practice.to_sql('freePracticeRanking', conn, if_exists='replace', index=False)"
   ]
  },
  {
   "cell_type": "code",
   "execution_count": null,
   "id": "d68336fa-06d8-48c8-b369-0ae8025153d1",
   "metadata": {
    "tags": []
   },
   "outputs": [],
   "source": [
    "pd.read_csv('formula_one/circuits.csv').to_sql('circuits', conn, index=False, if_exists='replace')\n",
    "pd.read_csv('formula_one/constructor_results.csv').to_sql('constructor_results', conn, index=False, if_exists='replace')\n",
    "pd.read_csv('formula_one/constructor_standings.csv').to_sql('constructor_standings', conn, index=False, if_exists='replace')\n",
    "pd.read_csv('formula_one/constructors.csv').to_sql('constructors', conn, index=False, if_exists='replace')\n",
    "pd.read_csv('formula_one/driver_standings.csv').to_sql('driver_standing', conn, index=False, if_exists='replace')\n",
    "pd.read_csv('formula_one/drivers.csv').to_sql('drivers', conn, index=False, if_exists='replace')\n",
    "pd.read_csv('formula_one/lap_times.csv').to_sql('lap_times', conn, index=False, if_exists='replace')\n",
    "pd.read_csv('formula_one/pit_stops.csv').to_sql('pit_stops', conn, index=False, if_exists='replace')\n",
    "pd.read_csv('formula_one/qualifying.csv').to_sql('qualifying', conn, index=False, if_exists='replace')\n",
    "pd.read_csv('formula_one/races.csv').to_sql('races', conn, index=False, if_exists='replace')\n",
    "pd.read_csv('formula_one/results.csv').to_sql('results', conn, index=False, if_exists='replace')\n",
    "pd.read_csv('formula_one/seasons.csv').to_sql('seasons', conn, index=False, if_exists='replace')\n",
    "pd.read_csv('formula_one/sprint_results.csv').to_sql('sprint_results', conn, index=False, if_exists='replace')\n",
    "pd.read_csv('formula_one/status.csv').to_sql('status', conn, index=False, if_exists='replace')"
   ]
  },
  {
   "cell_type": "code",
   "execution_count": null,
   "id": "b439116b-4535-4257-bc98-48b312255832",
   "metadata": {},
   "outputs": [],
   "source": [
    "def get_distances():\n",
    "    \"\"\"\n",
    "    Return track distances\n",
    "    \"\"\"\n",
    "    track_distances = []\n",
    "    df_track = pd.read_csv('formula_one/circuits.csv')\n",
    "    df_track = df_track.copy()\n",
    "    for i, url in enumerate(df_track['url']):\n",
    "        try:\n",
    "            response = requests.get(url).text\n",
    "            soup = BeautifulSoup(response)\n",
    "            text = (soup\n",
    "                    .find_all('table', class_='infobox vcard')[0]\n",
    "                    .find_all('th', string=lambda text: 'Length' in text if text else False)[0]\n",
    "                    .find_next_sibling()\n",
    "                    ).text\n",
    "            track_distances.append(text)\n",
    "        except:\n",
    "            text = None\n",
    "            track_distances.append(text)\n",
    "\n",
    "    distance_copy = track_distances.copy()\n",
    "    distances = ['6.201', '6.201', '3.186']\n",
    "    counter = 0\n",
    "    for i, distance in enumerate(distance_copy):\n",
    "        if (distance == None) | (distance == 'Surface\\n'):\n",
    "            distance_copy[i] = distances[counter]\n",
    "            counter += 1\n",
    "    distance_copy = [float(x[:5]) for x in distance_copy]\n",
    "    df_track['track_km_distance'] = distance_copy\n",
    "    return df_track\n",
    "\n",
    "distances = get_distances()\n",
    "distances.to_sql('circuitsNew', conn, if_exists='replace', index=False)"
   ]
  },
  {
   "cell_type": "markdown",
   "id": "60697796-1638-42fd-a25a-ce5fc21b35ab",
   "metadata": {},
   "source": [
    "# EXTRACT FROM SQL"
   ]
  },
  {
   "cell_type": "code",
   "execution_count": null,
   "id": "9224cd64-dfb2-4d8a-b9b5-17e67dad595b",
   "metadata": {
    "tags": []
   },
   "outputs": [],
   "source": [
    "df_sql = pd.read_sql(\n",
    "    \"\"\"\n",
    "    SELECT\n",
    "        re.resultId,\n",
    "        re.raceId,\n",
    "        ra.year,\n",
    "        ra.date,\n",
    "        ra.circuitId,\n",
    "        ci.circuitRef,\n",
    "        ci.name as circuitName,\n",
    "        ra.name as raceName,\n",
    "        re.driverId,\n",
    "        d.forename,\n",
    "        d.surname,\n",
    "        d.driverRef,\n",
    "        d.code,\n",
    "        re.constructorId,\n",
    "        c.name as constructorName,\n",
    "        re.positionOrder,\n",
    "        q.position as qualifyingPosition,\n",
    "        re.rank as fastestLapRank,\n",
    "        ds.points as dsPoints,\n",
    "        ds.position as dsPosition,\n",
    "        ds.wins as driverWins,\n",
    "        cs.points as constructorPoints,\n",
    "        cs.position as constructorPosition,\n",
    "        cs.wins as constructorWins,\n",
    "        lap.average_position as aveLapPosition,\n",
    "        ci.track_km_distance / (lap.total_lap_time / lap.total_laps) as aveLapSpeed,\n",
    "        ci.track_km_distance,\n",
    "        q.q1,\n",
    "        q.q2,\n",
    "        q.q3,\n",
    "        fp.Time as fpTime,\n",
    "        s.statusId\n",
    "        \n",
    "    FROM\n",
    "        results re\n",
    "    LEFT JOIN\n",
    "        races ra USING(raceId)\n",
    "    LEFT JOIN\n",
    "        drivers d USING(driverId)\n",
    "    LEFT JOIN\n",
    "        driver_standing ds USING(raceId, driverId)\n",
    "    LEFT JOIN\n",
    "        constructors c USING(constructorId)\n",
    "    LEFT JOIN\n",
    "        constructor_standings cs USING(constructorId, raceId)\n",
    "    LEFT JOIN\n",
    "        qualifying q USING(raceId, driverId)\n",
    "    LEFT JOIN\n",
    "        circuitsNew ci USING(circuitId)\n",
    "    LEFT JOIN\n",
    "        status s USING(statusId)\n",
    "    LEFT JOIN\n",
    "        (\n",
    "            SELECT\n",
    "                driverCode,\n",
    "                Racename,\n",
    "                Year,\n",
    "                Pos,\n",
    "                Time,\n",
    "                MAX(Session)\n",
    "            FROM\n",
    "                freePracticeRanking \n",
    "            GROUP BY\n",
    "                1,2,3\n",
    "        ) fp ON (fp.driverCode = d.code AND fp.Racename = ra.name AND fp.Year = ra.year)\n",
    "    LEFT JOIN\n",
    "        (\n",
    "            SELECT\n",
    "                l.raceId,\n",
    "                l.driverId,\n",
    "                SUM(l.milliseconds)/60000 as total_lap_time,\n",
    "                AVG(l.position) as average_position,\n",
    "                COUNT(l.lap) as total_laps\n",
    "            FROM\n",
    "                lap_times l\n",
    "            LEFT JOIN\n",
    "                races r USING(raceId)\n",
    "            WHERE\n",
    "                year > 2021\n",
    "            GROUP BY\n",
    "                1,2\n",
    "        ) lap USING(raceId, driverId)    \n",
    "    WHERE ra.year > 2021\n",
    "    AND d.driverRef not in ('vettel', 'mick_schumacher', 'latifi', 'lawson', 'de_vries')\n",
    "    AND s.statusId in (1, 11, 12, 16)\n",
    "    ORDER BY\n",
    "        3, 2, 7\n",
    "    \"\"\",\n",
    "    conn\n",
    ")"
   ]
  },
  {
   "cell_type": "code",
   "execution_count": null,
   "id": "91736f89-6478-46ff-b989-7d505dee5439",
   "metadata": {
    "tags": []
   },
   "outputs": [],
   "source": [
    "def convert_to_timedelta(time_str):\n",
    "    # Check if the time_str is a string\n",
    "    if not isinstance(time_str, str):\n",
    "        return pd.NaT  # Return Not-A-Time for non-strings\n",
    "    \n",
    "    # Check if time_str matches the expected format 'mm:ss.xxx'\n",
    "    match = re.match(r'^(\\d+):(\\d+\\.\\d+)$', time_str)\n",
    "    if match:\n",
    "        # Prepend '00:' to match 'hh:mm:ss.xxx' format expected by to_timedelta\n",
    "        time_str_formatted = '00:' + time_str\n",
    "    else:\n",
    "        # If not matching, return Not-A-Time\n",
    "        return pd.NaT\n",
    "    \n",
    "    try:\n",
    "        # Attempt to convert the formatted string to a timedelta\n",
    "        return pd.to_timedelta(time_str_formatted).total_seconds()/60\n",
    "    except ValueError:\n",
    "        # In case of ValueError, return Not-A-Time\n",
    "        return pd.NaT"
   ]
  },
  {
   "cell_type": "code",
   "execution_count": null,
   "id": "9c43f96d-3c5f-496e-b6db-c2d9872159a9",
   "metadata": {
    "tags": []
   },
   "outputs": [],
   "source": [
    "df_sql['q1_time'] = df_sql['q1'].apply(convert_to_timedelta)\n",
    "df_sql['q2_time'] = df_sql['q2'].apply(convert_to_timedelta)\n",
    "df_sql['q3_time'] = df_sql['q3'].apply(convert_to_timedelta)\n",
    "df_sql['fp_time'] = df_sql['fpTime'].apply(convert_to_timedelta)\n",
    "df_sql['impute_time'] = df_sql[['q1_time', 'q2_time', 'q3_time', 'fp_time']].mean(axis=1)\n",
    "df_sql['impute_speed'] = np.divide(df_sql['track_km_distance'], df_sql['impute_time'])\n",
    "df_sql = df_sql.drop(columns=['q1', 'q2', 'q3', 'q1_time', 'q2_time', 'q3_time', 'fp_time', 'fpTime'])"
   ]
  },
  {
   "cell_type": "code",
   "execution_count": null,
   "id": "a9c2c1d6-b1f4-446a-9ce5-be68ac7a4494",
   "metadata": {
    "tags": []
   },
   "outputs": [],
   "source": [
    "df_sql"
   ]
  },
  {
   "cell_type": "markdown",
   "id": "b853bca6-bdf8-4cc3-b270-61bb4b66f9a3",
   "metadata": {},
   "source": [
    "# DATA PREPROCESSING"
   ]
  },
  {
   "cell_type": "code",
   "execution_count": null,
   "id": "696392cb-2003-4d04-95b3-17d45b61b3b8",
   "metadata": {
    "tags": []
   },
   "outputs": [],
   "source": [
    "driver_dict = {}\n",
    "for driver in df_sql.groupby('driverId'):\n",
    "    driver_dict[driver[1].driverRef.unique()[0]] = driver[1].set_index('raceId').sort_index().copy()"
   ]
  },
  {
   "cell_type": "code",
   "execution_count": null,
   "id": "37631fc5-9c3e-4ab1-a9b6-ea95f818a320",
   "metadata": {
    "tags": []
   },
   "outputs": [],
   "source": [
    "def create_features(df):\n",
    "    df['fastestLapRank'] = pd.to_numeric(df['fastestLapRank'])\n",
    "    if any(np.isnan(df['aveLapPosition'])):\n",
    "        idx = np.where(np.isnan(df['aveLapPosition']))[0]\n",
    "        for i in idx:\n",
    "            df.iloc[i,23] = df.iloc[i,15]\n",
    "    if any(np.isnan(df['aveLapSpeed'])):\n",
    "        idx = np.where(np.isnan(df['aveLapSpeed']))[0]\n",
    "        for i in idx:\n",
    "            df.iloc[i,24] = df.iloc[i,-1]\n",
    "    df_race = df.sort_index()\n",
    "    for i in range(1,6):\n",
    "        df_race[str(i)+'LagPosition'] = df_race['positionOrder'].shift(i)\n",
    "        df_race[str(i)+'LagQPos'] = df_race['qualifyingPosition'].shift(i)\n",
    "    df_race[\n",
    "        [\n",
    "            '1Lag_dsPoints',\n",
    "            '1Lag_dsPosition',\n",
    "            '1Lag_driverWins',\n",
    "            '1Lag_constructorPoints',\n",
    "            '1Lag_constructorPosition',\n",
    "            '1Lag_constructorWins',\n",
    "            '1Lag_aveLapPosition',\n",
    "            '1Lag_aveLapSpeed',\n",
    "            '1Lag_fastestLapRank'\n",
    "        ]\n",
    "    ] = df_race[\n",
    "        [\n",
    "            'dsPoints',\n",
    "            'dsPosition',\n",
    "            'driverWins',\n",
    "            'constructorPoints',\n",
    "            'constructorPosition',\n",
    "            'constructorWins',\n",
    "            'aveLapPosition',\n",
    "            'aveLapSpeed',\n",
    "            'fastestLapRank'\n",
    "        ]\n",
    "    ].shift(1)\n",
    "    df_res = df_race.dropna()\n",
    "    return df_race, df_res[\n",
    "        [\n",
    "            'positionOrder',\n",
    "            '1Lag_dsPoints',\n",
    "            '1Lag_dsPosition',\n",
    "            '1Lag_driverWins',\n",
    "            '1Lag_constructorPoints',\n",
    "            '1Lag_constructorPosition',\n",
    "            '1Lag_constructorWins',\n",
    "            '1Lag_aveLapPosition',\n",
    "            '1Lag_aveLapSpeed',\n",
    "            '1Lag_fastestLapRank',\n",
    "            'qualifyingPosition',\n",
    "            # 'fpPosition',\n",
    "            '1LagPosition',\n",
    "            '2LagPosition',\n",
    "            '3LagPosition',\n",
    "            '4LagPosition',\n",
    "            '5LagPosition',\n",
    "            '1LagQPos',\n",
    "            '2LagQPos',\n",
    "            '3LagQPos',\n",
    "            '4LagQPos',\n",
    "            '5LagQPos'\n",
    "        ]\n",
    "    ]"
   ]
  },
  {
   "cell_type": "code",
   "execution_count": null,
   "id": "ec7bbbb2-35d5-41af-a109-8a433ef4ef40",
   "metadata": {
    "tags": []
   },
   "outputs": [],
   "source": [
    "complete_data = {}\n",
    "dataset = {}\n",
    "for driver, df in driver_dict.items():\n",
    "    complete_data[driver], dataset[driver] = create_features(df.copy())"
   ]
  },
  {
   "cell_type": "code",
   "execution_count": null,
   "id": "13ed6abc-9388-4eea-85d6-fd02741f116d",
   "metadata": {
    "tags": []
   },
   "outputs": [],
   "source": [
    "df_drivers = pd.read_sql(\n",
    "    f\"\"\"\n",
    "    SELECT\n",
    "        *\n",
    "    FROM\n",
    "        drivers\n",
    "    WHERE\n",
    "        driverRef in {tuple(dataset.keys())}\n",
    "    \"\"\",\n",
    "    conn\n",
    ").set_index('driverRef')"
   ]
  },
  {
   "cell_type": "markdown",
   "id": "5fc32ddd-f02f-43d7-8bf4-2a7fc3986527",
   "metadata": {},
   "source": [
    "# BASELINE"
   ]
  },
  {
   "cell_type": "code",
   "execution_count": null,
   "id": "9525f5b1-d4e0-444f-b5f6-706778c0a41e",
   "metadata": {
    "tags": []
   },
   "outputs": [],
   "source": [
    "def average_precision_at_k(true_ranking, predicted_ranking, k_at=10):\n",
    "    # Truncate the rankings at k\n",
    "    k = np.sum(true_ranking <= k_at)\n",
    "    top_k_predictions = predicted_ranking.index[:k]\n",
    "    \n",
    "    # Initialize variables to keep track of hits and calculate precision\n",
    "    hits = 0\n",
    "    sum_precision = 0\n",
    "    \n",
    "    # Iterate over the top k predicted rankings\n",
    "    for i, predicted_driver in enumerate(top_k_predictions, start=1):\n",
    "        # Check if the predicted driver is in the true rankings' top k\n",
    "        if predicted_driver in true_ranking.index[:k]:\n",
    "            hits += 1\n",
    "            precision_at_i = hits / i\n",
    "            sum_precision += precision_at_i\n",
    "            \n",
    "    # If there are no hits, the average precision is 0\n",
    "    if hits == 0:\n",
    "        return 0\n",
    "    \n",
    "    # Calculate average precision\n",
    "    average_precision = sum_precision / k\n",
    "    return average_precision"
   ]
  },
  {
   "cell_type": "markdown",
   "id": "0a1c4034-8f77-4736-b014-2ac7836f0680",
   "metadata": {},
   "source": [
    "## Using Qualifying Position"
   ]
  },
  {
   "cell_type": "code",
   "execution_count": null,
   "id": "2ac754b0-932a-4c57-9070-80f3c16c2b53",
   "metadata": {
    "tags": []
   },
   "outputs": [],
   "source": [
    "baseline = {}\n",
    "total = {}\n",
    "for race in range(1106, 1121):\n",
    "    baseline[race] = {}\n",
    "    for driver, df in dataset.items():\n",
    "        if race in df.index:\n",
    "            y_true = df.at[race, 'positionOrder']\n",
    "            y_pred = df.at[race, 'qualifyingPosition']\n",
    "            baseline[race][driver] = {\n",
    "                'True': y_true,\n",
    "                'Pred': y_pred\n",
    "            }\n",
    "        else:\n",
    "            pass\n",
    "    results_df = pd.DataFrame(baseline[race]).T\n",
    "    total[race] = results_df"
   ]
  },
  {
   "cell_type": "code",
   "execution_count": null,
   "id": "06e1208a-d22d-46b9-8546-fa5e21281d4b",
   "metadata": {
    "tags": []
   },
   "outputs": [],
   "source": [
    "baseline_apak = {}\n",
    "for n in range(1106,1121):\n",
    "    true = total[n]['True'].sort_values()\n",
    "    pred = total[n]['Pred'].sort_values()\n",
    "    driver_true = df_drivers.loc[true.index]['driverId']\n",
    "    driver_pred = df_drivers.loc[pred.index]['driverId']\n",
    "    prec = average_precision_at_k(true, pred, k_at=10)\n",
    "    baseline_apak[n] = prec\n",
    "baseline_mapak = {}\n",
    "for n in range(1106,1121):\n",
    "    apak_val = []\n",
    "    for k, v in baseline_apak.items():\n",
    "        if k >= n:\n",
    "            apak_val.append(v)\n",
    "    baseline_mapak[n] = np.mean(apak_val)\n",
    "np.mean([v for k, v in baseline_mapak.items()])"
   ]
  },
  {
   "cell_type": "markdown",
   "id": "414d7c6c-1682-426a-b0c4-441f6296a7c4",
   "metadata": {},
   "source": [
    "## Using Walk Forward"
   ]
  },
  {
   "cell_type": "code",
   "execution_count": null,
   "id": "bcb6bea1-6d74-4150-96dd-22e395f33884",
   "metadata": {
    "tags": []
   },
   "outputs": [],
   "source": [
    "baseline = {}\n",
    "total = {}\n",
    "wf_dataset = {}\n",
    "for driver, df in dataset.items():\n",
    "    df_copy = df.copy()\n",
    "    df_copy['Pred'] = df_copy['positionOrder'].shift(1)\n",
    "    wf_dataset[driver] = df_copy.dropna()\n",
    "\n",
    "for race in range(1106, 1121):\n",
    "    baseline[race] = {}\n",
    "    for driver, df in wf_dataset.items():\n",
    "        if race in df.index:\n",
    "            y_true = df.at[race, 'positionOrder']\n",
    "            y_pred = df.at[race, 'Pred']\n",
    "            baseline[race][driver] = {\n",
    "                'True': y_true,\n",
    "                'Pred': y_pred\n",
    "            }\n",
    "        else:\n",
    "            pass\n",
    "    results_df = pd.DataFrame(baseline[race]).T\n",
    "    total[race] = results_df"
   ]
  },
  {
   "cell_type": "code",
   "execution_count": null,
   "id": "0bf3dffc-0ee2-46a0-a924-bd4073bb5476",
   "metadata": {
    "tags": []
   },
   "outputs": [],
   "source": [
    "baseline_apak = {}\n",
    "for n in range(1106,1121):\n",
    "    true = total[n]['True'].sort_values()\n",
    "    pred = total[n]['Pred'].sort_values()\n",
    "    driver_true = df_drivers.loc[true.index]['driverId']\n",
    "    driver_pred = df_drivers.loc[pred.index]['driverId']\n",
    "    prec = average_precision_at_k(true, pred, k_at=10)\n",
    "    baseline_apak[n] = prec\n",
    "baseline_mapak = {}\n",
    "for n in range(1106,1121):\n",
    "    apak_val = []\n",
    "    for k, v in baseline_apak.items():\n",
    "        if k >= n:\n",
    "            apak_val.append(v)\n",
    "    baseline_mapak[n] = np.mean(apak_val)\n",
    "np.mean([v for k, v in baseline_mapak.items()])"
   ]
  },
  {
   "cell_type": "markdown",
   "id": "bb1fa3ac-27bf-4100-9819-5ff75283cc2f",
   "metadata": {},
   "source": [
    "# MODEL TRAINING & PREDICTIONS"
   ]
  },
  {
   "cell_type": "markdown",
   "id": "f98c2b6e-60e4-47f6-9432-fe6c829c4fc1",
   "metadata": {},
   "source": [
    "### LINEAR REGRESSION"
   ]
  },
  {
   "cell_type": "code",
   "execution_count": null,
   "id": "17747b6c-5b07-4352-aef2-673513482585",
   "metadata": {
    "tags": []
   },
   "outputs": [],
   "source": [
    "lr_dict = {}\n",
    "total_pred = {}\n",
    "for race in range(1106, 1121):\n",
    "    lr_dict[race] = {}\n",
    "    for driver, df in dataset.items():\n",
    "        if race in df.index:\n",
    "            df_features = df.drop(columns=['positionOrder'])\n",
    "            df_target = df['positionOrder']\n",
    "            X_holdout, y_holdout = df_features.loc[race:], df_target.loc[race:]\n",
    "            X_train, y_train = df_features.loc[:race-1], df_target.loc[:race-1]\n",
    "            test_race = X_holdout.loc[race:race]\n",
    "            lr = LinearRegression(n_jobs=-1)\n",
    "            lr.fit(X_train, y_train)\n",
    "            lr_res = lr.predict(test_race)\n",
    "            lr_dict[race][driver] = {\n",
    "                'X_train': X_train,\n",
    "                'X_test': X_holdout.loc[race].to_numpy().reshape(1,-1),\n",
    "                'model': lr,\n",
    "                'Pred': lr_res[0],\n",
    "                'True': y_holdout[race]\n",
    "            }\n",
    "        else:\n",
    "            pass\n",
    "    results_df = pd.DataFrame(lr_dict[race], index=['Pred', 'True']).T\n",
    "    total_pred[race] = results_df"
   ]
  },
  {
   "cell_type": "code",
   "execution_count": null,
   "id": "93cab826-678f-45d5-951c-8b0a80f7b260",
   "metadata": {
    "tags": []
   },
   "outputs": [],
   "source": [
    "lr_apak = {}\n",
    "for n in range(1106,1121):\n",
    "    true = total_pred[n]['True'].sort_values()\n",
    "    pred = total_pred[n]['Pred'].sort_values()\n",
    "    driver_true = df_drivers.loc[true.index]['driverId']\n",
    "    driver_pred = df_drivers.loc[pred.index]['driverId']\n",
    "    prec = average_precision_at_k(true, pred, k_at=10)\n",
    "    lr_apak[n] = prec\n",
    "lr_mapak = {}\n",
    "for n in range(1106,1121):\n",
    "    apak_val = []\n",
    "    for k, v in lr_apak.items():\n",
    "        if k >= n:\n",
    "            apak_val.append(v)\n",
    "    lr_mapak[n] = np.mean(apak_val)\n",
    "np.mean([v for k, v in lr_mapak.items()])"
   ]
  },
  {
   "cell_type": "markdown",
   "id": "98be8562-adc0-41f1-a05d-34a2c68d7bac",
   "metadata": {
    "tags": []
   },
   "source": [
    "### GRID SEARCH"
   ]
  },
  {
   "cell_type": "code",
   "execution_count": null,
   "id": "092fcd45-5980-4ab1-9987-cf45c0fa7bd1",
   "metadata": {
    "tags": []
   },
   "outputs": [],
   "source": [
    "def gridsearch_gb(model, parameters):\n",
    "    model_dict = {}\n",
    "    for d, r in parameters:\n",
    "        params = (d, r)\n",
    "        model_dict[params] = {}\n",
    "        model_apak = {}\n",
    "        for race in range(1106, 1121):\n",
    "            model_dict[params][race] = {}\n",
    "            \n",
    "            for driver, df in dataset.items():\n",
    "                if race in df.index:\n",
    "                    df_features = df.drop(columns=['positionOrder'])\n",
    "                    df_target = df['positionOrder']\n",
    "                    X_holdout, y_holdout = df_features.loc[race:], df_target.loc[race:]\n",
    "                    X_train, y_train = df_features.loc[:race-1], df_target.loc[:race-1]\n",
    "                    test_race = X_holdout.loc[race:race]\n",
    "                    mod = model(random_state=0, n_estimators=300, max_depth=d, learning_rate=r)\n",
    "                    mod.fit(X_train, y_train)\n",
    "                    model_res = mod.predict(test_race)\n",
    "                    model_dict[params][race][driver] = {\n",
    "                        # 'X_train': X_train,\n",
    "                        # 'X_test': X_holdout.loc[race].to_numpy().reshape(1,-1),\n",
    "                        # 'model': model,\n",
    "                        'Pred': model_res[0],\n",
    "                        'True': y_holdout[race]\n",
    "                    }\n",
    "                else:\n",
    "                    pass\n",
    "            results_df = pd.DataFrame(model_dict[params][race], index=['Pred', 'True']).T\n",
    "            # model_dict[model][params][race][total_pred] = results_df\n",
    "            true = results_df['True'].sort_values()\n",
    "            pred = results_df['Pred'].sort_values()\n",
    "            # driver_true = df_drivers.loc[true.index]['driverId']\n",
    "            # driver_pred = df_drivers.loc[pred.index]['driverId']\n",
    "            prec = average_precision_at_k(true, pred, k_at=10)\n",
    "            model_apak[race] = prec\n",
    "        model_mapak = {}\n",
    "        for n in range(1106, 1121):\n",
    "            apak_val = []\n",
    "            for k, v in model_apak.items():\n",
    "                if k >= n:\n",
    "                    apak_val.append(v)\n",
    "            model_mapak[n] = np.mean(apak_val)\n",
    "        model_dict[params]['apak'] = model_apak\n",
    "        model_dict[params]['mapak'] = model_mapak\n",
    "        model_dict[params]['model_score'] = np.mean([v for k, v in model_mapak.items()])\n",
    "    return model_dict"
   ]
  },
  {
   "cell_type": "code",
   "execution_count": null,
   "id": "6f38b998-74da-46d6-937a-01df0c2304bb",
   "metadata": {
    "tags": []
   },
   "outputs": [],
   "source": [
    "max_depth_range = [8, 10, 12]\n",
    "learning_rate_range = [0.01, 0.05, 0.1]\n",
    "param = product(max_depth_range, learning_rate_range)\n",
    "GBM_results = gridsearch_gb(GradientBoostingRegressor, param)\n",
    "for param in GBM_results.keys():\n",
    "    print(f\"GBM - {param} - {GBM_results[param]['model_score']}\")"
   ]
  },
  {
   "cell_type": "code",
   "execution_count": null,
   "id": "9eea3220-bf88-412a-a4c1-e2a15614f79b",
   "metadata": {
    "tags": []
   },
   "outputs": [],
   "source": [
    "max_depth_range = [8, 10, 12]\n",
    "learning_rate_range = [0.01, 0.05, 0.1]\n",
    "param = product(max_depth_range, learning_rate_range)\n",
    "XGB_results = gridsearch_gb(XGBRegressor, param)\n",
    "for param in XGB_results.keys():\n",
    "    print(f\"XGB - {param} - {XGB_results[param]['model_score']}\")"
   ]
  },
  {
   "cell_type": "code",
   "execution_count": null,
   "id": "1cfa3f74-7973-484a-b225-e7799e4fc5ec",
   "metadata": {
    "tags": []
   },
   "outputs": [],
   "source": [
    "def gridsearch_rf(model, parameters):\n",
    "    model_dict = {}\n",
    "    for d, f in parameters:\n",
    "        params = (d, f)\n",
    "        model_dict[params] = {}\n",
    "        model_apak = {}\n",
    "        for race in range(1106, 1121):\n",
    "            model_dict[params][race] = {}\n",
    "            for driver, df in dataset.items():\n",
    "                if race in df.index:\n",
    "                    df_features = df.drop(columns=['positionOrder'])\n",
    "                    df_target = df['positionOrder']\n",
    "                    X_holdout, y_holdout = df_features.loc[race:], df_target.loc[race:]\n",
    "                    X_train, y_train = df_features.loc[:race-1], df_target.loc[:race-1]\n",
    "                    test_race = X_holdout.loc[race:race]\n",
    "                    mod = model(random_state=0, n_estimators=300, max_depth=d, max_features=f)\n",
    "                    mod.fit(X_train, y_train)\n",
    "                    model_res = mod.predict(test_race)\n",
    "                    model_dict[params][race][driver] = {\n",
    "                        # 'X_train': X_train,\n",
    "                        # 'X_test': X_holdout.loc[race].to_numpy().reshape(1,-1),\n",
    "                        # 'model': model,\n",
    "                        'Pred': model_res[0],\n",
    "                        'True': y_holdout[race]\n",
    "                    }\n",
    "                else:\n",
    "                    pass\n",
    "            results_df = pd.DataFrame(model_dict[params][race], index=['Pred', 'True']).T\n",
    "            # model_dict[model][params][race][total_pred] = results_df\n",
    "            true = results_df['True'].sort_values()\n",
    "            pred = results_df['Pred'].sort_values()\n",
    "            # driver_true = df_drivers.loc[true.index]['driverId']\n",
    "            # driver_pred = df_drivers.loc[pred.index]['driverId']\n",
    "            prec = average_precision_at_k(true, pred, k_at=10)\n",
    "            model_apak[race] = prec\n",
    "        model_mapak = {}\n",
    "        for n in range(1106, 1121):\n",
    "            apak_val = []\n",
    "            for k, v in model_apak.items():\n",
    "                if k >= n:\n",
    "                    apak_val.append(v)\n",
    "            model_mapak[n] = np.mean(apak_val)\n",
    "        model_dict[params]['apak'] = model_apak\n",
    "        model_dict[params]['mapak'] = model_mapak\n",
    "        model_dict[params]['model_score'] = np.mean([v for k, v in model_mapak.items()])\n",
    "    return model_dict"
   ]
  },
  {
   "cell_type": "code",
   "execution_count": null,
   "id": "20e6ae28-d2a6-4e52-b11b-0fc1b5dce1b9",
   "metadata": {
    "tags": []
   },
   "outputs": [],
   "source": [
    "max_depth_range = [4, 5, 6, 7, 8]\n",
    "max_features_range = [0.5, 0.6, 0.7, 0.8, 0.9, None]\n",
    "param = product(max_depth_range, max_features_range)\n",
    "RF_results = gridsearch_rf(RandomForestRegressor, param)\n",
    "for param in RF_results.keys():\n",
    "    print(f\"RF - {param} - {RF_results[param]['model_score']}\")"
   ]
  },
  {
   "cell_type": "code",
   "execution_count": null,
   "id": "0ad24a9b-cd7c-49cf-bfdc-9b8111df6a12",
   "metadata": {
    "tags": []
   },
   "outputs": [],
   "source": [
    "max_depth_range = [2, 3, 4]\n",
    "max_features_range = [0.3, 0.35, 0.4, 0.45, 0.5, 0.55]\n",
    "param = product(max_depth_range, max_features_range)\n",
    "RF_results = gridsearch_rf(RandomForestRegressor, param)\n",
    "for param in RF_results.keys():\n",
    "    print(f\"RF - {param} - {RF_results[param]['model_score']}\")"
   ]
  },
  {
   "cell_type": "code",
   "execution_count": null,
   "id": "6705d991-77a1-45ca-9593-9f9cdbddeff4",
   "metadata": {
    "tags": []
   },
   "outputs": [],
   "source": [
    "max_depth_range = [1, 2]\n",
    "max_features_range = [0.2, 0.25, 0.3, 0.35, 0.4]\n",
    "param = product(max_depth_range, max_features_range)\n",
    "RF_results = gridsearch_rf(RandomForestRegressor, param)\n",
    "for param in RF_results.keys():\n",
    "    print(f\"RF - {param} - {RF_results[param]['model_score']}\")"
   ]
  },
  {
   "cell_type": "code",
   "execution_count": null,
   "id": "b2584ea4-ca14-49d6-b067-ffdd37d2092a",
   "metadata": {
    "tags": []
   },
   "outputs": [],
   "source": [
    "rf_dict = {}\n",
    "total_pred = {}\n",
    "for race in range(1106, 1121):\n",
    "    rf_dict[race] = {}\n",
    "    for driver, df in dataset.items():\n",
    "        if race in df.index:\n",
    "            df_features = df.drop(columns=['positionOrder'])\n",
    "            df_target = df['positionOrder']\n",
    "            X_holdout, y_holdout = df_features.loc[race:], df_target.loc[race:]\n",
    "            X_train, y_train = df_features.loc[:race-1], df_target.loc[:race-1]\n",
    "            test_race = X_holdout.loc[race:race]\n",
    "            rf = RandomForestRegressor(random_state=0, n_estimators=300, max_depth=1, max_features=0.3)\n",
    "            rf.fit(X_train, y_train)\n",
    "            rf_res = rf.predict(test_race)\n",
    "            rf_dict[race][driver] = {\n",
    "                'X_train': X_train,\n",
    "                'X_test': X_holdout.loc[race].to_numpy().reshape(1,-1),\n",
    "                'y_train': y_train,\n",
    "                'model': rf,\n",
    "                'Pred': rf_res[0],\n",
    "                'True': y_holdout[race]\n",
    "            }\n",
    "        else:\n",
    "            pass\n",
    "    results_df = pd.DataFrame(rf_dict[race], index=['Pred', 'True']).T\n",
    "    total_pred[race] = results_df"
   ]
  },
  {
   "cell_type": "code",
   "execution_count": null,
   "id": "1189f9cb-c4d8-4cd4-a096-00ddf236f73a",
   "metadata": {
    "tags": []
   },
   "outputs": [],
   "source": [
    "rf_apak = {}\n",
    "for n in range(1106,1121):\n",
    "    true = total_pred[n]['True'].sort_values()\n",
    "    pred = total_pred[n]['Pred'].sort_values()\n",
    "    driver_true = df_drivers.loc[true.index]['driverId']\n",
    "    driver_pred = df_drivers.loc[pred.index]['driverId']\n",
    "    prec = average_precision_at_k(true, pred, k_at=10)\n",
    "    rf_apak[n] = prec\n",
    "rf_mapak = {}\n",
    "for n in range(1106,1121):\n",
    "    apak_val = []\n",
    "    for k, v in rf_apak.items():\n",
    "        if k >= n:\n",
    "            apak_val.append(v)\n",
    "    rf_mapak[n] = np.mean(apak_val)\n",
    "np.mean([v for k, v in rf_mapak.items()])"
   ]
  },
  {
   "cell_type": "code",
   "execution_count": null,
   "id": "cd604a67-14f0-4bc9-a08d-8811c67deba7",
   "metadata": {
    "tags": []
   },
   "outputs": [],
   "source": [
    "rf_apak"
   ]
  },
  {
   "cell_type": "code",
   "execution_count": null,
   "id": "ad3cafe0-90b1-402a-8551-54b66e156589",
   "metadata": {
    "tags": []
   },
   "outputs": [],
   "source": [
    "for r in range(1106, 1121):\n",
    "    print(f'Race {r}:')\n",
    "    display(total_pred[r].sort_values('Pred'))"
   ]
  },
  {
   "cell_type": "markdown",
   "id": "67c21844-550f-4767-a3a3-13fb5aa48bf6",
   "metadata": {},
   "source": [
    "# EXPLAINABILITY"
   ]
  },
  {
   "cell_type": "code",
   "execution_count": null,
   "id": "43fe31ad-ffe8-481e-8618-48764a4a05b4",
   "metadata": {
    "tags": []
   },
   "outputs": [],
   "source": [
    "shap_dict = {}\n",
    "model_dict = rf_dict\n",
    "for n in model_dict.keys():\n",
    "    shap_dict[n] = {}\n",
    "    for driver, df in dataset.items():\n",
    "        if n in df.index:\n",
    "            train = model_dict[n][driver]['X_train']\n",
    "            test = model_dict[n][driver]['X_test']\n",
    "            model = model_dict[n][driver]['model']\n",
    "            shap_explainer = shap.Explainer(model.predict, train, feature_names=train.columns.tolist(), seed=0)\n",
    "            shap_values = shap_explainer(test)\n",
    "            shap_explanation = shap.Explanation(\n",
    "                shap_values.values[0],\n",
    "                shap_values.base_values[0],\n",
    "                shap_values.data[0],\n",
    "                feature_names=train.columns.tolist()\n",
    "            )\n",
    "            shap_dict[n][driver] = {\n",
    "                'explainer': shap_explainer,\n",
    "                'shap_values': shap_values,\n",
    "                'shap_explanation': shap_explanation\n",
    "            }"
   ]
  },
  {
   "cell_type": "code",
   "execution_count": null,
   "id": "8061e3ad-f184-4850-95e2-e3b1016c940e",
   "metadata": {
    "tags": []
   },
   "outputs": [],
   "source": [
    "dice_dict = {}\n",
    "model_dict = rf_dict\n",
    "for n in model_dict.keys():\n",
    "    dice_dict[n] = {}\n",
    "    for driver, df in dataset.items():\n",
    "        if n in df.index:\n",
    "            model = model_dict[n][driver]['model']\n",
    "            X_train = model_dict[n][driver]['X_train']\n",
    "            y_train = model_dict[n][driver]['y_train']\n",
    "            test = model_dict[n][driver]['X_test']\n",
    "            dice_model = Model(model=model, backend='sklearn', model_type='regressor')\n",
    "            dice_data = Data(\n",
    "                dataframe=X_train.join(y_train),\n",
    "                continuous_features=X_train.columns.tolist(),\n",
    "                outcome_name='positionOrder')\n",
    "            dice_exp = Dice(dice_data, dice_model, method='genetic')\n",
    "            \n",
    "            dice_dict[n][driver] = {\n",
    "                'explainer': dice_exp,\n",
    "                'test': test\n",
    "            }"
   ]
  },
  {
   "cell_type": "code",
   "execution_count": null,
   "id": "bb2bc343-c5aa-4012-98c6-372106fbbf72",
   "metadata": {
    "tags": []
   },
   "outputs": [],
   "source": [
    "lime_dict = {}\n",
    "\n",
    "for n in model_dict.keys():\n",
    "    lime_dict[n] = {}\n",
    "    for driver, df in dataset.items(): \n",
    "        if n in df.index:\n",
    "            train = model_dict[n][driver]['X_train']\n",
    "            test = model_dict[n][driver]['X_test']\n",
    "            model = model_dict[n][driver]['model']\n",
    "            lime_explainer = LimeTabularExplainer(train.values,\n",
    "                                                  feature_names=train.columns.tolist(),\n",
    "                                                  verbose=False,\n",
    "                                                  mode='regression',\n",
    "                                                  random_state=0)\n",
    "            lime_explanation = lime_explainer.explain_instance(test.reshape(-1), model.predict)\n",
    "            lime_dict[n][driver] = {\n",
    "                'lime_explainer': lime_explainer,\n",
    "                'lime_explanation': lime_explanation\n",
    "            }"
   ]
  },
  {
   "cell_type": "code",
   "execution_count": null,
   "id": "8be0233d-de05-45ee-9c21-f54dd70db07f",
   "metadata": {
    "tags": []
   },
   "outputs": [],
   "source": [
    "driver = 'gasly'\n",
    "n = 1120\n",
    "X = model_dict[n][driver]['X_train']\n",
    "cfes1 = dice_dict[n][driver]['explainer'].generate_counterfactuals(\n",
    "    pd.DataFrame(dice_dict[n][driver]['test'].reshape(1,-1), columns=X.columns.tolist()),\n",
    "    total_CFs=5,\n",
    "    desired_range=[9, 10],\n",
    "    features_to_vary=[\n",
    "        # '1Lag_aveLapSpeed',\n",
    "        'qualifyingPosition',\n",
    "         '1LagPosition',\n",
    "         '2LagPosition',\n",
    "         '3LagPosition',\n",
    "         '4LagPosition',\n",
    "         '5LagPosition',\n",
    "         # '1LagQPos',\n",
    "         # '2LagQPos',\n",
    "         # '3LagQPos',\n",
    "         # '4LagQPos',\n",
    "         # '5LagQPos'\n",
    "                     ]\n",
    ")"
   ]
  },
  {
   "cell_type": "code",
   "execution_count": null,
   "id": "400c6d66-a7be-4d53-a7ab-b9445beeac0c",
   "metadata": {
    "tags": []
   },
   "outputs": [],
   "source": [
    "driver = 'gasly'\n",
    "n = 1120\n",
    "\n",
    "print(driver, model_dict[n][driver]['True'])\n",
    "shap.plots.waterfall(shap_dict[n][driver]['shap_explanation'])\n",
    "\n",
    "# lime_dict[n][driver]['lime_explanation'].as_pyplot_figure();\n",
    "lime_dict[n][driver]['lime_explanation'].show_in_notebook();"
   ]
  },
  {
   "cell_type": "code",
   "execution_count": null,
   "id": "5a482c4c-6fa7-4ce8-9c0e-df6c70dafdb1",
   "metadata": {
    "tags": []
   },
   "outputs": [],
   "source": [
    "cfes1.visualize_as_dataframe(show_only_changes=True)"
   ]
  },
  {
   "cell_type": "code",
   "execution_count": null,
   "id": "8cfe1cdf-47b8-4a2a-9552-8ed1ad51896e",
   "metadata": {
    "tags": []
   },
   "outputs": [],
   "source": [
    "cfes1.visualize_as_list(show_only_changes=True)"
   ]
  },
  {
   "cell_type": "markdown",
   "id": "b09ecab4-8705-43da-a939-3fe771432705",
   "metadata": {
    "tags": []
   },
   "source": [
    "# PREDICTING BAHRAIN 2024"
   ]
  },
  {
   "cell_type": "code",
   "execution_count": null,
   "id": "b4dca8f1-402e-4f1f-b222-756376223f3d",
   "metadata": {
    "tags": []
   },
   "outputs": [],
   "source": [
    "def create_bahrain_test(df):\n",
    "    df['fastestLapRank'] = pd.to_numeric(df['fastestLapRank'])\n",
    "    if any(np.isnan(df['aveLapPosition'])):\n",
    "        idx = np.where(np.isnan(df['aveLapPosition']))[0]\n",
    "        for i in idx:\n",
    "            df.iloc[i,23] = df.iloc[i,15]\n",
    "    if any(np.isnan(df['aveLapSpeed'])):\n",
    "        idx = np.where(np.isnan(df['aveLapSpeed']))[0]\n",
    "        for i in idx:\n",
    "            df.iloc[i,24] = df.iloc[i,-1]\n",
    "    df_race = df.sort_index()\n",
    "    df_race.loc['bahrain'] = np.nan\n",
    "    for i in range(1,6):\n",
    "        df_race[str(i)+'LagPosition'] = df_race['positionOrder'].shift(i)\n",
    "        df_race[str(i)+'LagQPos'] = df_race['qualifyingPosition'].shift(i)\n",
    "    df_race[\n",
    "        [\n",
    "            '1Lag_dsPoints',\n",
    "            '1Lag_dsPosition',\n",
    "            '1Lag_driverWins',\n",
    "            '1Lag_constructorPoints',\n",
    "            '1Lag_constructorPosition',\n",
    "            '1Lag_constructorWins',\n",
    "            '1Lag_aveLapPosition',\n",
    "            '1Lag_aveLapSpeed',\n",
    "            '1Lag_fastestLapRank'\n",
    "        ]\n",
    "    ] = df_race[\n",
    "        [\n",
    "            'dsPoints',\n",
    "            'dsPosition',\n",
    "            'driverWins',\n",
    "            'constructorPoints',\n",
    "            'constructorPosition',\n",
    "            'constructorWins',\n",
    "            'aveLapPosition',\n",
    "            'aveLapSpeed',\n",
    "            'fastestLapRank'\n",
    "        ]\n",
    "    ].shift(1)\n",
    "    \n",
    "    qualPos = {\n",
    "        'hamilton': 9,\n",
    "        'alonso': 6,\n",
    "        'gasly': 20,\n",
    "        'hulkenberg': 10,\n",
    "        'perez': 5,\n",
    "        'ricciardo': 14,\n",
    "        'bottas': 16,\n",
    "        'kevin_magnussen': 15,\n",
    "        'max_verstappen': 1,\n",
    "        'sainz': 4,\n",
    "        'ocon': 19,\n",
    "        'stroll': 12,\n",
    "        'leclerc': 2,\n",
    "        'norris': 7,\n",
    "        'russell': 3,\n",
    "        'albon': 13,\n",
    "        'tsunoda': 11,\n",
    "        'zhou': 17,\n",
    "        'piastri': 8,\n",
    "        'sargeant': 18\n",
    "    }\n",
    "    \n",
    "    df_race.at['bahrain', 'qualifyingPosition'] = qualPos[driver]\n",
    "    \n",
    "    return df_race.loc['bahrain', [\n",
    "            '1Lag_dsPoints',\n",
    "            '1Lag_dsPosition',\n",
    "            '1Lag_driverWins',\n",
    "            '1Lag_constructorPoints',\n",
    "            '1Lag_constructorPosition',\n",
    "            '1Lag_constructorWins',\n",
    "            '1Lag_aveLapPosition',\n",
    "            '1Lag_aveLapSpeed',\n",
    "            '1Lag_fastestLapRank',\n",
    "            'qualifyingPosition',\n",
    "            # 'fpPosition',\n",
    "            '1LagPosition',\n",
    "            '2LagPosition',\n",
    "            '3LagPosition',\n",
    "            '4LagPosition',\n",
    "            '5LagPosition',\n",
    "            '1LagQPos',\n",
    "            '2LagQPos',\n",
    "            '3LagQPos',\n",
    "            '4LagQPos',\n",
    "            '5LagQPos'\n",
    "        ]\n",
    "    ]"
   ]
  },
  {
   "cell_type": "code",
   "execution_count": null,
   "id": "1170fa85-073c-4f6b-b755-34aee34b1a3c",
   "metadata": {
    "tags": []
   },
   "outputs": [],
   "source": [
    "bahrain_test = {}\n",
    "for driver, df in driver_dict.items():\n",
    "    bahrain_test[driver] = create_bahrain_test(df.copy())"
   ]
  },
  {
   "cell_type": "code",
   "execution_count": null,
   "id": "eb49ac15-78f9-421c-a053-66d7ec0c8df4",
   "metadata": {
    "tags": []
   },
   "outputs": [],
   "source": [
    "bahrain_pred = {}\n",
    "bahrain_models = {}\n",
    "for driver, df in dataset.items():\n",
    "    df_features = df.drop(columns=['positionOrder'])\n",
    "    df_target = df['positionOrder']\n",
    "    X_train, y_train = df_features, df_target\n",
    "    test_race = bahrain_test[driver].to_numpy().reshape(1, -1)\n",
    "    rf = RandomForestRegressor(random_state=0, n_estimators=300, max_depth=1, max_features=0.3)\n",
    "    rf.fit(X_train, y_train)\n",
    "    rf_res = rf.predict(test_race)\n",
    "    bahrain_pred[driver] = rf_res[0]\n",
    "    bahrain_models[driver] = rf\n",
    "results_df = pd.DataFrame(bahrain_pred, index=['Bahrain 2024']).T.sort_values('Bahrain 2024')"
   ]
  },
  {
   "cell_type": "code",
   "execution_count": null,
   "id": "1e601b9f-b260-4503-b93c-8d8f2845ac2b",
   "metadata": {
    "tags": []
   },
   "outputs": [],
   "source": [
    "results_df['Ranking'] = range(1,21)\n",
    "results_df"
   ]
  }
 ],
 "metadata": {
  "kernelspec": {
   "display_name": "Python 3 (ipykernel)",
   "language": "python",
   "name": "python3"
  },
  "language_info": {
   "codemirror_mode": {
    "name": "ipython",
    "version": 3
   },
   "file_extension": ".py",
   "mimetype": "text/x-python",
   "name": "python",
   "nbconvert_exporter": "python",
   "pygments_lexer": "ipython3",
   "version": "3.11.0"
  }
 },
 "nbformat": 4,
 "nbformat_minor": 5
}
