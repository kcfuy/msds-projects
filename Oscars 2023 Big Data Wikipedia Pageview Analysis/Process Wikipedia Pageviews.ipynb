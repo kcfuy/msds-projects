{
 "cells": [
  {
   "cell_type": "markdown",
   "id": "1b711e1a-30f3-4d0d-817f-3c87efd1f610",
   "metadata": {},
   "source": [
    "# Process Wikipidea Pageviews"
   ]
  },
  {
   "cell_type": "code",
   "execution_count": 1,
   "id": "f344794b-f719-44bd-ad74-3250f1648278",
   "metadata": {
    "execution": {
     "iopub.execute_input": "2024-05-14T15:27:26.714457Z",
     "iopub.status.busy": "2024-05-14T15:27:26.713795Z",
     "iopub.status.idle": "2024-05-14T15:27:28.463175Z",
     "shell.execute_reply": "2024-05-14T15:27:28.461810Z",
     "shell.execute_reply.started": "2024-05-14T15:27:26.714397Z"
    }
   },
   "outputs": [],
   "source": [
    "import os\n",
    "os.environ['PYARROW_IGNORE_TIMEZONE'] = '1'\n",
    "import warnings\n",
    "warnings.filterwarnings('ignore')\n",
    "import pyspark.pandas as ps\n",
    "from pyspark.sql import SparkSession"
   ]
  },
  {
   "cell_type": "code",
   "execution_count": 2,
   "id": "dfc14b0c-ed3e-4d04-8e93-85bcc30d42e6",
   "metadata": {
    "execution": {
     "iopub.execute_input": "2024-05-14T15:27:34.657040Z",
     "iopub.status.busy": "2024-05-14T15:27:34.656077Z",
     "iopub.status.idle": "2024-05-14T15:27:40.899792Z",
     "shell.execute_reply": "2024-05-14T15:27:40.897481Z",
     "shell.execute_reply.started": "2024-05-14T15:27:34.656934Z"
    }
   },
   "outputs": [],
   "source": [
    "spark = (SparkSession\n",
    "         .builder\n",
    "         .master('local[*]')\n",
    "         .config('spark.sql.execution.arrow.pyspark.enabled', 'true')\n",
    "         .getOrCreate())\n",
    "spark.sparkContext.setLogLevel('OFF')"
   ]
  },
  {
   "cell_type": "code",
   "execution_count": null,
   "id": "73333292-1cd9-47b9-89e4-895fd454b228",
   "metadata": {},
   "outputs": [],
   "source": [
    "from glob import glob"
   ]
  },
  {
   "cell_type": "markdown",
   "id": "50838fcb-7ffe-40b6-9958-b737bc080810",
   "metadata": {},
   "source": [
    "## First round of parquet"
   ]
  },
  {
   "cell_type": "code",
   "execution_count": null,
   "id": "11225e60-028d-40ba-b139-f14f48af424a",
   "metadata": {},
   "outputs": [],
   "source": [
    "files = glob('/mnt/data/public/wikipedia/pageviews/pageview_complete'\n",
    "             '/202[23]/*/*-user.bz2')"
   ]
  },
  {
   "cell_type": "code",
   "execution_count": null,
   "id": "491ff28e-68cb-43b3-b8fc-6b0767abb5f0",
   "metadata": {},
   "outputs": [],
   "source": [
    "def pageviews_parquet(file):\n",
    "    from pyspark.sql import functions as F\n",
    "    return (\n",
    "        spark.read.csv(file, sep=' ')\n",
    "        .withColumn('filename', F.input_file_name())\n",
    "    )"
   ]
  },
  {
   "cell_type": "code",
   "execution_count": null,
   "id": "805799ed-cecc-4cdb-adb8-4fe09d0bd74f",
   "metadata": {},
   "outputs": [],
   "source": [
    "import py4j.protocol\n",
    "\n",
    "finished = []\n",
    "errors = []\n",
    "for file in files:\n",
    "    print(file)\n",
    "    try:\n",
    "        pageviews_parquet(file).write.parquet(\n",
    "            'pageviews_parquet',\n",
    "            mode='append'\n",
    "        )\n",
    "    except py4j.protocol.Py4JJavaError as e:\n",
    "        print(\"Py4JJavaError encountered:\")\n",
    "        print(\"File skipped\")\n",
    "        errors.append(file)\n",
    "        continue\n",
    "    finished.append(file)"
   ]
  },
  {
   "cell_type": "markdown",
   "id": "2e453324-6fad-427d-b3b3-5af9fcb48c76",
   "metadata": {},
   "source": [
    "## Second round of parquet"
   ]
  },
  {
   "cell_type": "code",
   "execution_count": null,
   "id": "99416b05-41b9-4139-b712-ef3b938d672e",
   "metadata": {},
   "outputs": [],
   "source": [
    "repeat_files = glob('/mnt/data/public/wikipedia/pageviews/pageview_complete/'\n",
    "                    '2022-*/*')"
   ]
  },
  {
   "cell_type": "code",
   "execution_count": null,
   "id": "b6c0d895-284a-493e-b34e-58bb66cb6c9e",
   "metadata": {},
   "outputs": [],
   "source": [
    "import py4j.protocol\n",
    "\n",
    "finished = []\n",
    "errors = []\n",
    "for file in repeat_files:\n",
    "    print(file)\n",
    "    try:\n",
    "        pageviews_parquet(file).write.parquet(\n",
    "            'pageviews_parquet_repeat',\n",
    "            mode='append'\n",
    "        )\n",
    "    except py4j.protocol.Py4JJavaError as e:\n",
    "        print(\"Py4JJavaError encountered:\")\n",
    "        print(\"File skipped\")\n",
    "        errors.append(file)\n",
    "        continue\n",
    "    finished.append(file)"
   ]
  }
 ],
 "metadata": {
  "kernelspec": {
   "display_name": "Python 3 (ipykernel)",
   "language": "python",
   "name": "python3"
  },
  "language_info": {
   "codemirror_mode": {
    "name": "ipython",
    "version": 3
   },
   "file_extension": ".py",
   "mimetype": "text/x-python",
   "name": "python",
   "nbconvert_exporter": "python",
   "pygments_lexer": "ipython3",
   "version": "3.11.8"
  }
 },
 "nbformat": 4,
 "nbformat_minor": 5
}
