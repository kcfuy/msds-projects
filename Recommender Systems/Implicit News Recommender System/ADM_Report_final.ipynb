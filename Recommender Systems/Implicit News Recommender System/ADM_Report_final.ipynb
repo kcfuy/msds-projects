{
 "cells": [
  {
   "cell_type": "code",
   "execution_count": 1,
   "id": "5d83e306-cc31-4e17-b7a7-7cff308992b3",
   "metadata": {
    "execution": {
     "iopub.execute_input": "2024-06-03T15:49:50.452411Z",
     "iopub.status.busy": "2024-06-03T15:49:50.451700Z",
     "iopub.status.idle": "2024-06-03T15:49:52.027191Z",
     "shell.execute_reply": "2024-06-03T15:49:52.026397Z",
     "shell.execute_reply.started": "2024-06-03T15:49:50.452351Z"
    }
   },
   "outputs": [
    {
     "data": {
      "text/html": [
       "\n",
       "<style>\n",
       ".small-caps {\n",
       "    font-variant: small-caps;\n",
       "}\n",
       ".custom-header {\n",
       "        display: flex;\n",
       "        justify-content: space-between;\n",
       "        align-items: center;\n",
       "        background: linear-gradient(45deg, \n",
       "            #4EB3E7, #62D0EB, #65D498);\n",
       "        color: #FFF;\n",
       "        padding: 0px 20px 5px;\n",
       "        width: 100%;\n",
       "        font-size: 20px;\n",
       "        font-family: Times New Roman;\n",
       "        font-weight: bold;\n",
       "        color: white;\n",
       "        }\n",
       "</style>\n",
       "<script\n",
       "    src=\"https://cdnjs.cloudflare.com/ajax/libs/jquery/2.0.3/jquery.min.js \">\n",
       "</script>\n",
       "<script>\n",
       "code_show=true;\n",
       "function code_toggle() {\n",
       " if (code_show){\n",
       " $('div.jp-CodeCell > div.jp-Cell-inputWrapper').hide();\n",
       " } else {\n",
       "$('div.jp-CodeCell > div.jp-Cell-inputWrapper').show();\n",
       " }\n",
       " code_show = !code_show\n",
       "}\n",
       "$( document ).ready(code_toggle);\n",
       "</script>\n",
       "<form action=\"javascript:code_toggle()\"><input type=\"submit\"\n",
       "    value=\"Click here to toggle on/off the raw code.\"></form>\n"
      ],
      "text/plain": [
       "<IPython.core.display.HTML object>"
      ]
     },
     "execution_count": 1,
     "metadata": {},
     "output_type": "execute_result"
    }
   ],
   "source": [
    "import pandas as pd\n",
    "import matplotlib.pyplot as plt\n",
    "import numpy as np\n",
    "import seaborn as sns\n",
    "import base64\n",
    "from io import BytesIO\n",
    "\n",
    "from sklearn.preprocessing import MultiLabelBinarizer\n",
    "from tqdm import tqdm\n",
    "import implicit\n",
    "from scipy.sparse import csr_matrix\n",
    "from implicit.nearest_neighbours import tfidf_weight\n",
    "\n",
    "import requests\n",
    "import bs4\n",
    "\n",
    "from IPython.display import Image, display, HTML\n",
    "HTML('''\n",
    "<style>\n",
    ".small-caps {\n",
    "    font-variant: small-caps;\n",
    "}\n",
    ".custom-header {\n",
    "        display: flex;\n",
    "        justify-content: space-between;\n",
    "        align-items: center;\n",
    "        background: linear-gradient(45deg, \n",
    "            #4EB3E7, #62D0EB, #65D498);\n",
    "        color: #FFF;\n",
    "        padding: 0px 20px 5px;\n",
    "        width: 100%;\n",
    "        font-size: 20px;\n",
    "        font-family: Times New Roman;\n",
    "        font-weight: bold;\n",
    "        color: white;\n",
    "        }\n",
    "</style>\n",
    "<script\n",
    "    src=\"https://cdnjs.cloudflare.com/ajax/libs/jquery/2.0.3/jquery.min.js \">\n",
    "</script>\n",
    "<script>\n",
    "code_show=true;\n",
    "function code_toggle() {\n",
    " if (code_show){\n",
    " $('div.jp-CodeCell > div.jp-Cell-inputWrapper').hide();\n",
    " } else {\n",
    "$('div.jp-CodeCell > div.jp-Cell-inputWrapper').show();\n",
    " }\n",
    " code_show = !code_show\n",
    "}\n",
    "$( document ).ready(code_toggle);\n",
    "</script>\n",
    "<form action=\"javascript:code_toggle()\"><input type=\"submit\"\n",
    "    value=\"Click here to toggle on/off the raw code.\"></form>\n",
    "''')"
   ]
  },
  {
   "cell_type": "code",
   "execution_count": 2,
   "id": "24248248-b4b4-4cb0-899c-8a5dd9f5faab",
   "metadata": {
    "execution": {
     "iopub.execute_input": "2024-06-03T15:49:58.098738Z",
     "iopub.status.busy": "2024-06-03T15:49:58.097589Z",
     "iopub.status.idle": "2024-06-03T15:49:58.134938Z",
     "shell.execute_reply": "2024-06-03T15:49:58.134085Z",
     "shell.execute_reply.started": "2024-06-03T15:49:58.098667Z"
    }
   },
   "outputs": [],
   "source": [
    "def plot_to_html(alt_text):\n",
    "    \"\"\"Display the current figure as a centered html image\n",
    "\n",
    "    Parameters\n",
    "    ----------\n",
    "    alt_text: str\n",
    "        The alternative text for the image displayed\n",
    "    \"\"\"\n",
    "    fig = plt.gcf()\n",
    "    buf = BytesIO()\n",
    "    plt.savefig(buf, format='png')\n",
    "    plt.close()\n",
    "    fig = base64.b64encode(buf.getvalue()).decode('utf-8')\n",
    "    html = f'''<div style=\"text-align: center;\">\n",
    "                   <img src=\"data:image/png;base64,{fig}\"\n",
    "                        alt=\"{alt_text}\"/>\n",
    "                   </div>'''\n",
    "    display(HTML(html))\n",
    "\n",
    "\n",
    "# Metric functions\n",
    "def calculate_hit_ratio(articles_read, articles_recommended):\n",
    "    \"\"\"Calculate the hit ratio metric given the articles read and the\n",
    "    recommendations made\"\"\"\n",
    "    relevant_count = len(set(articles_read) & set(articles_recommended))\n",
    "    hit_ratio = relevant_count / len(articles_recommended)\n",
    "    return hit_ratio\n",
    "\n",
    "\n",
    "def calculate_precision(articles_read, articles_recommended, k):\n",
    "    \"\"\"Calculate the precision metric given the articles read and the\n",
    "    recommendations made\"\"\"\n",
    "    k = min(k, len(articles_recommended))\n",
    "    relevant_count = len(set(articles_read) & set(articles_recommended[:k]))\n",
    "    precision = relevant_count / k\n",
    "    return precision\n",
    "\n",
    "\n",
    "def calculate_recall(articles_read, articles_recommended, k):\n",
    "    \"\"\"Calculate the recall metric given the articles read and the\n",
    "    recommendations made\"\"\"\n",
    "    k = min(k, len(articles_recommended))\n",
    "    relevant_count = len(set(articles_read) & set(articles_recommended[:k]))\n",
    "    recall = relevant_count / len(articles_read)\n",
    "    return recall\n",
    "\n",
    "\n",
    "def calculate_nDCG(articles_read, articles_recommended, k):\n",
    "    \"\"\"Calculate the nDCG metric given the articles read and the\n",
    "    recommendations made\"\"\"\n",
    "    relevance = [\n",
    "        1 if article in articles_read else 0\n",
    "        for article in articles_recommended]\n",
    "    k = min(k, len(relevance))\n",
    "    dcg = relevance[0] + np.sum(relevance[1:k] / np.log2(np.arange(2, k+1)))\n",
    "\n",
    "    ideal_relevance = np.ones(len(articles_read))\n",
    "    idcg = ideal_relevance[0] + np.sum(\n",
    "        ideal_relevance[1:len(articles_read)] /\n",
    "        np.log2(np.arange(2, len(articles_read) + 1)))\n",
    "\n",
    "    if idcg == 0:\n",
    "        ndcg = 0\n",
    "    else:\n",
    "        ndcg = dcg / idcg\n",
    "\n",
    "    return ndcg\n",
    "\n",
    "\n",
    "def calculate_RR(articles_read, articles_recommended):\n",
    "    \"\"\"Calculate the Reciprocal Rank metric given the articles read and the\n",
    "    recommendations made\"\"\"\n",
    "    rr = 0\n",
    "    for index, article in enumerate(articles_recommended, start=1):\n",
    "        if article in articles_read:\n",
    "            rr = 1 / index\n",
    "            break\n",
    "    return rr\n",
    "\n",
    "# Function to calculate all metrics for given recommendations and ground truth\n",
    "\n",
    "\n",
    "def calculate_metrics(ground_truth, recommendations, k=10):\n",
    "    \"\"\"Calculate different metrics given the ground truth and the\n",
    "    recommendations made\"\"\"\n",
    "    metrics_list = []\n",
    "    for user, articles_read in ground_truth.items():\n",
    "        if user in recommendations:\n",
    "            articles_recommended = recommendations[user]\n",
    "            metrics_list.append({\n",
    "                'user': user,\n",
    "                'hit_ratio': calculate_hit_ratio(\n",
    "                    articles_read, articles_recommended),\n",
    "                'precision': calculate_precision(\n",
    "                    articles_read, articles_recommended, k),\n",
    "                'recall': calculate_recall(\n",
    "                    articles_read, articles_recommended, k),\n",
    "                'nDCG': calculate_nDCG(\n",
    "                    articles_read, articles_recommended, k),\n",
    "                'RR': calculate_RR(\n",
    "                    articles_read, articles_recommended)\n",
    "            })\n",
    "    return pd.DataFrame(metrics_list)\n",
    "\n",
    "\n",
    "def sample_columns_per_row(df, num_columns=10):\n",
    "    \"\"\"Samples up to 'num_columns' non-zero columns per row from\n",
    "    DataFrame 'df'.\"\"\"\n",
    "    result = {}\n",
    "    rng = np.random.default_rng(seed=0)\n",
    "    for idx, row in df.iterrows():\n",
    "        click_columns = row.index[row > 1]\n",
    "        if len(click_columns) >= num_columns:\n",
    "            sampled_columns = rng.choice(\n",
    "                click_columns, num_columns, replace=False).tolist()\n",
    "        else:\n",
    "            sampled_columns = rng.choice(\n",
    "                click_columns, len(click_columns), replace=False).tolist()\n",
    "        result[idx] = sampled_columns\n",
    "    return result\n",
    "\n",
    "\n",
    "def recommend_popular(df, user, L=None):\n",
    "    \"\"\"\n",
    "    Recommend popular items to a user.\n",
    "\n",
    "    Parameters\n",
    "    ----------\n",
    "    df : pandas.DataFrame\n",
    "        Utility matrix with user-item interactions.\n",
    "    user : str\n",
    "        User identifier.\n",
    "    L : int, optional\n",
    "        Number of items to recommend. If None, recommends items to fill \n",
    "        missing values.\n",
    "\n",
    "    Returns\n",
    "    -------\n",
    "    list\n",
    "        List of recommended items.\n",
    "    \"\"\"\n",
    "    reco = []\n",
    "    popular = pop_list.copy()\n",
    "    if L is None:\n",
    "        L = np.isnan(df_utility.loc[user]).sum()\n",
    "    while len(reco) < L:\n",
    "        item = popular.pop(0)\n",
    "        if df.at[user, item] == 0:\n",
    "            reco.append(item)\n",
    "\n",
    "    return reco\n",
    "\n",
    "\n",
    "def recommend_recent(df, user, L=None):\n",
    "    \"\"\"\n",
    "    Recommend popular items to a user.\n",
    "\n",
    "    Parameters\n",
    "    ----------\n",
    "    df : pandas.DataFrame\n",
    "        Utility matrix with user-item interactions.\n",
    "    user : str\n",
    "        User identifier.\n",
    "    L : int, optional\n",
    "        Number of items to recommend. If None, recommends items to fill \n",
    "        missing values.\n",
    "\n",
    "    Returns\n",
    "    -------\n",
    "    list\n",
    "        List of recommended items.\n",
    "    \"\"\"\n",
    "    reco = []\n",
    "    recent = most_recent_unique.copy()\n",
    "    if L is None:\n",
    "        L = np.isnan(df_utility.loc[user]).sum()\n",
    "    while len(reco) < L:\n",
    "        item = recent.pop(0)\n",
    "        if df.at[user, item] == 0:\n",
    "            reco.append(item)\n",
    "\n",
    "    return reco\n",
    "\n",
    "\n",
    "def calculate_metrics_als(ground_truth, recommendations, k=10):\n",
    "    \"\"\"Calculate the metrics for ALS\"\"\"\n",
    "    metrics_list = []\n",
    "    for user, articles_read in ground_truth.items():\n",
    "        if user in recommendations:\n",
    "            articles_recommended = recommendations[user]\n",
    "            metrics_list.append({\n",
    "                'user': user,\n",
    "                'hit_ratio': calculate_hit_ratio(\n",
    "                    articles_read, articles_recommended),\n",
    "                'precision': calculate_precision(\n",
    "                    articles_read, articles_recommended, k),\n",
    "                'recall': calculate_recall(\n",
    "                    articles_read, articles_recommended, k),\n",
    "                'nDCG': calculate_nDCG(\n",
    "                    articles_read, articles_recommended, k),\n",
    "                'RR': calculate_RR(\n",
    "                    articles_read, articles_recommended)\n",
    "            })\n",
    "    return pd.DataFrame(metrics_list).describe()\n",
    "\n",
    "\n",
    "def add_newline_in_middle(sentence):\n",
    "    \"\"\"Add newline character in the middle of the string\"\"\"\n",
    "    words = sentence.split()\n",
    "    middle_index = len(words) // 2\n",
    "    return (\n",
    "        ' '.join(words[:middle_index]) + '\\n' + ' '.join(words[middle_index:])\n",
    "    )\n",
    "\n",
    "\n",
    "def get_read_news(user_id):\n",
    "    \"\"\"Get the information of articles read by the user\"\"\"\n",
    "    user_read = (df_new\n",
    "                 .loc[user_id][df_new.loc[user_id] == 41]\n",
    "                 .head(10)\n",
    "                 .index\n",
    "                 .tolist())\n",
    "    return df_train_news[df_train_news['News_ID'].isin(user_read)].iloc[:, 1:4]\n",
    "\n",
    "\n",
    "def get_reco_news(user_id):\n",
    "    \"\"\"Get the information of recommended articles\"\"\"\n",
    "    return (df_train_news[df_train_news['News_ID']\n",
    "            .isin(user_recommendations_als[user_id])]\n",
    "            .iloc[:, 1:4])"
   ]
  },
  {
   "cell_type": "markdown",
   "id": "1102b7b2-c7b1-4ed1-8306-bd64a77a69b1",
   "metadata": {},
   "source": [
    "![Cover Photo](Cover.png)"
   ]
  },
  {
   "cell_type": "markdown",
   "id": "0d84ec5d-4cf6-4fef-9449-baeddd49ef7d",
   "metadata": {
    "execution": {
     "iopub.execute_input": "2024-05-10T15:25:57.620380Z",
     "iopub.status.busy": "2024-05-10T15:25:57.619719Z",
     "iopub.status.idle": "2024-05-10T15:25:57.630968Z",
     "shell.execute_reply": "2024-05-10T15:25:57.629132Z",
     "shell.execute_reply.started": "2024-05-10T15:25:57.620321Z"
    }
   },
   "source": [
    "<div class=\"custom-header\">\n",
    "    <h1 class=\"small-caps\"><a name='abstract'>Abstract</a></h1>\n",
    "</div>"
   ]
  },
  {
   "cell_type": "markdown",
   "id": "3ed63dbc-ac67-4583-b648-8e16791ac1d1",
   "metadata": {},
   "source": [
    "In today's competitive education landscape,  learning institutions have increasingly turned to digital marketing as a cost-effective strategy to boost brand credibility and admission rates. This study examines how the Asian Institute of Management (AIM), a globally recognized learning institution, can enhance its brand recognition through digital platforms. We focus on Wikipedia, one of the most visited websites, known for its open-access model, making it an invaluable free marketing tool.\n",
    "\n",
    "Leveraging 7 years' worth of Wikipedia clickstream data related to AIM, our analysis revealed that articles about affiliated personalities serve as the primary driver of internal traffic to AIM's Wikipedia page, while external traffic predominantly originates from search results. Notably, the notable alumni section garners significant attention, indicating strong visitor interest. AIM can capitalize on this by maximizing backlinks from articles about affiliated personalities and improving page content. This strategy can boost AIM's brand recognition and potentially redirect visitors to AIM's website, providing an opportunity to showcase more of the institution to prospective students.\n",
    "\n",
    "Future research could delve deeper into the interconnectedness between AIM and its related entities. Furthermore, studies can also explore metrics beyond clicks, such as views and engagement, to gain a comprehensive understanding of AIM's online marketing strategies."
   ]
  },
  {
   "cell_type": "markdown",
   "id": "536c1bc3-9f92-42fa-a5b2-0656547ddeaf",
   "metadata": {
    "execution": {
     "iopub.execute_input": "2024-05-05T14:56:37.416285Z",
     "iopub.status.busy": "2024-05-05T14:56:37.415145Z",
     "iopub.status.idle": "2024-05-05T14:56:37.423680Z",
     "shell.execute_reply": "2024-05-05T14:56:37.422182Z",
     "shell.execute_reply.started": "2024-05-05T14:56:37.416220Z"
    }
   },
   "source": [
    "<div class=\"custom-header\">\n",
    "    <h1 class=\"small-caps\"><a name='background'>Background</a></h1>\n",
    "</div>"
   ]
  },
  {
   "cell_type": "markdown",
   "id": "5351365a-8fa1-48a8-8207-18d912c66c40",
   "metadata": {},
   "source": [
    "Newspapers have long been a staple in most people's daily routines. They used to be the primary source of news before the invention of the internet. The first instance of a newspaper can be traced back\n",
    "from 1609 with the publication of <b>Relation</b>, a german language newspaper in Strasborg published by Johann Carolus$^{[1]}$. However, with the growth of online news sources, newspapers have become less popular as more people turn to the internet for their daily updates and information.\n",
    "  \n",
    "In recent years, there has been a significant shift in how people consume news. People are moving away from traditional print media and going towards\n",
    "digital formats. According to newspaper sales statistics, global revenue from print newspapers and magazines is expected to decline by 13.05%,\n",
    "dropping from 127.20 billion USD in 2023 to 110.60 billion USD by 2027. In contrast, digital newspaper and magazine revenue is projected to grow by 11.37%,\n",
    "increasing from 38.60 billion USDin 2023 to 42.99 billion USD by 2027$^{[2]}$.  \n",
    "\n",
    "Online news has been around for quite some time. <i>The Columbus Dispatch</i> published their first online newspaper in 1980, but it was <i>CNN</i> that really paved the way for the digital transformation of news.$^{[3]}$. The prevalence of online news today can be attributed today to several factors. The affordability and increased speed of internet connections have made digital news more accessible. Additionally, the widespread use of smartphones allows people to access news on the go, accelerating the move to digital platforms. In the Philippines, most newspaper companies have their own\n",
    "digital implementation, albeit a more competitive market since they also compete with the internet versions of television and radio news.\n",
    "\n",
    "The digital migration of news attracted the attention of major internet players such as Yahoo, Microsoft's MSN. Yahoo and MSN either created their own news\n",
    "articles or linked external news sources to their own pages, increasing the utility and attractability of their platforms. Today, the first thing a person sees\n",
    "when they open a Microsoft Edge browser is a personalized news feed. This implementation allows Microsoft to earn through advertisment articles and links\n",
    "intermingled with genuine news articles as shown in <b>Figure 1</b>.  \n",
    "\n",
    "A Forbes article declares that <i>\"Microsoft has quietly become the next ad-tech giant\"</i>. Microsoft has a diverse collection of platforms like Bing, Edge, MSN, XboX, Teams, GitHub, Outlook and more, allowing them to efficiently deploy advertisements$^{[4]}$. Most of these platforms can incorporate a common newsfeed system particularly Bing, Edge, and Microsoft Edge, all of which can deploy advertisements. On April 20, 2020, Microsoft released an open dataset of Microsoft News along with user impressions, this is a huge repository of data that they can used to add value to their business."
   ]
  },
  {
   "cell_type": "markdown",
   "id": "19c5d35e-68f9-40db-9470-ea2d809e9f05",
   "metadata": {},
   "source": [
    "<div style=\"text-align:center;\">\n",
    "    <img src=\"edge.png\" alt=\"MS Edge News\">\n",
    "</div>\n",
    "<br>\n",
    "<center><b>Figure 1. </b>Microsoft Edge Newsfeed with Advertisement Links</center>"
   ]
  },
  {
   "cell_type": "markdown",
   "id": "c3096f7f-8e80-4653-a676-9b6d7063f2d2",
   "metadata": {
    "execution": {
     "iopub.execute_input": "2024-05-04T11:13:06.646341Z",
     "iopub.status.busy": "2024-05-04T11:13:06.644942Z",
     "iopub.status.idle": "2024-05-04T11:13:06.660394Z",
     "shell.execute_reply": "2024-05-04T11:13:06.657654Z",
     "shell.execute_reply.started": "2024-05-04T11:13:06.646268Z"
    }
   },
   "source": [
    "<div class=\"custom-header\">\n",
    "    <h1 class=\"small-caps\"><a name='problem_statement'>Problem Statement</a></h1>\n",
    "</div>"
   ]
  },
  {
   "cell_type": "markdown",
   "id": "b4a087ea-d372-48dc-ada6-ccfae8fe4d4d",
   "metadata": {},
   "source": [
    "The migration of newspapers to online platforms has transformed the manner in which news is disseminated. Previously, news articles were distributed in the form of a newspaper bundle, but online delivery enables a more sophisticated method. News is commonly presented in a newsfeed, where only the most important and relevant articles are shown. For online news platforms, suggesting articles to read is a major problem. Ensuring the relevance and appeal of news articles displayed in a user's newsfeed is crucial for retaining that user. News articles are seldom subject to ratings, unlike movies and books. In addition, the large quantity of news articles produced daily renders explicit ratings unfeasible.  \n",
    "\n",
    "Given the rising demand and interest on online news platforms and the potential revenue of being a top provider of such, the question now is:\n",
    "\n",
    "<center><b>\"How can online news platforms recommend news that are relevant to the users without the presence of explicit ratings?\"</center>"
   ]
  },
  {
   "cell_type": "markdown",
   "id": "e8234717-e439-46c4-94ed-5b83fa5b41a3",
   "metadata": {
    "execution": {
     "iopub.execute_input": "2024-05-10T15:43:32.128951Z",
     "iopub.status.busy": "2024-05-10T15:43:32.128280Z",
     "iopub.status.idle": "2024-05-10T15:43:32.138645Z",
     "shell.execute_reply": "2024-05-10T15:43:32.136621Z",
     "shell.execute_reply.started": "2024-05-10T15:43:32.128893Z"
    }
   },
   "source": [
    "<div class=\"custom-header\">\n",
    "    <h1 class=\"small-caps\"><a name='motivation'>Motivation</a></h1>\n",
    "</div>"
   ]
  },
  {
   "cell_type": "markdown",
   "id": "52879761-9a32-457f-b649-3a7f3b9e39f8",
   "metadata": {},
   "source": [
    "The motivation for this project is to enhance user engagement and satisfaction on online news platforms. With the increasing volume of news content generated daily, it is crucial to deliver relevant and personalized news articles to users. By developing an effective recommendation system that does not rely on explicit user ratings, the project aims to:  \n",
    "\n",
    "1. <b>Improve User Experience:</b> Delivering relevant content will keep users engaged and satisfied, encouraging them to spend more time on the platform.\n",
    "\n",
    "2. <b>Increase Retention Rates:</b> Providing personalized newsfeeds can help retain users, reducing the likelihood of them switching to competing platforms.\n",
    "\n",
    "3. <b>Address the Challenge of Explicit Ratings:</b> Since users are generally not inclined to rate news articles, creating a recommendation system that works without explicit feedback is essential.\n",
    "\n",
    "4. <b>Stay Competitive:</b> In a highly competitive market, especially with the digital presence of traditional media like television and radio, an advanced recommendation system can give an online news platform a significant edge.\n",
    "\n",
    "5. <b>Leverage Data Effectively:</b> Utilizing advanced algorithms and machine learning techniques can help in making sense of large datasets, providing insights that can drive further innovation in content delivery.  \n",
    "\n",
    "6. <b>Increase Ad Engagement:</b> Increased user traffic can increase the desirabilty of the platform to advertisers. This can increase the amount of advertisements the platform runs, or even increase the cost of advertising in their platform."
   ]
  },
  {
   "cell_type": "markdown",
   "id": "8509714c-e83b-4a45-b795-0ad2c1ee8782",
   "metadata": {
    "execution": {
     "iopub.execute_input": "2024-05-10T15:44:18.913911Z",
     "iopub.status.busy": "2024-05-10T15:44:18.913238Z",
     "iopub.status.idle": "2024-05-10T15:44:18.923431Z",
     "shell.execute_reply": "2024-05-10T15:44:18.921450Z",
     "shell.execute_reply.started": "2024-05-10T15:44:18.913852Z"
    }
   },
   "source": [
    "<div class=\"custom-header\">\n",
    "    <h1 class=\"small-caps\"><a name='data_source'>Data Source</a></h1>\n",
    "</div>"
   ]
  },
  {
   "cell_type": "markdown",
   "id": "7a2ee978-c89f-46e4-87c0-eb8b52fcc131",
   "metadata": {},
   "source": [
    "The primary dataset used in this project is **Mi**crosoft **N**ews **D**ataset **(MIND)**. It is a large-scale dataset for news recommendation research collected from anonymized behavior logs of Microsoft News website.  \n",
    "\n",
    "**MIND** contains about 160k English news articles and more than 15 million impression logs generated by 1 million users. Every news article contains rich textual content including title, abstract, body, category, and entities. Each impression log contains the click events, non-clicked events, and historical news click behaviors of this user before this impression. To protect user privacy, each user was de-linked from the production system when securely hashed into an anonymized ID.  \n",
    "\n",
    "However, due to time and computational constraints, this study will be using **MiND-small**. It is a smaller version of the **MiND** dataset generated by\n",
    "sampling 50,000 users and their behavior logs.\n",
    "\n",
    "More information can be checked on this link: https://msnews.github.io/index.html"
   ]
  },
  {
   "cell_type": "markdown",
   "id": "688d4a08-3180-41eb-8ed6-12d7f307aa88",
   "metadata": {
    "execution": {
     "iopub.execute_input": "2024-05-10T15:44:55.190435Z",
     "iopub.status.busy": "2024-05-10T15:44:55.189320Z",
     "iopub.status.idle": "2024-05-10T15:44:55.199309Z",
     "shell.execute_reply": "2024-05-10T15:44:55.197481Z",
     "shell.execute_reply.started": "2024-05-10T15:44:55.190376Z"
    }
   },
   "source": [
    "<div class=\"custom-header\">\n",
    "    <h1 class=\"small-caps\"><a name='data_description'>Data Description</a></h1>\n",
    "</div>"
   ]
  },
  {
   "cell_type": "markdown",
   "id": "9f05f893-dffc-4ca5-86d8-5335b3796926",
   "metadata": {},
   "source": [
    "The dataset is comprised of a train and test folder, but for this project only the train folder will be used. This study will make use of two files from the dataset namely:\n",
    "- **behavior.tsv:** The click histories and impression logs of users.\n",
    "- **news.tsv:** the information of news articles."
   ]
  },
  {
   "cell_type": "markdown",
   "id": "d0f3290f-9a2b-4adb-a1ac-680381df772f",
   "metadata": {},
   "source": [
    "### behavior"
   ]
  },
  {
   "cell_type": "markdown",
   "id": "30c5f2aa-55b9-4490-886c-6c24e6470a43",
   "metadata": {
    "execution": {
     "iopub.execute_input": "2024-05-04T11:26:53.461511Z",
     "iopub.status.busy": "2024-05-04T11:26:53.460808Z",
     "iopub.status.idle": "2024-05-04T11:26:53.477026Z",
     "shell.execute_reply": "2024-05-04T11:26:53.475038Z",
     "shell.execute_reply.started": "2024-05-04T11:26:53.461453Z"
    }
   },
   "source": [
    "The description of the features is `behavior.tsv` is shown on Table 1.\n",
    "\n",
    "| Feature       | Description                                                                                                     |\n",
    "|---------------|-----------------------------------------------------------------------------------------------------------------|\n",
    "| Impression ID | The ID of an impression.                                                                                        |\n",
    "| User ID       | The anonymous ID of a user.                                                                                     |\n",
    "| Time          | The impression time with format “MM/DD/YYYY HH:MM:SS AM/PM”.                                                    |\n",
    "| History       | The news click history (ID list of clicked news) of this user before this impression.                           |\n",
    "| Impressions   | List of news displayed in this impression and user’s click behaviors on them (1 for click and 0 for non-click). |                            \n",
    "\n",
    "<center><b>Table 1. </b>  List and Description of Features in the behavior.tsv </center>\n"
   ]
  },
  {
   "cell_type": "markdown",
   "id": "aab65f99-fa66-428b-b078-d5d873050127",
   "metadata": {},
   "source": [
    "### news"
   ]
  },
  {
   "cell_type": "markdown",
   "id": "624c7514-c94d-437d-88af-9ed270bdad65",
   "metadata": {},
   "source": [
    "The description of the features is `news.tsv` is shown on Table 2.  \n",
    "\n",
    "| Feature           | Description                                                                                                     |\n",
    "|-------------------|-----------------------------------------------------------------------------------------------------------------|\n",
    "| News ID           | The ID of a news article.                                                                                       |\n",
    "| Category          | News Category of the article.                                                                                   |\n",
    "| SubCategory       | The SubCategory of the article.                                                                                 |\n",
    "| Title             | The Title of the news article.                                                                                  |\n",
    "| Abstract          | A short description of the article.                                                                             |\n",
    "| URL               | The link to the article.                                                                                        |\n",
    "| Title Entities    | Entities contained in the title of the news.                                                                     |\n",
    "| Abstract Entities | Entities contained in the abstract of the news.                                                                 |\n",
    "\n",
    "<center><b>Table 2. </b>  List and Description of Features in the news.tsv</center>"
   ]
  },
  {
   "cell_type": "markdown",
   "id": "0a6f9b09-f2c2-414f-9e60-9f3e94e20fa4",
   "metadata": {},
   "source": [
    "<div class=\"custom-header\">\n",
    "    <h1 class=\"small-caps\"><a name='methodology'>Methodology</a></h1>\n",
    "</div>"
   ]
  },
  {
   "cell_type": "markdown",
   "id": "35e39c80-e424-470f-af43-702742214075",
   "metadata": {},
   "source": [
    "An overview of the steps to be done in the project is found in Figure 2."
   ]
  },
  {
   "cell_type": "markdown",
   "id": "b3f32f4f-6c8e-44e9-8e73-85d365036151",
   "metadata": {},
   "source": [
    "<div style=\"text-align:center;\">\n",
    "    <img src=\"methodology.png\" alt=\"Methodology Overview Flowchart\">\n",
    "</div>\n",
    "<br>\n",
    "<center><b>Figure 2. </b>Methodology Overview</center>"
   ]
  },
  {
   "cell_type": "markdown",
   "id": "6b6b7b75-c371-4a74-a682-c1c0259c9f26",
   "metadata": {},
   "source": [
    "The project's aim is to generate news article recommendations using implicit data, e.g. user click impressions. To achieve this, the team will follow five major steps after data was acquired from the source website. Short description for each step is shown in Table 3.\n",
    "\n",
    "Exploration of the dataset will be done to understand the MiND dataset. Sanity checks will also be done in this section. Afterwards, data cleaning and preprocess will be done to prepare the utility matrix used in training recommender systems.\n",
    "\n",
    "The `implicit` python package will be used to train the different implicit models. The models to be considered are the following:\n",
    "1. Alternating Least Squares (as-is)\n",
    "2. Alternating Least Squares (TF-IDF)\n",
    "3. Logistic Matrix Factorization\n",
    "4. Bayesian Personalized Ranking\n",
    "\n",
    "Each of the four models will be evaluated using the metrics applicable for Recommender Systems namely:\n",
    "- Mean Average Precision @ k (MAP@k)\n",
    "- Normalized Discounted Cumulative Gain (nDCG)\n",
    "- Mean Reciprocal Rank (MRR)\n",
    "\n",
    "The final model will be chosen based on the prior evaluation done. News article recommendations from the final model will be extracted for a sample of users to be compared to their historical clicked articles."
   ]
  },
  {
   "cell_type": "markdown",
   "id": "ded91c5e-cd59-42f2-a0cc-c1ffab782bb5",
   "metadata": {
    "execution": {
     "iopub.execute_input": "2024-06-02T09:40:34.347703Z",
     "iopub.status.busy": "2024-06-02T09:40:34.346619Z",
     "iopub.status.idle": "2024-06-02T09:40:34.371954Z",
     "shell.execute_reply": "2024-06-02T09:40:34.370844Z",
     "shell.execute_reply.started": "2024-06-02T09:40:34.347654Z"
    }
   },
   "source": [
    "||<center>Step</center>|<center>Detailed Description</center>| \n",
    "|:---|:---|:---|\n",
    "|`1`|Data Exploration| Visualize data to extract insights about the business problem|\n",
    "|`2`|Data Cleaning and Preprocessing| Utility matrix will be created consisting of clicks, non-clicks, and never-seen articles|\n",
    "|`3`|Implicit Model Training| Implicit Models based on different algorithms were trained using the completed utility matrix |\n",
    "|`4`|Evaluation of Metrics| After training the different models, several metrics were evaluated for each model to identify the final model to be used. |\n",
    "|`5`|Recommend News Articles| Using the final trained implicit recommender system model, recommendations of news articles to sample users were made and compared with their clicked articles.|\n",
    "\n",
    "<center><b>Table 3. </b> Project Pipeline</center>"
   ]
  },
  {
   "cell_type": "markdown",
   "id": "20f7bfdb-723e-4f28-b20c-a22359e8ae5b",
   "metadata": {},
   "source": [
    "<div class=\"custom-header\">\n",
    "    <h1 class=\"small-caps\"><a name='EDA'>Exploratory Data Analysis</a></h1>\n",
    "</div>"
   ]
  },
  {
   "cell_type": "markdown",
   "id": "ea691488-7659-4190-9785-05811d469242",
   "metadata": {},
   "source": [
    "### Load the Dataset"
   ]
  },
  {
   "cell_type": "code",
   "execution_count": 3,
   "id": "e40f0a59-c2d8-46e2-a5aa-5f0fc7a08be9",
   "metadata": {
    "execution": {
     "iopub.execute_input": "2024-06-03T13:58:05.971737Z",
     "iopub.status.busy": "2024-06-03T13:58:05.971589Z",
     "iopub.status.idle": "2024-06-03T13:58:07.208636Z",
     "shell.execute_reply": "2024-06-03T13:58:07.208310Z",
     "shell.execute_reply.started": "2024-06-03T13:58:05.971724Z"
    }
   },
   "outputs": [],
   "source": [
    "# Name the columns\n",
    "bhv_cols = [\"Impression_ID\", \"User_ID\", \"Time\", \"History\", \"Impressions\"]\n",
    "nws_cols = [\"News_ID\", \"Category\", \"SubCategory\", \"Title\",\n",
    "            \"Abstract\", \"URL\", \"Title_Entities\", \"Abstract_Entities\"]\n",
    "\n",
    "# Load the tsv's\n",
    "df_train_bhv = pd.read_csv(\"small_data/MINDsmall_train/behaviors.tsv\",\n",
    "                           sep=\"\\t\", header=None, names=bhv_cols)\n",
    "df_train_news = pd.read_csv('small_data/MINDsmall_train/news.tsv',\n",
    "                            sep='\\t', header=None, names=nws_cols)\n",
    "\n",
    "# Convert Time col to datetime\n",
    "df_train_bhv[\"Time\"] = pd.to_datetime(df_train_bhv[\"Time\"])\n",
    "\n",
    "# Extract Usern list\n",
    "train_users = (\n",
    "    df_train_bhv['User_ID']\n",
    "    .value_counts()\n",
    "    .index\n",
    "    .tolist()\n",
    ")"
   ]
  },
  {
   "cell_type": "markdown",
   "id": "f5da7723-d84c-42b2-aa82-bdeded5f8da8",
   "metadata": {},
   "source": [
    "The `behaviors.tsv` file contains behavior logs made by the users. Each behavior log has unique `Impression_ID`, the `User_ID` who made the impressions, `Time` when the behavior was logged, the click `History` of the user as of the time of the behavior log, and the `Impressions` made.\n",
    "\n",
    "User Impressions were split into two types: **non-clicks** and **click**. Non-clicks are news articles that were observed by the user but were not selected for reading. Non-clicks are denoted with a `0` after the News_ID. For the article that the user eventually selected for reading, this was denoted with a `1`."
   ]
  },
  {
   "cell_type": "code",
   "execution_count": 4,
   "id": "2c66f9a1-dc21-46a7-a300-001a66d9a586",
   "metadata": {
    "execution": {
     "iopub.execute_input": "2024-06-03T13:58:07.209213Z",
     "iopub.status.busy": "2024-06-03T13:58:07.209070Z",
     "iopub.status.idle": "2024-06-03T13:58:07.218559Z",
     "shell.execute_reply": "2024-06-03T13:58:07.218303Z",
     "shell.execute_reply.started": "2024-06-03T13:58:07.209200Z"
    }
   },
   "outputs": [
    {
     "data": {
      "text/html": [
       "<div>\n",
       "<style scoped>\n",
       "    .dataframe tbody tr th:only-of-type {\n",
       "        vertical-align: middle;\n",
       "    }\n",
       "\n",
       "    .dataframe tbody tr th {\n",
       "        vertical-align: top;\n",
       "    }\n",
       "\n",
       "    .dataframe thead th {\n",
       "        text-align: right;\n",
       "    }\n",
       "</style>\n",
       "<table border=\"1\" class=\"dataframe\">\n",
       "  <thead>\n",
       "    <tr style=\"text-align: right;\">\n",
       "      <th></th>\n",
       "      <th>Impression_ID</th>\n",
       "      <th>User_ID</th>\n",
       "      <th>Time</th>\n",
       "      <th>History</th>\n",
       "      <th>Impressions</th>\n",
       "    </tr>\n",
       "  </thead>\n",
       "  <tbody>\n",
       "    <tr>\n",
       "      <th>0</th>\n",
       "      <td>1</td>\n",
       "      <td>U13740</td>\n",
       "      <td>2019-11-11 09:05:58</td>\n",
       "      <td>N55189 N42782 N34694 N45794 N18445 N63302 N104...</td>\n",
       "      <td>N55689-1 N35729-0</td>\n",
       "    </tr>\n",
       "    <tr>\n",
       "      <th>1</th>\n",
       "      <td>2</td>\n",
       "      <td>U91836</td>\n",
       "      <td>2019-11-12 18:11:30</td>\n",
       "      <td>N31739 N6072 N63045 N23979 N35656 N43353 N8129...</td>\n",
       "      <td>N20678-0 N39317-0 N58114-0 N20495-0 N42977-0 N...</td>\n",
       "    </tr>\n",
       "    <tr>\n",
       "      <th>2</th>\n",
       "      <td>3</td>\n",
       "      <td>U73700</td>\n",
       "      <td>2019-11-14 07:01:48</td>\n",
       "      <td>N10732 N25792 N7563 N21087 N41087 N5445 N60384...</td>\n",
       "      <td>N50014-0 N23877-0 N35389-0 N49712-0 N16844-0 N...</td>\n",
       "    </tr>\n",
       "    <tr>\n",
       "      <th>3</th>\n",
       "      <td>4</td>\n",
       "      <td>U34670</td>\n",
       "      <td>2019-11-11 05:28:05</td>\n",
       "      <td>N45729 N2203 N871 N53880 N41375 N43142 N33013 ...</td>\n",
       "      <td>N35729-0 N33632-0 N49685-1 N27581-0</td>\n",
       "    </tr>\n",
       "    <tr>\n",
       "      <th>4</th>\n",
       "      <td>5</td>\n",
       "      <td>U8125</td>\n",
       "      <td>2019-11-12 16:11:21</td>\n",
       "      <td>N10078 N56514 N14904 N33740</td>\n",
       "      <td>N39985-0 N36050-0 N16096-0 N8400-1 N22407-0 N6...</td>\n",
       "    </tr>\n",
       "  </tbody>\n",
       "</table>\n",
       "</div>"
      ],
      "text/plain": [
       "   Impression_ID User_ID                Time  \\\n",
       "0              1  U13740 2019-11-11 09:05:58   \n",
       "1              2  U91836 2019-11-12 18:11:30   \n",
       "2              3  U73700 2019-11-14 07:01:48   \n",
       "3              4  U34670 2019-11-11 05:28:05   \n",
       "4              5   U8125 2019-11-12 16:11:21   \n",
       "\n",
       "                                             History  \\\n",
       "0  N55189 N42782 N34694 N45794 N18445 N63302 N104...   \n",
       "1  N31739 N6072 N63045 N23979 N35656 N43353 N8129...   \n",
       "2  N10732 N25792 N7563 N21087 N41087 N5445 N60384...   \n",
       "3  N45729 N2203 N871 N53880 N41375 N43142 N33013 ...   \n",
       "4                        N10078 N56514 N14904 N33740   \n",
       "\n",
       "                                         Impressions  \n",
       "0                                  N55689-1 N35729-0  \n",
       "1  N20678-0 N39317-0 N58114-0 N20495-0 N42977-0 N...  \n",
       "2  N50014-0 N23877-0 N35389-0 N49712-0 N16844-0 N...  \n",
       "3                N35729-0 N33632-0 N49685-1 N27581-0  \n",
       "4  N39985-0 N36050-0 N16096-0 N8400-1 N22407-0 N6...  "
      ]
     },
     "execution_count": 4,
     "metadata": {},
     "output_type": "execute_result"
    }
   ],
   "source": [
    "df_train_bhv.head()"
   ]
  },
  {
   "cell_type": "markdown",
   "id": "94ec457f-5a95-4407-9dd9-7e528f7771d4",
   "metadata": {},
   "source": [
    "**Table 4.** Preview of `behavior.tsv` dataframe showing first 5 rows."
   ]
  },
  {
   "cell_type": "markdown",
   "id": "b4468aed-aec3-4851-b363-c8f1021bd310",
   "metadata": {},
   "source": [
    "The `news.tsv` file contains the content of each news article such as its unique `News_ID`, `Category`, `SubCategory`, `Title`, among others. For the purpose of this project, this will be used to understand and compare descriptively the recommendations made by the models with the historical clicked articles."
   ]
  },
  {
   "cell_type": "code",
   "execution_count": 5,
   "id": "743f2a7e-1776-4db7-ad12-6ba96d8f7430",
   "metadata": {
    "execution": {
     "iopub.execute_input": "2024-06-03T13:58:07.219116Z",
     "iopub.status.busy": "2024-06-03T13:58:07.218970Z",
     "iopub.status.idle": "2024-06-03T13:58:07.224036Z",
     "shell.execute_reply": "2024-06-03T13:58:07.223759Z",
     "shell.execute_reply.started": "2024-06-03T13:58:07.219103Z"
    }
   },
   "outputs": [
    {
     "data": {
      "text/html": [
       "<div>\n",
       "<style scoped>\n",
       "    .dataframe tbody tr th:only-of-type {\n",
       "        vertical-align: middle;\n",
       "    }\n",
       "\n",
       "    .dataframe tbody tr th {\n",
       "        vertical-align: top;\n",
       "    }\n",
       "\n",
       "    .dataframe thead th {\n",
       "        text-align: right;\n",
       "    }\n",
       "</style>\n",
       "<table border=\"1\" class=\"dataframe\">\n",
       "  <thead>\n",
       "    <tr style=\"text-align: right;\">\n",
       "      <th></th>\n",
       "      <th>News_ID</th>\n",
       "      <th>Category</th>\n",
       "      <th>SubCategory</th>\n",
       "      <th>Title</th>\n",
       "      <th>Abstract</th>\n",
       "      <th>URL</th>\n",
       "      <th>Title_Entities</th>\n",
       "      <th>Abstract_Entities</th>\n",
       "    </tr>\n",
       "  </thead>\n",
       "  <tbody>\n",
       "    <tr>\n",
       "      <th>0</th>\n",
       "      <td>N55528</td>\n",
       "      <td>lifestyle</td>\n",
       "      <td>lifestyleroyals</td>\n",
       "      <td>The Brands Queen Elizabeth, Prince Charles, an...</td>\n",
       "      <td>Shop the notebooks, jackets, and more that the...</td>\n",
       "      <td>https://assets.msn.com/labs/mind/AAGH0ET.html</td>\n",
       "      <td>[{\"Label\": \"Prince Philip, Duke of Edinburgh\",...</td>\n",
       "      <td>[]</td>\n",
       "    </tr>\n",
       "    <tr>\n",
       "      <th>1</th>\n",
       "      <td>N19639</td>\n",
       "      <td>health</td>\n",
       "      <td>weightloss</td>\n",
       "      <td>50 Worst Habits For Belly Fat</td>\n",
       "      <td>These seemingly harmless habits are holding yo...</td>\n",
       "      <td>https://assets.msn.com/labs/mind/AAB19MK.html</td>\n",
       "      <td>[{\"Label\": \"Adipose tissue\", \"Type\": \"C\", \"Wik...</td>\n",
       "      <td>[{\"Label\": \"Adipose tissue\", \"Type\": \"C\", \"Wik...</td>\n",
       "    </tr>\n",
       "    <tr>\n",
       "      <th>2</th>\n",
       "      <td>N61837</td>\n",
       "      <td>news</td>\n",
       "      <td>newsworld</td>\n",
       "      <td>The Cost of Trump's Aid Freeze in the Trenches...</td>\n",
       "      <td>Lt. Ivan Molchanets peeked over a parapet of s...</td>\n",
       "      <td>https://assets.msn.com/labs/mind/AAJgNsz.html</td>\n",
       "      <td>[]</td>\n",
       "      <td>[{\"Label\": \"Ukraine\", \"Type\": \"G\", \"WikidataId...</td>\n",
       "    </tr>\n",
       "    <tr>\n",
       "      <th>3</th>\n",
       "      <td>N53526</td>\n",
       "      <td>health</td>\n",
       "      <td>voices</td>\n",
       "      <td>I Was An NBA Wife. Here's How It Affected My M...</td>\n",
       "      <td>I felt like I was a fraud, and being an NBA wi...</td>\n",
       "      <td>https://assets.msn.com/labs/mind/AACk2N6.html</td>\n",
       "      <td>[]</td>\n",
       "      <td>[{\"Label\": \"National Basketball Association\", ...</td>\n",
       "    </tr>\n",
       "    <tr>\n",
       "      <th>4</th>\n",
       "      <td>N38324</td>\n",
       "      <td>health</td>\n",
       "      <td>medical</td>\n",
       "      <td>How to Get Rid of Skin Tags, According to a De...</td>\n",
       "      <td>They seem harmless, but there's a very good re...</td>\n",
       "      <td>https://assets.msn.com/labs/mind/AAAKEkt.html</td>\n",
       "      <td>[{\"Label\": \"Skin tag\", \"Type\": \"C\", \"WikidataI...</td>\n",
       "      <td>[{\"Label\": \"Skin tag\", \"Type\": \"C\", \"WikidataI...</td>\n",
       "    </tr>\n",
       "  </tbody>\n",
       "</table>\n",
       "</div>"
      ],
      "text/plain": [
       "  News_ID   Category      SubCategory  \\\n",
       "0  N55528  lifestyle  lifestyleroyals   \n",
       "1  N19639     health       weightloss   \n",
       "2  N61837       news        newsworld   \n",
       "3  N53526     health           voices   \n",
       "4  N38324     health          medical   \n",
       "\n",
       "                                               Title  \\\n",
       "0  The Brands Queen Elizabeth, Prince Charles, an...   \n",
       "1                      50 Worst Habits For Belly Fat   \n",
       "2  The Cost of Trump's Aid Freeze in the Trenches...   \n",
       "3  I Was An NBA Wife. Here's How It Affected My M...   \n",
       "4  How to Get Rid of Skin Tags, According to a De...   \n",
       "\n",
       "                                            Abstract  \\\n",
       "0  Shop the notebooks, jackets, and more that the...   \n",
       "1  These seemingly harmless habits are holding yo...   \n",
       "2  Lt. Ivan Molchanets peeked over a parapet of s...   \n",
       "3  I felt like I was a fraud, and being an NBA wi...   \n",
       "4  They seem harmless, but there's a very good re...   \n",
       "\n",
       "                                             URL  \\\n",
       "0  https://assets.msn.com/labs/mind/AAGH0ET.html   \n",
       "1  https://assets.msn.com/labs/mind/AAB19MK.html   \n",
       "2  https://assets.msn.com/labs/mind/AAJgNsz.html   \n",
       "3  https://assets.msn.com/labs/mind/AACk2N6.html   \n",
       "4  https://assets.msn.com/labs/mind/AAAKEkt.html   \n",
       "\n",
       "                                      Title_Entities  \\\n",
       "0  [{\"Label\": \"Prince Philip, Duke of Edinburgh\",...   \n",
       "1  [{\"Label\": \"Adipose tissue\", \"Type\": \"C\", \"Wik...   \n",
       "2                                                 []   \n",
       "3                                                 []   \n",
       "4  [{\"Label\": \"Skin tag\", \"Type\": \"C\", \"WikidataI...   \n",
       "\n",
       "                                   Abstract_Entities  \n",
       "0                                                 []  \n",
       "1  [{\"Label\": \"Adipose tissue\", \"Type\": \"C\", \"Wik...  \n",
       "2  [{\"Label\": \"Ukraine\", \"Type\": \"G\", \"WikidataId...  \n",
       "3  [{\"Label\": \"National Basketball Association\", ...  \n",
       "4  [{\"Label\": \"Skin tag\", \"Type\": \"C\", \"WikidataI...  "
      ]
     },
     "execution_count": 5,
     "metadata": {},
     "output_type": "execute_result"
    }
   ],
   "source": [
    "df_train_news.head()"
   ]
  },
  {
   "cell_type": "markdown",
   "id": "c4bd175c-48eb-42a9-9cda-61719f92d7a5",
   "metadata": {},
   "source": [
    "**Table 5.** Preview of `news.tsv` dataframe showing first 5 rows."
   ]
  },
  {
   "cell_type": "markdown",
   "id": "acdd5592-e824-4e1a-92a7-e98a0d62d3fd",
   "metadata": {},
   "source": [
    "### Null Values Handling"
   ]
  },
  {
   "cell_type": "markdown",
   "id": "3890baf2-0f20-48c6-807c-0b991d5a69a2",
   "metadata": {},
   "source": [
    "The two dataframes containing the data from `behavior.tsv` and `news.tsv` are checked for null values that might affect the processing of the data during analysis."
   ]
  },
  {
   "cell_type": "code",
   "execution_count": 6,
   "id": "6963c611-fba1-4f13-ba37-8dcb628b3f83",
   "metadata": {
    "execution": {
     "iopub.execute_input": "2024-06-03T13:58:07.224592Z",
     "iopub.status.busy": "2024-06-03T13:58:07.224444Z",
     "iopub.status.idle": "2024-06-03T13:58:07.247944Z",
     "shell.execute_reply": "2024-06-03T13:58:07.247653Z",
     "shell.execute_reply.started": "2024-06-03T13:58:07.224580Z"
    }
   },
   "outputs": [
    {
     "name": "stdout",
     "output_type": "stream",
     "text": [
      "<class 'pandas.core.frame.DataFrame'>\n",
      "RangeIndex: 156965 entries, 0 to 156964\n",
      "Data columns (total 5 columns):\n",
      " #   Column         Non-Null Count   Dtype         \n",
      "---  ------         --------------   -----         \n",
      " 0   Impression_ID  156965 non-null  int64         \n",
      " 1   User_ID        156965 non-null  object        \n",
      " 2   Time           156965 non-null  datetime64[ns]\n",
      " 3   History        153727 non-null  object        \n",
      " 4   Impressions    156965 non-null  object        \n",
      "dtypes: datetime64[ns](1), int64(1), object(3)\n",
      "memory usage: 6.0+ MB\n"
     ]
    }
   ],
   "source": [
    "df_train_bhv.info()"
   ]
  },
  {
   "cell_type": "markdown",
   "id": "a20290a3-a55b-4557-b86e-d123b41a3604",
   "metadata": {},
   "source": [
    "The `behavior` data contains missing values for the History column, but this is perfectly fine since at the start a new user's earliest impression entry would have no\n",
    "corresponding history value. This is because that row contains the user's first impression, meaning the person has no history of news article clicks. This would not\n",
    "affect the analysis because only the latest timestamp for each user is used to generate the utility matrix."
   ]
  },
  {
   "cell_type": "code",
   "execution_count": 7,
   "id": "556f1e6b-c9ff-471f-97ff-5c2099449ac4",
   "metadata": {
    "execution": {
     "iopub.execute_input": "2024-06-03T13:58:07.249422Z",
     "iopub.status.busy": "2024-06-03T13:58:07.249161Z",
     "iopub.status.idle": "2024-06-03T13:58:07.263239Z",
     "shell.execute_reply": "2024-06-03T13:58:07.262785Z",
     "shell.execute_reply.started": "2024-06-03T13:58:07.249408Z"
    },
    "scrolled": true
   },
   "outputs": [
    {
     "name": "stdout",
     "output_type": "stream",
     "text": [
      "<class 'pandas.core.frame.DataFrame'>\n",
      "RangeIndex: 51282 entries, 0 to 51281\n",
      "Data columns (total 8 columns):\n",
      " #   Column             Non-Null Count  Dtype \n",
      "---  ------             --------------  ----- \n",
      " 0   News_ID            51282 non-null  object\n",
      " 1   Category           51282 non-null  object\n",
      " 2   SubCategory        51282 non-null  object\n",
      " 3   Title              51282 non-null  object\n",
      " 4   Abstract           48616 non-null  object\n",
      " 5   URL                51282 non-null  object\n",
      " 6   Title_Entities     51279 non-null  object\n",
      " 7   Abstract_Entities  51278 non-null  object\n",
      "dtypes: object(8)\n",
      "memory usage: 3.1+ MB\n"
     ]
    }
   ],
   "source": [
    "df_train_news.info()"
   ]
  },
  {
   "cell_type": "markdown",
   "id": "950fae89-7331-4688-96f0-771cf1fd1ed9",
   "metadata": {},
   "source": [
    "The `news` data also contains missing values but for the Abstract column. This does not directly affect the creation of the recommendation system since, we are not using any content based recommendation sytem."
   ]
  },
  {
   "cell_type": "markdown",
   "id": "30d8ba4a-a7d5-4a21-b939-b18f2495f319",
   "metadata": {},
   "source": [
    "### Data Quantity and Basic Statistics"
   ]
  },
  {
   "cell_type": "code",
   "execution_count": 8,
   "id": "70173eb0-4723-42f3-ac74-dd6168e43190",
   "metadata": {
    "execution": {
     "iopub.execute_input": "2024-06-03T13:58:07.264375Z",
     "iopub.status.busy": "2024-06-03T13:58:07.264060Z",
     "iopub.status.idle": "2024-06-03T13:58:07.268006Z",
     "shell.execute_reply": "2024-06-03T13:58:07.267366Z",
     "shell.execute_reply.started": "2024-06-03T13:58:07.264354Z"
    }
   },
   "outputs": [
    {
     "name": "stdout",
     "output_type": "stream",
     "text": [
      "Number of impression logs is: 156965\n"
     ]
    }
   ],
   "source": [
    "print(f'Number of impression logs is: {len(df_train_bhv)}')"
   ]
  },
  {
   "cell_type": "code",
   "execution_count": 9,
   "id": "c3f82ac6-b206-441a-96b5-d59f21cb4c43",
   "metadata": {
    "execution": {
     "iopub.execute_input": "2024-06-03T13:58:07.269430Z",
     "iopub.status.busy": "2024-06-03T13:58:07.268800Z",
     "iopub.status.idle": "2024-06-03T13:58:07.274321Z",
     "shell.execute_reply": "2024-06-03T13:58:07.273800Z",
     "shell.execute_reply.started": "2024-06-03T13:58:07.269260Z"
    }
   },
   "outputs": [
    {
     "name": "stdout",
     "output_type": "stream",
     "text": [
      "Number of unique User ID's is: 50000\n"
     ]
    }
   ],
   "source": [
    "print(f\"Number of unique User ID's is: {len(train_users)}\")"
   ]
  },
  {
   "cell_type": "code",
   "execution_count": 10,
   "id": "2a61c65f-bdf2-40d1-9ca4-90d574824f6b",
   "metadata": {
    "execution": {
     "iopub.execute_input": "2024-06-03T13:58:07.275228Z",
     "iopub.status.busy": "2024-06-03T13:58:07.274928Z",
     "iopub.status.idle": "2024-06-03T13:58:07.279834Z",
     "shell.execute_reply": "2024-06-03T13:58:07.279316Z",
     "shell.execute_reply.started": "2024-06-03T13:58:07.275209Z"
    }
   },
   "outputs": [
    {
     "name": "stdout",
     "output_type": "stream",
     "text": [
      "Number of unique News ID's is: 51282\n"
     ]
    }
   ],
   "source": [
    "print(f\"Number of unique News ID's is: {len(df_train_news)}\")"
   ]
  },
  {
   "cell_type": "code",
   "execution_count": 11,
   "id": "c96574b1-94ac-48b6-93f3-9a2703055c4b",
   "metadata": {
    "execution": {
     "iopub.execute_input": "2024-06-03T13:58:07.280740Z",
     "iopub.status.busy": "2024-06-03T13:58:07.280533Z",
     "iopub.status.idle": "2024-06-03T13:58:07.294442Z",
     "shell.execute_reply": "2024-06-03T13:58:07.293864Z",
     "shell.execute_reply.started": "2024-06-03T13:58:07.280725Z"
    }
   },
   "outputs": [
    {
     "data": {
      "text/plain": [
       "count                           156965\n",
       "mean     2019-11-12 09:36:00.672913920\n",
       "min                2019-11-09 00:00:19\n",
       "25%                2019-11-11 08:37:59\n",
       "50%                2019-11-12 11:08:28\n",
       "75%                2019-11-13 13:30:14\n",
       "max                2019-11-14 23:59:13\n",
       "Name: Time, dtype: object"
      ]
     },
     "execution_count": 11,
     "metadata": {},
     "output_type": "execute_result"
    }
   ],
   "source": [
    "df_train_bhv['Time'].describe()"
   ]
  },
  {
   "cell_type": "markdown",
   "id": "b2fefd86-c09a-4b13-9101-af5da1e98bbf",
   "metadata": {},
   "source": [
    "The full dataset consists of 156,965 impression logs covering a timespan of around 6 days only, from November 9 to 14 of 2019.\n",
    "The dataset also comprises of 50,000 users as mentioned and 51,282 news articles."
   ]
  },
  {
   "cell_type": "markdown",
   "id": "f686ac92-bd82-4419-9900-87b056dc4dae",
   "metadata": {},
   "source": [
    "### Data Visualizations"
   ]
  },
  {
   "cell_type": "code",
   "execution_count": 12,
   "id": "09dac569-ef77-46d4-bdb9-0f5be0330aeb",
   "metadata": {
    "execution": {
     "iopub.execute_input": "2024-06-03T13:58:07.295257Z",
     "iopub.status.busy": "2024-06-03T13:58:07.295086Z",
     "iopub.status.idle": "2024-06-03T13:58:17.351511Z",
     "shell.execute_reply": "2024-06-03T13:58:17.351116Z",
     "shell.execute_reply.started": "2024-06-03T13:58:07.295240Z"
    }
   },
   "outputs": [],
   "source": [
    "# Add column for articles not clicked by user\n",
    "df_train_bhv[\"not_clicks\"] = (\n",
    "    df_train_bhv[\"Impressions\"]\n",
    "    .str.extractall(r\"(N\\d+)-0\")\n",
    "    .reset_index(0)\n",
    "    .groupby(\"level_0\")[0]\n",
    "    .apply(list)\n",
    ")\n",
    "\n",
    "# Create a df with idx=user and one column containing articles not clicked\n",
    "not_clicks_per_user = (\n",
    "    df_train_bhv\n",
    "    .groupby(\"User_ID\")[\"not_clicks\"]\n",
    "    .apply(lambda x: set(sum(x, [])))\n",
    ")\n",
    "\n",
    "df_train_bhv = df_train_bhv.sort_values(by=['User_ID', 'Time'])\n",
    "\n",
    "df_max_time_per_user = (\n",
    "    df_train_bhv\n",
    "    .drop_duplicates(subset=['User_ID'], keep='last')\n",
    "    .copy()\n",
    ")\n",
    "\n",
    "df_max_time_per_user['History'] = df_max_time_per_user['History'].fillna(\"\")\n",
    "\n",
    "series_imp = (\n",
    "    df_max_time_per_user['Impressions']\n",
    "    .str.extract(r'(N\\d+)-1')\n",
    ")\n",
    "\n",
    "df_max_time_per_user['all_impressions'] = (\n",
    "    df_max_time_per_user['History'] + ' ' + series_imp[0]\n",
    ")\n",
    "\n",
    "df_max_time_per_user[\"all_impressions_list\"] = (\n",
    "    df_max_time_per_user[\"all_impressions\"]\n",
    "    .str.split(\" \")\n",
    ")\n",
    "\n",
    "df_max_time_per_user = (\n",
    "    pd.merge(df_max_time_per_user,\n",
    "             not_clicks_per_user.to_frame(),\n",
    "             left_on='User_ID',\n",
    "             right_index=True)\n",
    ")\n",
    "\n",
    "df_max_time_per_user_s = df_max_time_per_user.sample(n=10000, random_state=26)\n",
    "\n",
    "mlb_for_plot = MultiLabelBinarizer()\n",
    "df_mlb_for_plot = (\n",
    "    pd.DataFrame(\n",
    "        mlb_for_plot.fit_transform(\n",
    "            df_max_time_per_user[\"all_impressions_list\"]),\n",
    "        columns=mlb_for_plot.classes_,\n",
    "        index=df_max_time_per_user[\"User_ID\"],\n",
    "    )\n",
    ").iloc[:,1:]"
   ]
  },
  {
   "cell_type": "code",
   "execution_count": 13,
   "id": "1815e1b1-5949-4f99-9db4-140a250b5e08",
   "metadata": {
    "execution": {
     "iopub.execute_input": "2024-06-03T13:58:17.352005Z",
     "iopub.status.busy": "2024-06-03T13:58:17.351912Z",
     "iopub.status.idle": "2024-06-03T13:58:17.538654Z",
     "shell.execute_reply": "2024-06-03T13:58:17.538323Z",
     "shell.execute_reply.started": "2024-06-03T13:58:17.351998Z"
    }
   },
   "outputs": [
    {
     "data": {
      "text/html": [
       "<div style=\"text-align: center;\">\n",
       "                   <img src=\"data:image/png;base64,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\"\n",
       "                        alt=\"Ranking of Article Category by Count\"/>\n",
       "                   </div>"
      ],
      "text/plain": [
       "<IPython.core.display.HTML object>"
      ]
     },
     "metadata": {},
     "output_type": "display_data"
    }
   ],
   "source": [
    "plt.figure(figsize=(15,8))\n",
    "(df_train_news\n",
    " .value_counts('Category')\n",
    " .sort_values(ascending=True)\n",
    " .plot\n",
    " .barh(width = 0.7,\n",
    "       color = '#5D94D8')\n",
    ")\n",
    "plt.title('Ranking of Article Category by Count',\n",
    "          fontsize='20',\n",
    "          fontweight='bold',\n",
    "          pad=25)\n",
    "plt.xlabel(\"Count\", labelpad=15, fontsize='15', fontweight='normal')\n",
    "plt.ylabel(\"Category\", labelpad=15, fontsize='15', fontweight='normal')\n",
    "plt.tight_layout()\n",
    "plot_to_html('Ranking of Article Category by Count')"
   ]
  },
  {
   "cell_type": "markdown",
   "id": "7c2ef4bd-0250-46e2-a3cd-4f3e7020698e",
   "metadata": {},
   "source": [
    "<center><b>Figure 3. </b>Bar Graph showing the Article Category Ranking by Count</center>"
   ]
  },
  {
   "cell_type": "markdown",
   "id": "501dcb57-9564-407d-91d0-944f09a20744",
   "metadata": {},
   "source": [
    "As seen in **Figure 3**, there are  17 news categories and **Sports** and **News** are the most read news category. "
   ]
  },
  {
   "cell_type": "code",
   "execution_count": 14,
   "id": "65c1c329-0f58-483b-89ef-06a7efa33c20",
   "metadata": {
    "execution": {
     "iopub.execute_input": "2024-06-03T13:58:17.539251Z",
     "iopub.status.busy": "2024-06-03T13:58:17.539128Z",
     "iopub.status.idle": "2024-06-03T13:58:17.643471Z",
     "shell.execute_reply": "2024-06-03T13:58:17.643082Z",
     "shell.execute_reply.started": "2024-06-03T13:58:17.539240Z"
    }
   },
   "outputs": [
    {
     "data": {
      "text/html": [
       "<div style=\"text-align: center;\">\n",
       "                   <img src=\"data:image/png;base64,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\"\n",
       "                        alt=\"Top 5 Article Subcategory by Count\"/>\n",
       "                   </div>"
      ],
      "text/plain": [
       "<IPython.core.display.HTML object>"
      ]
     },
     "metadata": {},
     "output_type": "display_data"
    }
   ],
   "source": [
    "plt.figure(figsize=(15,5))\n",
    "(df_train_news\n",
    " .value_counts('SubCategory')[:10]\n",
    " .sort_values(ascending=True)\n",
    " .plot\n",
    " .barh(width = 0.7,\n",
    "       color = '#7EC7E9')\n",
    ")\n",
    "plt.title('Top 5 Article Subcategory by Count',\n",
    "          fontsize='20',\n",
    "          fontweight='bold',\n",
    "          pad=25)\n",
    "plt.xlabel(\"Count\", labelpad=15, fontsize='15', fontweight='normal')\n",
    "plt.ylabel(\"SubCategory\", labelpad=15, fontsize='15', fontweight='normal')\n",
    "plt.tight_layout()\n",
    "plot_to_html('Top 5 Article Subcategory by Count')"
   ]
  },
  {
   "cell_type": "markdown",
   "id": "58ef14c5-4d45-48a3-957f-0eb03c928033",
   "metadata": {},
   "source": [
    "<center><b>Figure 4. </b>Bar Graph showing the Top 5 Article Subcategories by Count</center>"
   ]
  },
  {
   "cell_type": "markdown",
   "id": "0eec0488-ac3a-4a63-a4b7-9a8db5d31b0b",
   "metadata": {},
   "source": [
    "**Figure 4** shows **US news** and **NFL news** are the 2 most read news. This aligns with the findings with **Figure 3**. "
   ]
  },
  {
   "cell_type": "code",
   "execution_count": 15,
   "id": "069ae4de-4c32-4fd4-b9ee-445aded02a57",
   "metadata": {
    "execution": {
     "iopub.execute_input": "2024-06-03T13:58:17.644058Z",
     "iopub.status.busy": "2024-06-03T13:58:17.643932Z",
     "iopub.status.idle": "2024-06-03T13:58:17.858270Z",
     "shell.execute_reply": "2024-06-03T13:58:17.857768Z",
     "shell.execute_reply.started": "2024-06-03T13:58:17.644048Z"
    }
   },
   "outputs": [
    {
     "name": "stderr",
     "output_type": "stream",
     "text": [
      "/home/kcfuy/anaconda3/envs/recsys/lib/python3.11/site-packages/seaborn/_oldcore.py:1119: FutureWarning: use_inf_as_na option is deprecated and will be removed in a future version. Convert inf values to NaN before operating instead.\n",
      "  with pd.option_context('mode.use_inf_as_na', True):\n"
     ]
    },
    {
     "data": {
      "text/html": [
       "<div style=\"text-align: center;\">\n",
       "                   <img src=\"data:image/png;base64,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\"\n",
       "                        alt=\"Histogram of User Impression Count\"/>\n",
       "                   </div>"
      ],
      "text/plain": [
       "<IPython.core.display.HTML object>"
      ]
     },
     "metadata": {},
     "output_type": "display_data"
    }
   ],
   "source": [
    "plt.figure(figsize=(15,7))\n",
    "imp_count = df_max_time_per_user['all_impressions_list'].apply(len)\n",
    "hist_median = imp_count.median()\n",
    "hist_mean = imp_count.mean()\n",
    "sns.histplot(\n",
    "    imp_count,\n",
    "    color='#82CDCE',\n",
    "    bins=100,\n",
    "    line_kws={'linewidth': 0.5}\n",
    ")\n",
    "plt.title(\n",
    "    'Histogram of User Impression Count',\n",
    "    fontsize='20',\n",
    "    fontweight='bold',\n",
    "    pad=25\n",
    ")\n",
    "plt.xlabel(\n",
    "    \"Impression Count per User\",\n",
    "    labelpad=15,\n",
    "    fontsize='15',\n",
    "    fontweight='normal'\n",
    ")\n",
    "plt.ylabel(\n",
    "    \"Frequency\",\n",
    "    labelpad=15,\n",
    "    fontsize='15',\n",
    "    fontweight='normal'\n",
    ")\n",
    "plt.axvline(\n",
    "    hist_mean,\n",
    "    linestyle='--',\n",
    "    color='red',\n",
    "    label=f'Mean = {hist_mean:.2f}'\n",
    ")\n",
    "plt.axvline(\n",
    "    hist_median,\n",
    "    linestyle='--',\n",
    "    color='blue',\n",
    "    label=f'Median = {hist_median:.2f}'\n",
    ")\n",
    "plt.legend()\n",
    "plt.tight_layout()\n",
    "plot_to_html('Histogram of User Impression Count')"
   ]
  },
  {
   "cell_type": "markdown",
   "id": "b41141d1-f726-4745-bf92-8e31237cad70",
   "metadata": {},
   "source": [
    "<center><b>Figure 5. </b>Frequency Distribution of Impression Counts</center>"
   ]
  },
  {
   "cell_type": "markdown",
   "id": "4c564d7f-4151-4faf-82bf-2cf60c957389",
   "metadata": {},
   "source": [
    "**Figure 5** shows a Power Law Distribution, showing that majority of users have low impression count with 50% of them having less than 20 impressions while some very select few users have high number of impressions. This is signified by the mean and median values being 19.54 and 12.00 respectively."
   ]
  },
  {
   "cell_type": "code",
   "execution_count": 16,
   "id": "6e6e68a0-a633-414e-b96e-cc3caf43a903",
   "metadata": {
    "execution": {
     "iopub.execute_input": "2024-06-03T13:58:17.859078Z",
     "iopub.status.busy": "2024-06-03T13:58:17.858880Z",
     "iopub.status.idle": "2024-06-03T13:58:17.967234Z",
     "shell.execute_reply": "2024-06-03T13:58:17.966912Z",
     "shell.execute_reply.started": "2024-06-03T13:58:17.859064Z"
    }
   },
   "outputs": [
    {
     "data": {
      "text/html": [
       "<div style=\"text-align: center;\">\n",
       "                   <img src=\"data:image/png;base64,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\"\n",
       "                        alt=\"Top 5 Article Subcategory by Count\"/>\n",
       "                   </div>"
      ],
      "text/plain": [
       "<IPython.core.display.HTML object>"
      ]
     },
     "metadata": {},
     "output_type": "display_data"
    }
   ],
   "source": [
    "imp_count_val = imp_count.values\n",
    "imp_count_users = df_max_time_per_user['User_ID'].values\n",
    "plt.figure(figsize=(15,7))\n",
    "(pd.Series(imp_count_val, index=imp_count_users)\n",
    " .sort_values(ascending=False)[:10]\n",
    " .sort_values()\n",
    " .plot.barh(width=0.7,\n",
    "            color='#84D0B1')\n",
    ")\n",
    "plt.title(\n",
    "    'Top 10 Users based on Articles Read',\n",
    "    fontsize='20',\n",
    "    fontweight='bold',\n",
    "    pad=25\n",
    ")\n",
    "plt.xlabel(\n",
    "    \"Count of Impressions\",\n",
    "    labelpad=15,\n",
    "    fontsize='15',\n",
    "    fontweight='normal'\n",
    ")\n",
    "plt.ylabel(\n",
    "    \"User ID\",\n",
    "    labelpad=15,\n",
    "    fontsize='15',\n",
    "    fontweight='normal'\n",
    ")\n",
    "plt.tight_layout()\n",
    "plot_to_html('Top 5 Article Subcategory by Count')"
   ]
  },
  {
   "cell_type": "markdown",
   "id": "b04a880c-6814-4a38-a1c3-e96be8b0b23a",
   "metadata": {},
   "source": [
    "<center><b>Figure 6. </b>Bar Graph of Top 10 Users and their Number of Impressions</center>"
   ]
  },
  {
   "cell_type": "markdown",
   "id": "044872d2-24ef-4250-8a45-404d21a80d77",
   "metadata": {},
   "source": [
    "In **Figure 6**, these are the top 10 users based on the number of news clicked. One particular user (U63482) have more than 500 impressions. There are still people who still read lots of news. "
   ]
  },
  {
   "cell_type": "code",
   "execution_count": 17,
   "id": "8d6d23f0-b6da-4e58-a35d-1609a87ef0a3",
   "metadata": {
    "execution": {
     "iopub.execute_input": "2024-06-03T13:58:17.967835Z",
     "iopub.status.busy": "2024-06-03T13:58:17.967705Z",
     "iopub.status.idle": "2024-06-03T13:58:19.793355Z",
     "shell.execute_reply": "2024-06-03T13:58:19.792938Z",
     "shell.execute_reply.started": "2024-06-03T13:58:17.967824Z"
    }
   },
   "outputs": [
    {
     "data": {
      "text/html": [
       "<div style=\"text-align: center;\">\n",
       "                   <img src=\"data:image/png;base64,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\"\n",
       "                        alt=\"Top 10 Articles by Impression Count\"/>\n",
       "                   </div>"
      ],
      "text/plain": [
       "<IPython.core.display.HTML object>"
      ]
     },
     "metadata": {},
     "output_type": "display_data"
    }
   ],
   "source": [
    "# Apply the function to each sentence in the list\n",
    "plt.figure(figsize=(15,7))\n",
    "\n",
    "news_ref = pd.Series(df_train_news.sort_values('News_ID')['Title'].values,\n",
    "                     index=df_train_news.sort_values('News_ID')['News_ID'])\n",
    "\n",
    "news_count_plot = (\n",
    "    df_mlb_for_plot\n",
    "    .sum(axis=0)\n",
    "    .sort_values(ascending=False)[:10]\n",
    "    .sort_values()\n",
    ")\n",
    "news_count_plot.index = [add_newline_in_middle(news_ref[idx])\n",
    "                         for idx in news_count_plot.index]\n",
    "\n",
    "news_count_plot.plot.barh(width=0.7, color='#83CF9E')\n",
    "\n",
    "plt.title(\n",
    "    'Top 10 Articles by Impression Count',\n",
    "    fontsize='20',\n",
    "    fontweight='bold',\n",
    "    pad=25\n",
    ")\n",
    "plt.xlabel(\n",
    "    \"Count of Impressions\",\n",
    "    labelpad=15,\n",
    "    fontsize='15',\n",
    "    fontweight='normal'\n",
    ")\n",
    "plt.ylabel(\n",
    "    \"Article Title\",\n",
    "    labelpad=15,\n",
    "    fontsize='15',\n",
    "    fontweight='normal'\n",
    ")\n",
    "plt.tight_layout()\n",
    "plot_to_html('Top 10 Articles by Impression Count')"
   ]
  },
  {
   "cell_type": "markdown",
   "id": "13fc20b4-e6c7-4a33-9504-119213e74f48",
   "metadata": {},
   "source": [
    "<center><b>Figure 7. </b>Bar Graph of Top 10 Articles and their corresponding number of impressions</center>"
   ]
  },
  {
   "cell_type": "markdown",
   "id": "5d21d412-47a4-4b05-8316-8309b8754ecf",
   "metadata": {},
   "source": [
    "**Figure 7** gives us an idea of which articles are popular among users. Most of it are celebrity news and news involving crimes."
   ]
  },
  {
   "cell_type": "markdown",
   "id": "aa3c7a3d-01be-4676-b2eb-57a84ac2e330",
   "metadata": {},
   "source": [
    "<div class=\"custom-header\">\n",
    "    <h1 class=\"small-caps\"><a name='implementation'>Implementation</a></h1>\n",
    "</div>"
   ]
  },
  {
   "cell_type": "markdown",
   "id": "b11ac58a-1c68-479d-b691-c6e75eefbc5b",
   "metadata": {},
   "source": [
    "### Format the utility matrix"
   ]
  },
  {
   "cell_type": "markdown",
   "id": "90887e2c-8169-4f88-b9b5-c000fffa1821",
   "metadata": {},
   "source": [
    "To create the utility matrix needed to train the implicit models, clicks and non-clicks were treated separately. The behavior dataset was first transformed to combine behavior logs from each user based on the latest timestamp. Historical user clicks and their current click were combined into a list The set of all non-clicks from each user were made (provided it is not present in the clicks list).\n",
    "\n",
    "Using the `MultiLabelBinarizer`, the clicks and non-clicks list of each user were transformed into separate utility matrices. Before combining the two, a confidence of 40 was first applied to clicks. Confidence separates each impression by adding a weight to clicks. The choice of $\\alpha = 40$ is based on the the paper <i>Collaborative Filtering for Implicit Feedback Datasets</i> by Hu et. al $^{[5]}$, and was found to have given the best results.\n",
    "\n",
    "**Eqn 1** shows the value based on each impression and **Eqn 2** was used to determine the confidence.\n",
    "\n",
    "$$\n",
    "p_{ui} = \n",
    "\\begin{cases} \n",
    "  1, \\text{click} \\\\\n",
    "  0, \\text{non-click}\n",
    "\\end{cases}\n",
    "$$\n",
    "<center><b>Eqn 1. </b>Preference value based on impression type</center>\n",
    "\n",
    "$$\n",
    "c_{ui} = 1 + \\alpha p_{ui},\n",
    "$$\n",
    "<center><b>Eqn 2. </b>Confidence formula</center>"
   ]
  },
  {
   "cell_type": "code",
   "execution_count": 18,
   "id": "23f185c0-be17-4721-a258-9b372d9ab5b6",
   "metadata": {
    "execution": {
     "iopub.execute_input": "2024-06-03T13:58:19.793859Z",
     "iopub.status.busy": "2024-06-03T13:58:19.793748Z",
     "iopub.status.idle": "2024-06-03T13:58:20.293344Z",
     "shell.execute_reply": "2024-06-03T13:58:20.292929Z",
     "shell.execute_reply.started": "2024-06-03T13:58:19.793851Z"
    }
   },
   "outputs": [],
   "source": [
    "mlb_1 = MultiLabelBinarizer()\n",
    "df_mlb_1 = (\n",
    "    pd.DataFrame(\n",
    "        mlb_1.fit_transform(df_max_time_per_user_s[\"all_impressions_list\"]),\n",
    "        columns=mlb_1.classes_,\n",
    "        index=df_max_time_per_user_s[\"User_ID\"],\n",
    "    )\n",
    ").iloc[:,1:]\n",
    "\n",
    "mlb_2 = MultiLabelBinarizer()\n",
    "df_mlb_2 = (\n",
    "    pd.DataFrame(\n",
    "        mlb_2.fit_transform(df_max_time_per_user_s[\"not_clicks_y\"]),\n",
    "        columns=mlb_2.classes_,\n",
    "        index=df_max_time_per_user_s[\"User_ID\"],\n",
    "    )\n",
    ")"
   ]
  },
  {
   "cell_type": "code",
   "execution_count": 19,
   "id": "02ff1d97-025e-44a6-8a5a-9e454e9b40d0",
   "metadata": {
    "execution": {
     "iopub.execute_input": "2024-06-03T13:58:20.293862Z",
     "iopub.status.busy": "2024-06-03T13:58:20.293769Z",
     "iopub.status.idle": "2024-06-03T13:58:20.759166Z",
     "shell.execute_reply": "2024-06-03T13:58:20.758851Z",
     "shell.execute_reply.started": "2024-06-03T13:58:20.293853Z"
    }
   },
   "outputs": [],
   "source": [
    "# Check users with more than 20 impressions\n",
    "filtered_users = df_mlb_1[df_mlb_1.sum(axis=1) > 20].copy()"
   ]
  },
  {
   "cell_type": "code",
   "execution_count": 20,
   "id": "17a1d305-762e-4e93-8cbb-ac0c1aea49d7",
   "metadata": {
    "execution": {
     "iopub.execute_input": "2024-06-03T13:58:20.759679Z",
     "iopub.status.busy": "2024-06-03T13:58:20.759581Z",
     "iopub.status.idle": "2024-06-03T13:59:10.576829Z",
     "shell.execute_reply": "2024-06-03T13:59:10.576575Z",
     "shell.execute_reply.started": "2024-06-03T13:58:20.759671Z"
    }
   },
   "outputs": [
    {
     "data": {
      "text/html": [
       "<div>\n",
       "<style scoped>\n",
       "    .dataframe tbody tr th:only-of-type {\n",
       "        vertical-align: middle;\n",
       "    }\n",
       "\n",
       "    .dataframe tbody tr th {\n",
       "        vertical-align: top;\n",
       "    }\n",
       "\n",
       "    .dataframe thead th {\n",
       "        text-align: right;\n",
       "    }\n",
       "</style>\n",
       "<table border=\"1\" class=\"dataframe\">\n",
       "  <thead>\n",
       "    <tr style=\"text-align: right;\">\n",
       "      <th></th>\n",
       "      <th>N10</th>\n",
       "      <th>N100</th>\n",
       "      <th>N10001</th>\n",
       "      <th>N10004</th>\n",
       "      <th>N10005</th>\n",
       "      <th>N10009</th>\n",
       "      <th>N1001</th>\n",
       "      <th>N10010</th>\n",
       "      <th>N10013</th>\n",
       "      <th>N10016</th>\n",
       "      <th>...</th>\n",
       "      <th>N998</th>\n",
       "      <th>N9988</th>\n",
       "      <th>N9989</th>\n",
       "      <th>N999</th>\n",
       "      <th>N9991</th>\n",
       "      <th>N9992</th>\n",
       "      <th>N9993</th>\n",
       "      <th>N9997</th>\n",
       "      <th>N9998</th>\n",
       "      <th>N9999</th>\n",
       "    </tr>\n",
       "    <tr>\n",
       "      <th>User_ID</th>\n",
       "      <th></th>\n",
       "      <th></th>\n",
       "      <th></th>\n",
       "      <th></th>\n",
       "      <th></th>\n",
       "      <th></th>\n",
       "      <th></th>\n",
       "      <th></th>\n",
       "      <th></th>\n",
       "      <th></th>\n",
       "      <th></th>\n",
       "      <th></th>\n",
       "      <th></th>\n",
       "      <th></th>\n",
       "      <th></th>\n",
       "      <th></th>\n",
       "      <th></th>\n",
       "      <th></th>\n",
       "      <th></th>\n",
       "      <th></th>\n",
       "      <th></th>\n",
       "    </tr>\n",
       "  </thead>\n",
       "  <tbody>\n",
       "    <tr>\n",
       "      <th>U2036</th>\n",
       "      <td>0.0</td>\n",
       "      <td>0.0</td>\n",
       "      <td>0.0</td>\n",
       "      <td>0.0</td>\n",
       "      <td>0</td>\n",
       "      <td>0.0</td>\n",
       "      <td>0.0</td>\n",
       "      <td>0</td>\n",
       "      <td>0.0</td>\n",
       "      <td>0.0</td>\n",
       "      <td>...</td>\n",
       "      <td>0.0</td>\n",
       "      <td>0.0</td>\n",
       "      <td>0</td>\n",
       "      <td>0.0</td>\n",
       "      <td>0</td>\n",
       "      <td>0.0</td>\n",
       "      <td>0.0</td>\n",
       "      <td>0</td>\n",
       "      <td>0</td>\n",
       "      <td>0</td>\n",
       "    </tr>\n",
       "    <tr>\n",
       "      <th>U55436</th>\n",
       "      <td>0.0</td>\n",
       "      <td>0.0</td>\n",
       "      <td>0.0</td>\n",
       "      <td>0.0</td>\n",
       "      <td>0</td>\n",
       "      <td>0.0</td>\n",
       "      <td>0.0</td>\n",
       "      <td>0</td>\n",
       "      <td>0.0</td>\n",
       "      <td>0.0</td>\n",
       "      <td>...</td>\n",
       "      <td>0.0</td>\n",
       "      <td>0.0</td>\n",
       "      <td>0</td>\n",
       "      <td>0.0</td>\n",
       "      <td>0</td>\n",
       "      <td>0.0</td>\n",
       "      <td>0.0</td>\n",
       "      <td>0</td>\n",
       "      <td>0</td>\n",
       "      <td>0</td>\n",
       "    </tr>\n",
       "    <tr>\n",
       "      <th>U65928</th>\n",
       "      <td>0.0</td>\n",
       "      <td>0.0</td>\n",
       "      <td>0.0</td>\n",
       "      <td>0.0</td>\n",
       "      <td>0</td>\n",
       "      <td>0.0</td>\n",
       "      <td>0.0</td>\n",
       "      <td>0</td>\n",
       "      <td>0.0</td>\n",
       "      <td>0.0</td>\n",
       "      <td>...</td>\n",
       "      <td>0.0</td>\n",
       "      <td>0.0</td>\n",
       "      <td>0</td>\n",
       "      <td>0.0</td>\n",
       "      <td>0</td>\n",
       "      <td>0.0</td>\n",
       "      <td>0.0</td>\n",
       "      <td>0</td>\n",
       "      <td>0</td>\n",
       "      <td>0</td>\n",
       "    </tr>\n",
       "    <tr>\n",
       "      <th>U8367</th>\n",
       "      <td>0.0</td>\n",
       "      <td>0.0</td>\n",
       "      <td>0.0</td>\n",
       "      <td>0.0</td>\n",
       "      <td>0</td>\n",
       "      <td>0.0</td>\n",
       "      <td>0.0</td>\n",
       "      <td>0</td>\n",
       "      <td>0.0</td>\n",
       "      <td>0.0</td>\n",
       "      <td>...</td>\n",
       "      <td>0.0</td>\n",
       "      <td>0.0</td>\n",
       "      <td>0</td>\n",
       "      <td>0.0</td>\n",
       "      <td>0</td>\n",
       "      <td>0.0</td>\n",
       "      <td>0.0</td>\n",
       "      <td>0</td>\n",
       "      <td>0</td>\n",
       "      <td>0</td>\n",
       "    </tr>\n",
       "    <tr>\n",
       "      <th>U8532</th>\n",
       "      <td>0.0</td>\n",
       "      <td>0.0</td>\n",
       "      <td>0.0</td>\n",
       "      <td>0.0</td>\n",
       "      <td>0</td>\n",
       "      <td>0.0</td>\n",
       "      <td>0.0</td>\n",
       "      <td>0</td>\n",
       "      <td>0.0</td>\n",
       "      <td>0.0</td>\n",
       "      <td>...</td>\n",
       "      <td>0.0</td>\n",
       "      <td>0.0</td>\n",
       "      <td>0</td>\n",
       "      <td>0.0</td>\n",
       "      <td>0</td>\n",
       "      <td>0.0</td>\n",
       "      <td>0.0</td>\n",
       "      <td>0</td>\n",
       "      <td>0</td>\n",
       "      <td>0</td>\n",
       "    </tr>\n",
       "  </tbody>\n",
       "</table>\n",
       "<p>5 rows × 29770 columns</p>\n",
       "</div>"
      ],
      "text/plain": [
       "         N10  N100  N10001  N10004  N10005  N10009  N1001  N10010  N10013  \\\n",
       "User_ID                                                                     \n",
       "U2036    0.0   0.0     0.0     0.0       0     0.0    0.0       0     0.0   \n",
       "U55436   0.0   0.0     0.0     0.0       0     0.0    0.0       0     0.0   \n",
       "U65928   0.0   0.0     0.0     0.0       0     0.0    0.0       0     0.0   \n",
       "U8367    0.0   0.0     0.0     0.0       0     0.0    0.0       0     0.0   \n",
       "U8532    0.0   0.0     0.0     0.0       0     0.0    0.0       0     0.0   \n",
       "\n",
       "         N10016  ...  N998  N9988  N9989  N999  N9991  N9992  N9993  N9997  \\\n",
       "User_ID          ...                                                         \n",
       "U2036       0.0  ...   0.0    0.0      0   0.0      0    0.0    0.0      0   \n",
       "U55436      0.0  ...   0.0    0.0      0   0.0      0    0.0    0.0      0   \n",
       "U65928      0.0  ...   0.0    0.0      0   0.0      0    0.0    0.0      0   \n",
       "U8367       0.0  ...   0.0    0.0      0   0.0      0    0.0    0.0      0   \n",
       "U8532       0.0  ...   0.0    0.0      0   0.0      0    0.0    0.0      0   \n",
       "\n",
       "         N9998  N9999  \n",
       "User_ID                \n",
       "U2036        0      0  \n",
       "U55436       0      0  \n",
       "U65928       0      0  \n",
       "U8367        0      0  \n",
       "U8532        0      0  \n",
       "\n",
       "[5 rows x 29770 columns]"
      ]
     },
     "execution_count": 20,
     "metadata": {},
     "output_type": "execute_result"
    }
   ],
   "source": [
    "alpha = 40\n",
    "\n",
    "# Combine to form the final utility matrix\n",
    "df_new = (\n",
    "    (filtered_users * alpha + 1)\n",
    "    .replace(1, np.nan)\n",
    "    .combine_first(df_mlb_2)\n",
    "    .loc[filtered_users.index]\n",
    "    .fillna(0)\n",
    ")\n",
    "\n",
    "df_new.head()"
   ]
  },
  {
   "cell_type": "markdown",
   "id": "4bc8343f-57e4-4520-ad88-308702c408d3",
   "metadata": {},
   "source": [
    "<b>Table 6.</b> Sample of the Utility Matrix that will be used for training the recommendation systems"
   ]
  },
  {
   "cell_type": "markdown",
   "id": "f6384e96-6faa-48e2-baf9-65313cdf3591",
   "metadata": {},
   "source": [
    "### Generate Holdout Set"
   ]
  },
  {
   "cell_type": "markdown",
   "id": "b851b751-8236-4555-a3c1-fdc9ede8b0e2",
   "metadata": {},
   "source": [
    "From the combined utility matrix, holdout set will be extracted to be used in model evaluation. The holdout set will contain a random sample of 100 users with ten (10) of their clicks held out from the final utility matrix used in model training. Each of the removed clicks will be replaced with 0 to make it 'never seen'."
   ]
  },
  {
   "cell_type": "code",
   "execution_count": 21,
   "id": "649199cb-a210-4603-9e33-e56086cd41fb",
   "metadata": {
    "execution": {
     "iopub.execute_input": "2024-06-03T13:59:10.577279Z",
     "iopub.status.busy": "2024-06-03T13:59:10.577183Z",
     "iopub.status.idle": "2024-06-03T13:59:10.619145Z",
     "shell.execute_reply": "2024-06-03T13:59:10.618818Z",
     "shell.execute_reply.started": "2024-06-03T13:59:10.577271Z"
    }
   },
   "outputs": [],
   "source": [
    "users = df_new.index.tolist()\n",
    "\n",
    "# Generate holdout set\n",
    "sampled_filtered_users = df_new.sample(n=100, random_state=1)\n",
    "sample_filtered_users_id = sampled_filtered_users.index.tolist()\n",
    "holdout = sample_columns_per_row(sampled_filtered_users)"
   ]
  },
  {
   "cell_type": "code",
   "execution_count": 22,
   "id": "75d784f9-a0a1-4186-b1c4-8a9f09e3b3f1",
   "metadata": {
    "execution": {
     "iopub.execute_input": "2024-06-03T13:59:10.620727Z",
     "iopub.status.busy": "2024-06-03T13:59:10.620593Z",
     "iopub.status.idle": "2024-06-03T13:59:16.835351Z",
     "shell.execute_reply": "2024-06-03T13:59:16.835095Z",
     "shell.execute_reply.started": "2024-06-03T13:59:10.620719Z"
    }
   },
   "outputs": [
    {
     "name": "stderr",
     "output_type": "stream",
     "text": [
      "100%|█████████████████████████████████████████| 100/100 [00:06<00:00, 16.21it/s]\n"
     ]
    },
    {
     "data": {
      "text/plain": [
       "(2853, 29770)"
      ]
     },
     "execution_count": 22,
     "metadata": {},
     "output_type": "execute_result"
    }
   ],
   "source": [
    "# Omit the holdout items from the utility matrix\n",
    "for x, y in tqdm(holdout.items()):\n",
    "    for j in y:\n",
    "        df_new.loc[x, y] = 0\n",
    "df_user_items = df_new.copy()\n",
    "df_new.shape"
   ]
  },
  {
   "cell_type": "markdown",
   "id": "8409c2a8-4311-4c4d-8029-1ef2ea9a2f5d",
   "metadata": {},
   "source": [
    "### Recency Evaluation (Baseline)"
   ]
  },
  {
   "cell_type": "markdown",
   "id": "6c8f3c64-3e26-4d0e-8d94-4ef7be144057",
   "metadata": {},
   "source": [
    "From the study of Kille and Lommatzsch, they defined eight meaningful baselines that can be used for News Recommender Systems. We will implement two out of the eight baselines that our models need to beat.\n",
    "\n",
    "Using recency methods, recommendations are based on the most recent publish dates. While there is no 'published date' column in the news data, we can approximate this based on the latest behavior log that a news article was clicked. Using this approximation, we can sort a subset of the news articles to produce a `most_recent` list.\n",
    "\n",
    "Recency recommendations where extracted for each of the holdout users using the function `recommend_recent`."
   ]
  },
  {
   "cell_type": "code",
   "execution_count": 23,
   "id": "f5aa0bfe-03bd-41e5-b0cb-caaa81f28daf",
   "metadata": {
    "execution": {
     "iopub.execute_input": "2024-06-03T13:59:16.835852Z",
     "iopub.status.busy": "2024-06-03T13:59:16.835736Z",
     "iopub.status.idle": "2024-06-03T13:59:16.894070Z",
     "shell.execute_reply": "2024-06-03T13:59:16.893779Z",
     "shell.execute_reply.started": "2024-06-03T13:59:16.835843Z"
    },
    "scrolled": true
   },
   "outputs": [],
   "source": [
    "df_max_time_per_user_s['last_News_ID'] = series_imp[0]\n",
    "most_recent = (\n",
    "    df_max_time_per_user_s\n",
    "    .sort_values('Time', ascending=False)['last_News_ID']\n",
    "    .tolist()\n",
    ")\n",
    "\n",
    "most_recent_unique = []\n",
    "for x in most_recent:\n",
    "    if x in most_recent_unique:\n",
    "        pass\n",
    "    else:\n",
    "        most_recent_unique.append(x)\n",
    "\n",
    "sample_filtered_users_idx = (\n",
    "    [df_user_items.index.get_loc(j) for j in sample_filtered_users_id]\n",
    ")\n",
    "sample_filtered_users_id_dict = (\n",
    "    dict(zip(sample_filtered_users_id, sample_filtered_users_idx))\n",
    ")\n",
    "\n",
    "user_recommendations_rec = {}\n",
    "\n",
    "for user_id, user_index in sample_filtered_users_id_dict.items():\n",
    "    recommendations = recommend_recent(df_user_items, user_id, L=10)\n",
    "    user_recommendations_rec[user_id] = recommendations\n",
    "\n",
    "metrics_rec = calculate_metrics(holdout, user_recommendations_rec)"
   ]
  },
  {
   "cell_type": "markdown",
   "id": "878710b2-57a3-4b91-9dd0-634f14a3221a",
   "metadata": {},
   "source": [
    "### Popularity (Baseline)"
   ]
  },
  {
   "cell_type": "markdown",
   "id": "ccefdbbe-b1fd-424c-b336-36bcc941d372",
   "metadata": {},
   "source": [
    "We implemented a popularity-based recommendation system as a baseline to compare against the advanced implicit recommendation system. The popularity-based approach ranks news articles based on their impression count, such as the number of views, shares, and likes. This method is straightforward and relies on the assumption that content popular with the general audience is likely to be of interest to individual users as well.  \n",
    "\n",
    "Recency recommendations where extracted for each of the holdout users using the function `recommend_recent`."
   ]
  },
  {
   "cell_type": "code",
   "execution_count": 24,
   "id": "e40e6b8b-4aea-4c4c-92ec-82ed081ee214",
   "metadata": {
    "execution": {
     "iopub.execute_input": "2024-06-03T13:59:16.894615Z",
     "iopub.status.busy": "2024-06-03T13:59:16.894485Z",
     "iopub.status.idle": "2024-06-03T13:59:16.937437Z",
     "shell.execute_reply": "2024-06-03T13:59:16.937138Z",
     "shell.execute_reply.started": "2024-06-03T13:59:16.894606Z"
    }
   },
   "outputs": [],
   "source": [
    "pop_list = (filtered_users\n",
    "            .sum(axis=0)\n",
    "            .sort_values(ascending=False)\n",
    "            .index\n",
    "            .tolist()\n",
    "           )\n",
    "\n",
    "user_recommendations_pop = {}\n",
    "\n",
    "for user_id, user_index in sample_filtered_users_id_dict.items():\n",
    "    recommendations = recommend_popular(df_user_items, user_id, L=10)\n",
    "    user_recommendations_pop[user_id] = recommendations\n",
    "\n",
    "metrics_pop = calculate_metrics(holdout, user_recommendations_pop)"
   ]
  },
  {
   "cell_type": "markdown",
   "id": "9594624e-eba0-450f-b492-14d2e43a438b",
   "metadata": {},
   "source": [
    "## Implicit Recommendation"
   ]
  },
  {
   "cell_type": "markdown",
   "id": "e8882156-2025-4216-a964-cae60a87a125",
   "metadata": {},
   "source": [
    "The models that we used are Alternating Least Squares (considered different weights), Logistic Matrix Factorization, and Bayesian Personalized Ranking. We tested different models and did a grid search for each to determine which model is the best for our Implicit Recommender System.                                                                                                                                                              \n",
    "\n",
    "We chose Alternating Least Squares, Logistic Matrix Factorization, and Bayesian Personalized Ranking for our implicit recommender system because each model uniquely addresses the challenges of implicit feedback through different optimization techniques and handling of user preferences."
   ]
  },
  {
   "cell_type": "markdown",
   "id": "43b5a1da-8213-4570-b28d-c9edd16394ef",
   "metadata": {},
   "source": [
    "### Alternating Least Squares (ALS)"
   ]
  },
  {
   "cell_type": "markdown",
   "id": "4d69b2d7-8901-4b43-884e-ccb7c53d3d4e",
   "metadata": {},
   "source": [
    "Alternating Least Squares (ALS) is a matrix factorization technique that minimizes the least squares error between predicted and actual interactions, considering different weights for varying interaction intensities.  "
   ]
  },
  {
   "cell_type": "code",
   "execution_count": 25,
   "id": "bef575b3-87db-4658-a782-1954ed3234cd",
   "metadata": {
    "execution": {
     "iopub.execute_input": "2024-06-03T13:59:16.937907Z",
     "iopub.status.busy": "2024-06-03T13:59:16.937807Z",
     "iopub.status.idle": "2024-06-03T14:00:37.506173Z",
     "shell.execute_reply": "2024-06-03T14:00:37.505874Z",
     "shell.execute_reply.started": "2024-06-03T13:59:16.937899Z"
    }
   },
   "outputs": [
    {
     "name": "stderr",
     "output_type": "stream",
     "text": [
      "  0%|                                                     | 0/3 [00:00<?, ?it/s]/home/kcfuy/anaconda3/envs/recsys/lib/python3.11/site-packages/implicit/cpu/als.py:95: RuntimeWarning: OpenBLAS is configured to use 12 threads. It is highly recommended to disable its internal threadpool by setting the environment variable 'OPENBLAS_NUM_THREADS=1' or by calling 'threadpoolctl.threadpool_limits(1, \"blas\")'. Having OpenBLAS use a threadpool can lead to severe performance issues here.\n",
      "  check_blas_config()\n"
     ]
    },
    {
     "data": {
      "application/vnd.jupyter.widget-view+json": {
       "model_id": "2e49de3590b748e0aa9ddbb9b45849ba",
       "version_major": 2,
       "version_minor": 0
      },
      "text/plain": [
       "  0%|          | 0/15 [00:00<?, ?it/s]"
      ]
     },
     "metadata": {},
     "output_type": "display_data"
    },
    {
     "data": {
      "application/vnd.jupyter.widget-view+json": {
       "model_id": "44c1eddfe31e46f6aa882686e0cb4078",
       "version_major": 2,
       "version_minor": 0
      },
      "text/plain": [
       "  0%|          | 0/15 [00:00<?, ?it/s]"
      ]
     },
     "metadata": {},
     "output_type": "display_data"
    },
    {
     "data": {
      "application/vnd.jupyter.widget-view+json": {
       "model_id": "29200eab6a334438b0a3c49d7aeb15ec",
       "version_major": 2,
       "version_minor": 0
      },
      "text/plain": [
       "  0%|          | 0/15 [00:00<?, ?it/s]"
      ]
     },
     "metadata": {},
     "output_type": "display_data"
    },
    {
     "data": {
      "application/vnd.jupyter.widget-view+json": {
       "model_id": "4d44b21b50574e5abefeb420d380f9fe",
       "version_major": 2,
       "version_minor": 0
      },
      "text/plain": [
       "  0%|          | 0/15 [00:00<?, ?it/s]"
      ]
     },
     "metadata": {},
     "output_type": "display_data"
    },
    {
     "data": {
      "application/vnd.jupyter.widget-view+json": {
       "model_id": "b92487ff80c643359969cc239dc0561f",
       "version_major": 2,
       "version_minor": 0
      },
      "text/plain": [
       "  0%|          | 0/15 [00:00<?, ?it/s]"
      ]
     },
     "metadata": {},
     "output_type": "display_data"
    },
    {
     "data": {
      "application/vnd.jupyter.widget-view+json": {
       "model_id": "97ad25ed1df84b7788b217017cb7d5a9",
       "version_major": 2,
       "version_minor": 0
      },
      "text/plain": [
       "  0%|          | 0/15 [00:00<?, ?it/s]"
      ]
     },
     "metadata": {},
     "output_type": "display_data"
    },
    {
     "name": "stderr",
     "output_type": "stream",
     "text": [
      " 33%|███████████████                              | 1/3 [00:22<00:44, 22.46s/it]"
     ]
    },
    {
     "data": {
      "application/vnd.jupyter.widget-view+json": {
       "model_id": "c022338c97964918bff8451d207de593",
       "version_major": 2,
       "version_minor": 0
      },
      "text/plain": [
       "  0%|          | 0/15 [00:00<?, ?it/s]"
      ]
     },
     "metadata": {},
     "output_type": "display_data"
    },
    {
     "data": {
      "application/vnd.jupyter.widget-view+json": {
       "model_id": "96ff9b04053b482a9b2dd5081055b28f",
       "version_major": 2,
       "version_minor": 0
      },
      "text/plain": [
       "  0%|          | 0/15 [00:00<?, ?it/s]"
      ]
     },
     "metadata": {},
     "output_type": "display_data"
    },
    {
     "data": {
      "application/vnd.jupyter.widget-view+json": {
       "model_id": "0d41887c722a446dae7b3401582cdcad",
       "version_major": 2,
       "version_minor": 0
      },
      "text/plain": [
       "  0%|          | 0/15 [00:00<?, ?it/s]"
      ]
     },
     "metadata": {},
     "output_type": "display_data"
    },
    {
     "data": {
      "application/vnd.jupyter.widget-view+json": {
       "model_id": "886e39e25ccc407bbbdc2d4cf4b3e2ed",
       "version_major": 2,
       "version_minor": 0
      },
      "text/plain": [
       "  0%|          | 0/15 [00:00<?, ?it/s]"
      ]
     },
     "metadata": {},
     "output_type": "display_data"
    },
    {
     "data": {
      "application/vnd.jupyter.widget-view+json": {
       "model_id": "b47b35f9774d498c909e9474ec2dbbd3",
       "version_major": 2,
       "version_minor": 0
      },
      "text/plain": [
       "  0%|          | 0/15 [00:00<?, ?it/s]"
      ]
     },
     "metadata": {},
     "output_type": "display_data"
    },
    {
     "data": {
      "application/vnd.jupyter.widget-view+json": {
       "model_id": "593d951ab73f4cf8a1d65c72e064d604",
       "version_major": 2,
       "version_minor": 0
      },
      "text/plain": [
       "  0%|          | 0/15 [00:00<?, ?it/s]"
      ]
     },
     "metadata": {},
     "output_type": "display_data"
    },
    {
     "name": "stderr",
     "output_type": "stream",
     "text": [
      " 67%|██████████████████████████████               | 2/3 [00:47<00:23, 23.95s/it]"
     ]
    },
    {
     "data": {
      "application/vnd.jupyter.widget-view+json": {
       "model_id": "15858161d33d47b4a8601dbe26d974e8",
       "version_major": 2,
       "version_minor": 0
      },
      "text/plain": [
       "  0%|          | 0/15 [00:00<?, ?it/s]"
      ]
     },
     "metadata": {},
     "output_type": "display_data"
    },
    {
     "data": {
      "application/vnd.jupyter.widget-view+json": {
       "model_id": "26902d02d69044cd893793c2708b5512",
       "version_major": 2,
       "version_minor": 0
      },
      "text/plain": [
       "  0%|          | 0/15 [00:00<?, ?it/s]"
      ]
     },
     "metadata": {},
     "output_type": "display_data"
    },
    {
     "data": {
      "application/vnd.jupyter.widget-view+json": {
       "model_id": "7ed2039dc21344b092a3c420eb1141bb",
       "version_major": 2,
       "version_minor": 0
      },
      "text/plain": [
       "  0%|          | 0/15 [00:00<?, ?it/s]"
      ]
     },
     "metadata": {},
     "output_type": "display_data"
    },
    {
     "data": {
      "application/vnd.jupyter.widget-view+json": {
       "model_id": "270d09044418466f856467b71bcba251",
       "version_major": 2,
       "version_minor": 0
      },
      "text/plain": [
       "  0%|          | 0/15 [00:00<?, ?it/s]"
      ]
     },
     "metadata": {},
     "output_type": "display_data"
    },
    {
     "data": {
      "application/vnd.jupyter.widget-view+json": {
       "model_id": "4121a040b05a4061a73e28e812dec307",
       "version_major": 2,
       "version_minor": 0
      },
      "text/plain": [
       "  0%|          | 0/15 [00:00<?, ?it/s]"
      ]
     },
     "metadata": {},
     "output_type": "display_data"
    },
    {
     "data": {
      "application/vnd.jupyter.widget-view+json": {
       "model_id": "56e08775ca7c472f827d9af991b8e335",
       "version_major": 2,
       "version_minor": 0
      },
      "text/plain": [
       "  0%|          | 0/15 [00:00<?, ?it/s]"
      ]
     },
     "metadata": {},
     "output_type": "display_data"
    },
    {
     "name": "stderr",
     "output_type": "stream",
     "text": [
      "100%|█████████████████████████████████████████████| 3/3 [01:19<00:00, 26.54s/it]\n"
     ]
    },
    {
     "data": {
      "text/html": [
       "<div>\n",
       "<style scoped>\n",
       "    .dataframe tbody tr th:only-of-type {\n",
       "        vertical-align: middle;\n",
       "    }\n",
       "\n",
       "    .dataframe tbody tr th {\n",
       "        vertical-align: top;\n",
       "    }\n",
       "\n",
       "    .dataframe thead th {\n",
       "        text-align: right;\n",
       "    }\n",
       "</style>\n",
       "<table border=\"1\" class=\"dataframe\">\n",
       "  <thead>\n",
       "    <tr style=\"text-align: right;\">\n",
       "      <th></th>\n",
       "      <th></th>\n",
       "      <th></th>\n",
       "      <th>hit_ratio</th>\n",
       "      <th>precision</th>\n",
       "      <th>recall</th>\n",
       "      <th>nDCG</th>\n",
       "      <th>RR</th>\n",
       "    </tr>\n",
       "  </thead>\n",
       "  <tbody>\n",
       "    <tr>\n",
       "      <th rowspan=\"6\" valign=\"top\">10</th>\n",
       "      <th rowspan=\"2\" valign=\"top\">0.01</th>\n",
       "      <th>0.10</th>\n",
       "      <td>0.044</td>\n",
       "      <td>0.044</td>\n",
       "      <td>0.044</td>\n",
       "      <td>0.054569</td>\n",
       "      <td>0.167567</td>\n",
       "    </tr>\n",
       "    <tr>\n",
       "      <th>0.15</th>\n",
       "      <td>0.048</td>\n",
       "      <td>0.048</td>\n",
       "      <td>0.048</td>\n",
       "      <td>0.054988</td>\n",
       "      <td>0.159635</td>\n",
       "    </tr>\n",
       "    <tr>\n",
       "      <th rowspan=\"2\" valign=\"top\">0.03</th>\n",
       "      <th>0.10</th>\n",
       "      <td>0.044</td>\n",
       "      <td>0.044</td>\n",
       "      <td>0.044</td>\n",
       "      <td>0.054569</td>\n",
       "      <td>0.167567</td>\n",
       "    </tr>\n",
       "    <tr>\n",
       "      <th>0.15</th>\n",
       "      <td>0.048</td>\n",
       "      <td>0.048</td>\n",
       "      <td>0.048</td>\n",
       "      <td>0.054988</td>\n",
       "      <td>0.159635</td>\n",
       "    </tr>\n",
       "    <tr>\n",
       "      <th rowspan=\"2\" valign=\"top\">0.05</th>\n",
       "      <th>0.10</th>\n",
       "      <td>0.044</td>\n",
       "      <td>0.044</td>\n",
       "      <td>0.044</td>\n",
       "      <td>0.054569</td>\n",
       "      <td>0.167567</td>\n",
       "    </tr>\n",
       "    <tr>\n",
       "      <th>0.15</th>\n",
       "      <td>0.048</td>\n",
       "      <td>0.048</td>\n",
       "      <td>0.048</td>\n",
       "      <td>0.054988</td>\n",
       "      <td>0.159635</td>\n",
       "    </tr>\n",
       "    <tr>\n",
       "      <th rowspan=\"6\" valign=\"top\">20</th>\n",
       "      <th rowspan=\"2\" valign=\"top\">0.01</th>\n",
       "      <th>0.10</th>\n",
       "      <td>0.045</td>\n",
       "      <td>0.045</td>\n",
       "      <td>0.045</td>\n",
       "      <td>0.050978</td>\n",
       "      <td>0.155786</td>\n",
       "    </tr>\n",
       "    <tr>\n",
       "      <th>0.15</th>\n",
       "      <td>0.041</td>\n",
       "      <td>0.041</td>\n",
       "      <td>0.041</td>\n",
       "      <td>0.048969</td>\n",
       "      <td>0.146655</td>\n",
       "    </tr>\n",
       "    <tr>\n",
       "      <th rowspan=\"2\" valign=\"top\">0.03</th>\n",
       "      <th>0.10</th>\n",
       "      <td>0.045</td>\n",
       "      <td>0.045</td>\n",
       "      <td>0.045</td>\n",
       "      <td>0.050920</td>\n",
       "      <td>0.155548</td>\n",
       "    </tr>\n",
       "    <tr>\n",
       "      <th>0.15</th>\n",
       "      <td>0.041</td>\n",
       "      <td>0.041</td>\n",
       "      <td>0.041</td>\n",
       "      <td>0.049671</td>\n",
       "      <td>0.148321</td>\n",
       "    </tr>\n",
       "    <tr>\n",
       "      <th rowspan=\"2\" valign=\"top\">0.05</th>\n",
       "      <th>0.10</th>\n",
       "      <td>0.045</td>\n",
       "      <td>0.045</td>\n",
       "      <td>0.045</td>\n",
       "      <td>0.050637</td>\n",
       "      <td>0.154575</td>\n",
       "    </tr>\n",
       "    <tr>\n",
       "      <th>0.15</th>\n",
       "      <td>0.041</td>\n",
       "      <td>0.041</td>\n",
       "      <td>0.041</td>\n",
       "      <td>0.050432</td>\n",
       "      <td>0.150226</td>\n",
       "    </tr>\n",
       "    <tr>\n",
       "      <th rowspan=\"6\" valign=\"top\">30</th>\n",
       "      <th rowspan=\"2\" valign=\"top\">0.01</th>\n",
       "      <th>0.10</th>\n",
       "      <td>0.047</td>\n",
       "      <td>0.047</td>\n",
       "      <td>0.047</td>\n",
       "      <td>0.057421</td>\n",
       "      <td>0.170869</td>\n",
       "    </tr>\n",
       "    <tr>\n",
       "      <th>0.15</th>\n",
       "      <td>0.046</td>\n",
       "      <td>0.046</td>\n",
       "      <td>0.046</td>\n",
       "      <td>0.055792</td>\n",
       "      <td>0.169528</td>\n",
       "    </tr>\n",
       "    <tr>\n",
       "      <th rowspan=\"2\" valign=\"top\">0.03</th>\n",
       "      <th>0.10</th>\n",
       "      <td>0.047</td>\n",
       "      <td>0.047</td>\n",
       "      <td>0.047</td>\n",
       "      <td>0.057504</td>\n",
       "      <td>0.170869</td>\n",
       "    </tr>\n",
       "    <tr>\n",
       "      <th>0.15</th>\n",
       "      <td>0.047</td>\n",
       "      <td>0.047</td>\n",
       "      <td>0.047</td>\n",
       "      <td>0.056419</td>\n",
       "      <td>0.169917</td>\n",
       "    </tr>\n",
       "    <tr>\n",
       "      <th rowspan=\"2\" valign=\"top\">0.05</th>\n",
       "      <th>0.10</th>\n",
       "      <td>0.047</td>\n",
       "      <td>0.047</td>\n",
       "      <td>0.047</td>\n",
       "      <td>0.057548</td>\n",
       "      <td>0.170869</td>\n",
       "    </tr>\n",
       "    <tr>\n",
       "      <th>0.15</th>\n",
       "      <td>0.047</td>\n",
       "      <td>0.047</td>\n",
       "      <td>0.047</td>\n",
       "      <td>0.055751</td>\n",
       "      <td>0.168250</td>\n",
       "    </tr>\n",
       "  </tbody>\n",
       "</table>\n",
       "</div>"
      ],
      "text/plain": [
       "              hit_ratio  precision  recall      nDCG        RR\n",
       "10 0.01 0.10      0.044      0.044   0.044  0.054569  0.167567\n",
       "        0.15      0.048      0.048   0.048  0.054988  0.159635\n",
       "   0.03 0.10      0.044      0.044   0.044  0.054569  0.167567\n",
       "        0.15      0.048      0.048   0.048  0.054988  0.159635\n",
       "   0.05 0.10      0.044      0.044   0.044  0.054569  0.167567\n",
       "        0.15      0.048      0.048   0.048  0.054988  0.159635\n",
       "20 0.01 0.10      0.045      0.045   0.045  0.050978  0.155786\n",
       "        0.15      0.041      0.041   0.041  0.048969  0.146655\n",
       "   0.03 0.10      0.045      0.045   0.045  0.050920  0.155548\n",
       "        0.15      0.041      0.041   0.041  0.049671  0.148321\n",
       "   0.05 0.10      0.045      0.045   0.045  0.050637  0.154575\n",
       "        0.15      0.041      0.041   0.041  0.050432  0.150226\n",
       "30 0.01 0.10      0.047      0.047   0.047  0.057421  0.170869\n",
       "        0.15      0.046      0.046   0.046  0.055792  0.169528\n",
       "   0.03 0.10      0.047      0.047   0.047  0.057504  0.170869\n",
       "        0.15      0.047      0.047   0.047  0.056419  0.169917\n",
       "   0.05 0.10      0.047      0.047   0.047  0.057548  0.170869\n",
       "        0.15      0.047      0.047   0.047  0.055751  0.168250"
      ]
     },
     "execution_count": 25,
     "metadata": {},
     "output_type": "execute_result"
    }
   ],
   "source": [
    "user_items = csr_matrix(df_user_items.to_numpy())\n",
    "\n",
    "# Set parameter range\n",
    "factors_range = [10, 20, 30]\n",
    "regularization_range = [0.01, 0.03, 0.05]\n",
    "alpha_range = [0.1, 0.15]\n",
    "\n",
    "# Perform Grid Search on ALS\n",
    "results_als_grid = {}\n",
    "for f in tqdm(factors_range):\n",
    "    for r in regularization_range:\n",
    "        for a in alpha_range:\n",
    "            als = implicit.als.AlternatingLeastSquares(factors=f,\n",
    "                                                       regularization=r,\n",
    "                                                       alpha=a,\n",
    "                                                       random_state=26)\n",
    "            als.fit(user_items)\n",
    "            user_recommendations_als = {}\n",
    "            for user_id, user_index in sample_filtered_users_id_dict.items():\n",
    "                recommendations = als.recommend(\n",
    "                    user_index, user_items[user_index], N=10)\n",
    "                user_recommendations_als[user_id] = df_user_items.columns[\n",
    "                    recommendations[0].tolist()\n",
    "                ].tolist()\n",
    "\n",
    "            metrics_als = calculate_metrics_als(holdout,\n",
    "                                                user_recommendations_als)\n",
    "            results_als_grid[(f, r, a)] = metrics_als.to_dict()\n",
    "\n",
    "pd.DataFrame(results_als_grid).T.map(lambda x: x['mean'])"
   ]
  },
  {
   "cell_type": "markdown",
   "id": "afe2270a-8923-4768-8d4b-13faeb5158b0",
   "metadata": {},
   "source": [
    "<b>Table 7.</b> Dataframe showing the results of each grid search iteration for **ALS**\n",
    "\n",
    "From **Table 7** we can see that from the results of the grid search that the best set of parameters would be `factors=30`, `regularization=0.05`, `alpha=0.1`, achieveing an nDCG of 0.057548."
   ]
  },
  {
   "cell_type": "code",
   "execution_count": 26,
   "id": "ffe1352b-526c-4344-8d13-76a6dfa9d178",
   "metadata": {
    "execution": {
     "iopub.execute_input": "2024-06-03T14:00:37.507594Z",
     "iopub.status.busy": "2024-06-03T14:00:37.507374Z",
     "iopub.status.idle": "2024-06-03T14:00:42.688059Z",
     "shell.execute_reply": "2024-06-03T14:00:42.687717Z",
     "shell.execute_reply.started": "2024-06-03T14:00:37.507582Z"
    }
   },
   "outputs": [
    {
     "data": {
      "application/vnd.jupyter.widget-view+json": {
       "model_id": "e8442c3d107e4ae19fd11ed2a4277d5a",
       "version_major": 2,
       "version_minor": 0
      },
      "text/plain": [
       "  0%|          | 0/15 [00:00<?, ?it/s]"
      ]
     },
     "metadata": {},
     "output_type": "display_data"
    }
   ],
   "source": [
    "als = implicit.als.AlternatingLeastSquares(factors=30,\n",
    "                                           regularization=0.05,\n",
    "                                           alpha=0.1,\n",
    "                                           random_state=26)\n",
    "user_recommendations_als = {}\n",
    "als.fit(user_items)\n",
    "# for user_index, user_id in enumerate(sample_filtered_users_id):\n",
    "for user_id, user_index in sample_filtered_users_id_dict.items():\n",
    "    recommendations = als.recommend(user_index, user_items[user_index], N=10)\n",
    "    user_recommendations_als[user_id] = df_user_items.columns[\n",
    "        recommendations[0].tolist()\n",
    "    ].tolist()"
   ]
  },
  {
   "cell_type": "markdown",
   "id": "a6efc242-9f77-4409-885b-27e4c8c2ec06",
   "metadata": {},
   "source": [
    "### ALS TFIDF"
   ]
  },
  {
   "cell_type": "markdown",
   "id": "b4affd59-eb9f-44a6-ab11-eafbab3afb22",
   "metadata": {},
   "source": [
    "This version of ALS imposes TFIDF weights that penalizes popularity."
   ]
  },
  {
   "cell_type": "code",
   "execution_count": 27,
   "id": "d01eccb2-2bdf-4434-bee0-7494221e9976",
   "metadata": {
    "execution": {
     "iopub.execute_input": "2024-06-03T14:00:42.689925Z",
     "iopub.status.busy": "2024-06-03T14:00:42.689696Z",
     "iopub.status.idle": "2024-06-03T14:02:03.375025Z",
     "shell.execute_reply": "2024-06-03T14:02:03.374723Z",
     "shell.execute_reply.started": "2024-06-03T14:00:42.689914Z"
    }
   },
   "outputs": [
    {
     "name": "stderr",
     "output_type": "stream",
     "text": [
      "  0%|                                                     | 0/3 [00:00<?, ?it/s]"
     ]
    },
    {
     "data": {
      "application/vnd.jupyter.widget-view+json": {
       "model_id": "4dc04258ca2641af8da795d4a991becd",
       "version_major": 2,
       "version_minor": 0
      },
      "text/plain": [
       "  0%|          | 0/15 [00:00<?, ?it/s]"
      ]
     },
     "metadata": {},
     "output_type": "display_data"
    },
    {
     "data": {
      "application/vnd.jupyter.widget-view+json": {
       "model_id": "c65bc3ec1caf4637a07fb20c4f8697ab",
       "version_major": 2,
       "version_minor": 0
      },
      "text/plain": [
       "  0%|          | 0/15 [00:00<?, ?it/s]"
      ]
     },
     "metadata": {},
     "output_type": "display_data"
    },
    {
     "data": {
      "application/vnd.jupyter.widget-view+json": {
       "model_id": "0e3a3d20fbdf4bb793a0611698d07960",
       "version_major": 2,
       "version_minor": 0
      },
      "text/plain": [
       "  0%|          | 0/15 [00:00<?, ?it/s]"
      ]
     },
     "metadata": {},
     "output_type": "display_data"
    },
    {
     "data": {
      "application/vnd.jupyter.widget-view+json": {
       "model_id": "090e96adbf4440b69137ee7da40ee71b",
       "version_major": 2,
       "version_minor": 0
      },
      "text/plain": [
       "  0%|          | 0/15 [00:00<?, ?it/s]"
      ]
     },
     "metadata": {},
     "output_type": "display_data"
    },
    {
     "data": {
      "application/vnd.jupyter.widget-view+json": {
       "model_id": "dc9548bca4534514869b55c52bce86c3",
       "version_major": 2,
       "version_minor": 0
      },
      "text/plain": [
       "  0%|          | 0/15 [00:00<?, ?it/s]"
      ]
     },
     "metadata": {},
     "output_type": "display_data"
    },
    {
     "data": {
      "application/vnd.jupyter.widget-view+json": {
       "model_id": "bd4c9572af9c49a2868d41084d10e376",
       "version_major": 2,
       "version_minor": 0
      },
      "text/plain": [
       "  0%|          | 0/15 [00:00<?, ?it/s]"
      ]
     },
     "metadata": {},
     "output_type": "display_data"
    },
    {
     "name": "stderr",
     "output_type": "stream",
     "text": [
      " 33%|███████████████                              | 1/3 [00:22<00:44, 22.33s/it]"
     ]
    },
    {
     "data": {
      "application/vnd.jupyter.widget-view+json": {
       "model_id": "cdffe0a5472a4856b72b432c870d5f1c",
       "version_major": 2,
       "version_minor": 0
      },
      "text/plain": [
       "  0%|          | 0/15 [00:00<?, ?it/s]"
      ]
     },
     "metadata": {},
     "output_type": "display_data"
    },
    {
     "data": {
      "application/vnd.jupyter.widget-view+json": {
       "model_id": "842ed17b416f4c8aa8853f2c146614aa",
       "version_major": 2,
       "version_minor": 0
      },
      "text/plain": [
       "  0%|          | 0/15 [00:00<?, ?it/s]"
      ]
     },
     "metadata": {},
     "output_type": "display_data"
    },
    {
     "data": {
      "application/vnd.jupyter.widget-view+json": {
       "model_id": "9ca7764dc8f548a79000d754a8aaf8be",
       "version_major": 2,
       "version_minor": 0
      },
      "text/plain": [
       "  0%|          | 0/15 [00:00<?, ?it/s]"
      ]
     },
     "metadata": {},
     "output_type": "display_data"
    },
    {
     "data": {
      "application/vnd.jupyter.widget-view+json": {
       "model_id": "843e9600838d4b8295696eabb50474ad",
       "version_major": 2,
       "version_minor": 0
      },
      "text/plain": [
       "  0%|          | 0/15 [00:00<?, ?it/s]"
      ]
     },
     "metadata": {},
     "output_type": "display_data"
    },
    {
     "data": {
      "application/vnd.jupyter.widget-view+json": {
       "model_id": "907db1270a47481595e8408dba954faf",
       "version_major": 2,
       "version_minor": 0
      },
      "text/plain": [
       "  0%|          | 0/15 [00:00<?, ?it/s]"
      ]
     },
     "metadata": {},
     "output_type": "display_data"
    },
    {
     "data": {
      "application/vnd.jupyter.widget-view+json": {
       "model_id": "52943ec9c49f40e2854151c07087a84f",
       "version_major": 2,
       "version_minor": 0
      },
      "text/plain": [
       "  0%|          | 0/15 [00:00<?, ?it/s]"
      ]
     },
     "metadata": {},
     "output_type": "display_data"
    },
    {
     "name": "stderr",
     "output_type": "stream",
     "text": [
      " 67%|██████████████████████████████               | 2/3 [00:48<00:24, 24.33s/it]"
     ]
    },
    {
     "data": {
      "application/vnd.jupyter.widget-view+json": {
       "model_id": "b7a80016b83a4ab497282b77b7bea2e5",
       "version_major": 2,
       "version_minor": 0
      },
      "text/plain": [
       "  0%|          | 0/15 [00:00<?, ?it/s]"
      ]
     },
     "metadata": {},
     "output_type": "display_data"
    },
    {
     "data": {
      "application/vnd.jupyter.widget-view+json": {
       "model_id": "6726190a2e8d4ed1a7fa5f1415fead65",
       "version_major": 2,
       "version_minor": 0
      },
      "text/plain": [
       "  0%|          | 0/15 [00:00<?, ?it/s]"
      ]
     },
     "metadata": {},
     "output_type": "display_data"
    },
    {
     "data": {
      "application/vnd.jupyter.widget-view+json": {
       "model_id": "14dcce11fa38496386c0fcc7f952e37f",
       "version_major": 2,
       "version_minor": 0
      },
      "text/plain": [
       "  0%|          | 0/15 [00:00<?, ?it/s]"
      ]
     },
     "metadata": {},
     "output_type": "display_data"
    },
    {
     "data": {
      "application/vnd.jupyter.widget-view+json": {
       "model_id": "23f80fe7213448c6bf274b1aeb9e17a1",
       "version_major": 2,
       "version_minor": 0
      },
      "text/plain": [
       "  0%|          | 0/15 [00:00<?, ?it/s]"
      ]
     },
     "metadata": {},
     "output_type": "display_data"
    },
    {
     "data": {
      "application/vnd.jupyter.widget-view+json": {
       "model_id": "fcefcaa404c8437d815476d1bed8891e",
       "version_major": 2,
       "version_minor": 0
      },
      "text/plain": [
       "  0%|          | 0/15 [00:00<?, ?it/s]"
      ]
     },
     "metadata": {},
     "output_type": "display_data"
    },
    {
     "data": {
      "application/vnd.jupyter.widget-view+json": {
       "model_id": "2dd5ffc6a63749dd863581020386ce28",
       "version_major": 2,
       "version_minor": 0
      },
      "text/plain": [
       "  0%|          | 0/15 [00:00<?, ?it/s]"
      ]
     },
     "metadata": {},
     "output_type": "display_data"
    },
    {
     "name": "stderr",
     "output_type": "stream",
     "text": [
      "100%|█████████████████████████████████████████████| 3/3 [01:19<00:00, 26.58s/it]\n"
     ]
    },
    {
     "data": {
      "text/html": [
       "<div>\n",
       "<style scoped>\n",
       "    .dataframe tbody tr th:only-of-type {\n",
       "        vertical-align: middle;\n",
       "    }\n",
       "\n",
       "    .dataframe tbody tr th {\n",
       "        vertical-align: top;\n",
       "    }\n",
       "\n",
       "    .dataframe thead th {\n",
       "        text-align: right;\n",
       "    }\n",
       "</style>\n",
       "<table border=\"1\" class=\"dataframe\">\n",
       "  <thead>\n",
       "    <tr style=\"text-align: right;\">\n",
       "      <th></th>\n",
       "      <th></th>\n",
       "      <th></th>\n",
       "      <th>hit_ratio</th>\n",
       "      <th>precision</th>\n",
       "      <th>recall</th>\n",
       "      <th>nDCG</th>\n",
       "      <th>RR</th>\n",
       "    </tr>\n",
       "  </thead>\n",
       "  <tbody>\n",
       "    <tr>\n",
       "      <th rowspan=\"6\" valign=\"top\">10</th>\n",
       "      <th rowspan=\"2\" valign=\"top\">0.01</th>\n",
       "      <th>0.1</th>\n",
       "      <td>0.042</td>\n",
       "      <td>0.042</td>\n",
       "      <td>0.042</td>\n",
       "      <td>0.042631</td>\n",
       "      <td>0.118286</td>\n",
       "    </tr>\n",
       "    <tr>\n",
       "      <th>0.5</th>\n",
       "      <td>0.038</td>\n",
       "      <td>0.038</td>\n",
       "      <td>0.038</td>\n",
       "      <td>0.042866</td>\n",
       "      <td>0.135758</td>\n",
       "    </tr>\n",
       "    <tr>\n",
       "      <th rowspan=\"2\" valign=\"top\">0.03</th>\n",
       "      <th>0.1</th>\n",
       "      <td>0.042</td>\n",
       "      <td>0.042</td>\n",
       "      <td>0.042</td>\n",
       "      <td>0.042631</td>\n",
       "      <td>0.118286</td>\n",
       "    </tr>\n",
       "    <tr>\n",
       "      <th>0.5</th>\n",
       "      <td>0.037</td>\n",
       "      <td>0.037</td>\n",
       "      <td>0.037</td>\n",
       "      <td>0.042260</td>\n",
       "      <td>0.134619</td>\n",
       "    </tr>\n",
       "    <tr>\n",
       "      <th rowspan=\"2\" valign=\"top\">0.05</th>\n",
       "      <th>0.1</th>\n",
       "      <td>0.042</td>\n",
       "      <td>0.042</td>\n",
       "      <td>0.042</td>\n",
       "      <td>0.042631</td>\n",
       "      <td>0.118286</td>\n",
       "    </tr>\n",
       "    <tr>\n",
       "      <th>0.5</th>\n",
       "      <td>0.037</td>\n",
       "      <td>0.037</td>\n",
       "      <td>0.037</td>\n",
       "      <td>0.042465</td>\n",
       "      <td>0.135274</td>\n",
       "    </tr>\n",
       "    <tr>\n",
       "      <th rowspan=\"6\" valign=\"top\">20</th>\n",
       "      <th rowspan=\"2\" valign=\"top\">0.01</th>\n",
       "      <th>0.1</th>\n",
       "      <td>0.042</td>\n",
       "      <td>0.042</td>\n",
       "      <td>0.042</td>\n",
       "      <td>0.046200</td>\n",
       "      <td>0.133290</td>\n",
       "    </tr>\n",
       "    <tr>\n",
       "      <th>0.5</th>\n",
       "      <td>0.043</td>\n",
       "      <td>0.043</td>\n",
       "      <td>0.043</td>\n",
       "      <td>0.045325</td>\n",
       "      <td>0.129190</td>\n",
       "    </tr>\n",
       "    <tr>\n",
       "      <th rowspan=\"2\" valign=\"top\">0.03</th>\n",
       "      <th>0.1</th>\n",
       "      <td>0.042</td>\n",
       "      <td>0.042</td>\n",
       "      <td>0.042</td>\n",
       "      <td>0.046200</td>\n",
       "      <td>0.133290</td>\n",
       "    </tr>\n",
       "    <tr>\n",
       "      <th>0.5</th>\n",
       "      <td>0.044</td>\n",
       "      <td>0.044</td>\n",
       "      <td>0.044</td>\n",
       "      <td>0.045799</td>\n",
       "      <td>0.128798</td>\n",
       "    </tr>\n",
       "    <tr>\n",
       "      <th rowspan=\"2\" valign=\"top\">0.05</th>\n",
       "      <th>0.1</th>\n",
       "      <td>0.042</td>\n",
       "      <td>0.042</td>\n",
       "      <td>0.042</td>\n",
       "      <td>0.046200</td>\n",
       "      <td>0.133290</td>\n",
       "    </tr>\n",
       "    <tr>\n",
       "      <th>0.5</th>\n",
       "      <td>0.044</td>\n",
       "      <td>0.044</td>\n",
       "      <td>0.044</td>\n",
       "      <td>0.045772</td>\n",
       "      <td>0.128687</td>\n",
       "    </tr>\n",
       "    <tr>\n",
       "      <th rowspan=\"6\" valign=\"top\">30</th>\n",
       "      <th rowspan=\"2\" valign=\"top\">0.01</th>\n",
       "      <th>0.1</th>\n",
       "      <td>0.050</td>\n",
       "      <td>0.050</td>\n",
       "      <td>0.050</td>\n",
       "      <td>0.056528</td>\n",
       "      <td>0.147389</td>\n",
       "    </tr>\n",
       "    <tr>\n",
       "      <th>0.5</th>\n",
       "      <td>0.041</td>\n",
       "      <td>0.041</td>\n",
       "      <td>0.041</td>\n",
       "      <td>0.051682</td>\n",
       "      <td>0.147825</td>\n",
       "    </tr>\n",
       "    <tr>\n",
       "      <th rowspan=\"2\" valign=\"top\">0.03</th>\n",
       "      <th>0.1</th>\n",
       "      <td>0.050</td>\n",
       "      <td>0.050</td>\n",
       "      <td>0.050</td>\n",
       "      <td>0.056528</td>\n",
       "      <td>0.147389</td>\n",
       "    </tr>\n",
       "    <tr>\n",
       "      <th>0.5</th>\n",
       "      <td>0.041</td>\n",
       "      <td>0.041</td>\n",
       "      <td>0.041</td>\n",
       "      <td>0.051599</td>\n",
       "      <td>0.147492</td>\n",
       "    </tr>\n",
       "    <tr>\n",
       "      <th rowspan=\"2\" valign=\"top\">0.05</th>\n",
       "      <th>0.1</th>\n",
       "      <td>0.050</td>\n",
       "      <td>0.050</td>\n",
       "      <td>0.050</td>\n",
       "      <td>0.056528</td>\n",
       "      <td>0.147389</td>\n",
       "    </tr>\n",
       "    <tr>\n",
       "      <th>0.5</th>\n",
       "      <td>0.041</td>\n",
       "      <td>0.041</td>\n",
       "      <td>0.041</td>\n",
       "      <td>0.051599</td>\n",
       "      <td>0.147492</td>\n",
       "    </tr>\n",
       "  </tbody>\n",
       "</table>\n",
       "</div>"
      ],
      "text/plain": [
       "             hit_ratio  precision  recall      nDCG        RR\n",
       "10 0.01 0.1      0.042      0.042   0.042  0.042631  0.118286\n",
       "        0.5      0.038      0.038   0.038  0.042866  0.135758\n",
       "   0.03 0.1      0.042      0.042   0.042  0.042631  0.118286\n",
       "        0.5      0.037      0.037   0.037  0.042260  0.134619\n",
       "   0.05 0.1      0.042      0.042   0.042  0.042631  0.118286\n",
       "        0.5      0.037      0.037   0.037  0.042465  0.135274\n",
       "20 0.01 0.1      0.042      0.042   0.042  0.046200  0.133290\n",
       "        0.5      0.043      0.043   0.043  0.045325  0.129190\n",
       "   0.03 0.1      0.042      0.042   0.042  0.046200  0.133290\n",
       "        0.5      0.044      0.044   0.044  0.045799  0.128798\n",
       "   0.05 0.1      0.042      0.042   0.042  0.046200  0.133290\n",
       "        0.5      0.044      0.044   0.044  0.045772  0.128687\n",
       "30 0.01 0.1      0.050      0.050   0.050  0.056528  0.147389\n",
       "        0.5      0.041      0.041   0.041  0.051682  0.147825\n",
       "   0.03 0.1      0.050      0.050   0.050  0.056528  0.147389\n",
       "        0.5      0.041      0.041   0.041  0.051599  0.147492\n",
       "   0.05 0.1      0.050      0.050   0.050  0.056528  0.147389\n",
       "        0.5      0.041      0.041   0.041  0.051599  0.147492"
      ]
     },
     "execution_count": 27,
     "metadata": {},
     "output_type": "execute_result"
    }
   ],
   "source": [
    "# Set up the matrix\n",
    "user_items_tfidf = csr_matrix(tfidf_weight(df_user_items.fillna(0).to_numpy()))\n",
    "\n",
    "# set Parameter Range\n",
    "factors_range = [10, 20, 30]\n",
    "regularization_range = [0.01, 0.03, 0.05]\n",
    "alpha_range = [0.1, 0.5]\n",
    "\n",
    "# Grid Search\n",
    "results_alstfidf_grid = {}\n",
    "for f in tqdm(factors_range):\n",
    "    for r in regularization_range:\n",
    "        for a in alpha_range:\n",
    "            als_tfidf = implicit.als.AlternatingLeastSquares(factors=f,\n",
    "                                                             regularization=r,\n",
    "                                                             alpha=a,\n",
    "                                                             random_state=26)\n",
    "            als_tfidf.fit(user_items_tfidf)\n",
    "            user_recommendations_alstfidf = {}\n",
    "            for user_id, user_index in sample_filtered_users_id_dict.items():\n",
    "                recommendations = (als_tfidf\n",
    "                                   .recommend(user_index,\n",
    "                                              user_items_tfidf[user_index],\n",
    "                                              N=10)\n",
    "                                   )\n",
    "                user_recommendations_alstfidf[user_id] = (df_user_items\n",
    "                                                          .columns\n",
    "                                                          [recommendations[0]\n",
    "                                                           .tolist()]\n",
    "                                                          .tolist()\n",
    "                                                          )\n",
    "\n",
    "            metrics_alstfidf = calculate_metrics_als(\n",
    "                holdout, user_recommendations_alstfidf)\n",
    "            results_alstfidf_grid[(f, r, a)] = metrics_alstfidf.to_dict()\n",
    "\n",
    "pd.DataFrame(results_alstfidf_grid).T.map(lambda x: x['mean'])"
   ]
  },
  {
   "cell_type": "markdown",
   "id": "27ce76dc-7853-4a48-97dd-33ec9e92180e",
   "metadata": {},
   "source": [
    "<b>Table 8.</b> Dataframe showing the results of each grid search iteration for **ALS-TFIDF**\n",
    "\n",
    "From **Table 8** we can see that from the results of the grid search that the best set of parameters for **ALS-TFIDF** would be `factors=30`, `regularization=0.05`, `alpha=0.1`, achieveing an nDCG of 0.056528."
   ]
  },
  {
   "cell_type": "code",
   "execution_count": 28,
   "id": "fc9201f8-2845-4157-a78a-7dc521a2e3fe",
   "metadata": {
    "execution": {
     "iopub.execute_input": "2024-06-03T14:02:03.375761Z",
     "iopub.status.busy": "2024-06-03T14:02:03.375550Z",
     "iopub.status.idle": "2024-06-03T14:02:08.604109Z",
     "shell.execute_reply": "2024-06-03T14:02:08.603784Z",
     "shell.execute_reply.started": "2024-06-03T14:02:03.375749Z"
    }
   },
   "outputs": [
    {
     "data": {
      "application/vnd.jupyter.widget-view+json": {
       "model_id": "ff23ec3a642845f48cf38598a900ca5f",
       "version_major": 2,
       "version_minor": 0
      },
      "text/plain": [
       "  0%|          | 0/15 [00:00<?, ?it/s]"
      ]
     },
     "metadata": {},
     "output_type": "display_data"
    }
   ],
   "source": [
    "# Train the best model\n",
    "als_tfidf = implicit.als.AlternatingLeastSquares(factors=30,\n",
    "                                                 regularization=0.05,\n",
    "                                                 alpha=0.1,\n",
    "                                                 random_state=26)\n",
    "als_tfidf.fit(user_items_tfidf)\n",
    "\n",
    "# Create Recommendations\n",
    "user_recommendations_alstfidf = {}\n",
    "for user_id, user_index in sample_filtered_users_id_dict.items():\n",
    "    recommendations = als_tfidf.recommend(user_index,\n",
    "                                          user_items_tfidf[user_index],\n",
    "                                          N=10)\n",
    "    user_recommendations_alstfidf[user_id] = df_user_items.columns[\n",
    "        recommendations[0].tolist()\n",
    "    ].tolist()"
   ]
  },
  {
   "cell_type": "markdown",
   "id": "56a27ffd-a444-487c-a95a-501c50ee4343",
   "metadata": {},
   "source": [
    "### Logistic Matrix Factorization (LMF)"
   ]
  },
  {
   "cell_type": "markdown",
   "id": "1acd3f8a-a05a-4ca9-82d6-ad090262bb11",
   "metadata": {},
   "source": [
    "Logistic Matrix Factorization models the probability of user-item interactions using a logistic function, making it well-suited for binary implicit feedback scenarios.  "
   ]
  },
  {
   "cell_type": "code",
   "execution_count": 29,
   "id": "446f35f2-0c06-420a-9e92-c7c84bdae739",
   "metadata": {
    "execution": {
     "iopub.execute_input": "2024-06-03T14:02:08.605040Z",
     "iopub.status.busy": "2024-06-03T14:02:08.604640Z",
     "iopub.status.idle": "2024-06-03T14:02:46.648004Z",
     "shell.execute_reply": "2024-06-03T14:02:46.647710Z",
     "shell.execute_reply.started": "2024-06-03T14:02:08.605024Z"
    }
   },
   "outputs": [
    {
     "name": "stderr",
     "output_type": "stream",
     "text": [
      "  0%|                                                     | 0/3 [00:00<?, ?it/s]"
     ]
    },
    {
     "data": {
      "application/vnd.jupyter.widget-view+json": {
       "model_id": "b1d459a9e92841eebe66eb2357d27d56",
       "version_major": 2,
       "version_minor": 0
      },
      "text/plain": [
       "  0%|          | 0/30 [00:00<?, ?it/s]"
      ]
     },
     "metadata": {},
     "output_type": "display_data"
    },
    {
     "data": {
      "application/vnd.jupyter.widget-view+json": {
       "model_id": "f35633be9046433e9e2ac666bf16e4b9",
       "version_major": 2,
       "version_minor": 0
      },
      "text/plain": [
       "  0%|          | 0/30 [00:00<?, ?it/s]"
      ]
     },
     "metadata": {},
     "output_type": "display_data"
    },
    {
     "data": {
      "application/vnd.jupyter.widget-view+json": {
       "model_id": "26e11685fb4a4207b3b155c8ac91ba3a",
       "version_major": 2,
       "version_minor": 0
      },
      "text/plain": [
       "  0%|          | 0/30 [00:00<?, ?it/s]"
      ]
     },
     "metadata": {},
     "output_type": "display_data"
    },
    {
     "data": {
      "application/vnd.jupyter.widget-view+json": {
       "model_id": "8ea8f37db7e5484391a2bf424dec1913",
       "version_major": 2,
       "version_minor": 0
      },
      "text/plain": [
       "  0%|          | 0/30 [00:00<?, ?it/s]"
      ]
     },
     "metadata": {},
     "output_type": "display_data"
    },
    {
     "data": {
      "application/vnd.jupyter.widget-view+json": {
       "model_id": "eb5fac6ec1be4c5d981724d658bf2545",
       "version_major": 2,
       "version_minor": 0
      },
      "text/plain": [
       "  0%|          | 0/30 [00:00<?, ?it/s]"
      ]
     },
     "metadata": {},
     "output_type": "display_data"
    },
    {
     "data": {
      "application/vnd.jupyter.widget-view+json": {
       "model_id": "bab8165709134f3a844b15754c161baa",
       "version_major": 2,
       "version_minor": 0
      },
      "text/plain": [
       "  0%|          | 0/30 [00:00<?, ?it/s]"
      ]
     },
     "metadata": {},
     "output_type": "display_data"
    },
    {
     "data": {
      "application/vnd.jupyter.widget-view+json": {
       "model_id": "80e19e45fa284107801c5fd157fbdca7",
       "version_major": 2,
       "version_minor": 0
      },
      "text/plain": [
       "  0%|          | 0/30 [00:00<?, ?it/s]"
      ]
     },
     "metadata": {},
     "output_type": "display_data"
    },
    {
     "data": {
      "application/vnd.jupyter.widget-view+json": {
       "model_id": "6fd8f6c1a65b4ae5828e2763364f230d",
       "version_major": 2,
       "version_minor": 0
      },
      "text/plain": [
       "  0%|          | 0/30 [00:00<?, ?it/s]"
      ]
     },
     "metadata": {},
     "output_type": "display_data"
    },
    {
     "data": {
      "application/vnd.jupyter.widget-view+json": {
       "model_id": "406fce043843431797cb47abb111fc3f",
       "version_major": 2,
       "version_minor": 0
      },
      "text/plain": [
       "  0%|          | 0/30 [00:00<?, ?it/s]"
      ]
     },
     "metadata": {},
     "output_type": "display_data"
    },
    {
     "name": "stderr",
     "output_type": "stream",
     "text": [
      " 33%|███████████████                              | 1/3 [00:10<00:21, 10.76s/it]"
     ]
    },
    {
     "data": {
      "application/vnd.jupyter.widget-view+json": {
       "model_id": "385d01c9302e429ba503f67904d38451",
       "version_major": 2,
       "version_minor": 0
      },
      "text/plain": [
       "  0%|          | 0/30 [00:00<?, ?it/s]"
      ]
     },
     "metadata": {},
     "output_type": "display_data"
    },
    {
     "data": {
      "application/vnd.jupyter.widget-view+json": {
       "model_id": "114c4e46059641518556a6fb6956ef31",
       "version_major": 2,
       "version_minor": 0
      },
      "text/plain": [
       "  0%|          | 0/30 [00:00<?, ?it/s]"
      ]
     },
     "metadata": {},
     "output_type": "display_data"
    },
    {
     "data": {
      "application/vnd.jupyter.widget-view+json": {
       "model_id": "646475e184274fb794164876afd9a2d1",
       "version_major": 2,
       "version_minor": 0
      },
      "text/plain": [
       "  0%|          | 0/30 [00:00<?, ?it/s]"
      ]
     },
     "metadata": {},
     "output_type": "display_data"
    },
    {
     "data": {
      "application/vnd.jupyter.widget-view+json": {
       "model_id": "029802f000b54739bae83d65978032c4",
       "version_major": 2,
       "version_minor": 0
      },
      "text/plain": [
       "  0%|          | 0/30 [00:00<?, ?it/s]"
      ]
     },
     "metadata": {},
     "output_type": "display_data"
    },
    {
     "data": {
      "application/vnd.jupyter.widget-view+json": {
       "model_id": "3c29ec3d06ef4f99aacdd5ecda920e2a",
       "version_major": 2,
       "version_minor": 0
      },
      "text/plain": [
       "  0%|          | 0/30 [00:00<?, ?it/s]"
      ]
     },
     "metadata": {},
     "output_type": "display_data"
    },
    {
     "data": {
      "application/vnd.jupyter.widget-view+json": {
       "model_id": "0f1634b2b9d34bc98d6e7615c1de4188",
       "version_major": 2,
       "version_minor": 0
      },
      "text/plain": [
       "  0%|          | 0/30 [00:00<?, ?it/s]"
      ]
     },
     "metadata": {},
     "output_type": "display_data"
    },
    {
     "data": {
      "application/vnd.jupyter.widget-view+json": {
       "model_id": "3cc42af6b9b54b25aae004fe2ed392c5",
       "version_major": 2,
       "version_minor": 0
      },
      "text/plain": [
       "  0%|          | 0/30 [00:00<?, ?it/s]"
      ]
     },
     "metadata": {},
     "output_type": "display_data"
    },
    {
     "data": {
      "application/vnd.jupyter.widget-view+json": {
       "model_id": "852e0a116682424ca0bd866cc2369373",
       "version_major": 2,
       "version_minor": 0
      },
      "text/plain": [
       "  0%|          | 0/30 [00:00<?, ?it/s]"
      ]
     },
     "metadata": {},
     "output_type": "display_data"
    },
    {
     "data": {
      "application/vnd.jupyter.widget-view+json": {
       "model_id": "9d1d83f773ec4cb8b98835987daed82a",
       "version_major": 2,
       "version_minor": 0
      },
      "text/plain": [
       "  0%|          | 0/30 [00:00<?, ?it/s]"
      ]
     },
     "metadata": {},
     "output_type": "display_data"
    },
    {
     "name": "stderr",
     "output_type": "stream",
     "text": [
      " 67%|██████████████████████████████               | 2/3 [00:22<00:11, 11.36s/it]"
     ]
    },
    {
     "data": {
      "application/vnd.jupyter.widget-view+json": {
       "model_id": "1ae2ec70fd6b4441991020a200404fc4",
       "version_major": 2,
       "version_minor": 0
      },
      "text/plain": [
       "  0%|          | 0/30 [00:00<?, ?it/s]"
      ]
     },
     "metadata": {},
     "output_type": "display_data"
    },
    {
     "data": {
      "application/vnd.jupyter.widget-view+json": {
       "model_id": "e71f095c8bdc4db6ba803b70928430ab",
       "version_major": 2,
       "version_minor": 0
      },
      "text/plain": [
       "  0%|          | 0/30 [00:00<?, ?it/s]"
      ]
     },
     "metadata": {},
     "output_type": "display_data"
    },
    {
     "data": {
      "application/vnd.jupyter.widget-view+json": {
       "model_id": "7c3aeca5399240ecbd688eac42735fd1",
       "version_major": 2,
       "version_minor": 0
      },
      "text/plain": [
       "  0%|          | 0/30 [00:00<?, ?it/s]"
      ]
     },
     "metadata": {},
     "output_type": "display_data"
    },
    {
     "data": {
      "application/vnd.jupyter.widget-view+json": {
       "model_id": "5aecd9ff2dd442eea52c12ec122152f3",
       "version_major": 2,
       "version_minor": 0
      },
      "text/plain": [
       "  0%|          | 0/30 [00:00<?, ?it/s]"
      ]
     },
     "metadata": {},
     "output_type": "display_data"
    },
    {
     "data": {
      "application/vnd.jupyter.widget-view+json": {
       "model_id": "d1423506863c474c87df761ff7b8bb3b",
       "version_major": 2,
       "version_minor": 0
      },
      "text/plain": [
       "  0%|          | 0/30 [00:00<?, ?it/s]"
      ]
     },
     "metadata": {},
     "output_type": "display_data"
    },
    {
     "data": {
      "application/vnd.jupyter.widget-view+json": {
       "model_id": "9ae2bb0142a34ea78d27ef39f8f02919",
       "version_major": 2,
       "version_minor": 0
      },
      "text/plain": [
       "  0%|          | 0/30 [00:00<?, ?it/s]"
      ]
     },
     "metadata": {},
     "output_type": "display_data"
    },
    {
     "data": {
      "application/vnd.jupyter.widget-view+json": {
       "model_id": "c5c817e119fd478a8798055ee4bbb7c6",
       "version_major": 2,
       "version_minor": 0
      },
      "text/plain": [
       "  0%|          | 0/30 [00:00<?, ?it/s]"
      ]
     },
     "metadata": {},
     "output_type": "display_data"
    },
    {
     "data": {
      "application/vnd.jupyter.widget-view+json": {
       "model_id": "c95b8c9869f8496fb44c606b347b9f31",
       "version_major": 2,
       "version_minor": 0
      },
      "text/plain": [
       "  0%|          | 0/30 [00:00<?, ?it/s]"
      ]
     },
     "metadata": {},
     "output_type": "display_data"
    },
    {
     "data": {
      "application/vnd.jupyter.widget-view+json": {
       "model_id": "934a4884382346b6b8ece03c976f1609",
       "version_major": 2,
       "version_minor": 0
      },
      "text/plain": [
       "  0%|          | 0/30 [00:00<?, ?it/s]"
      ]
     },
     "metadata": {},
     "output_type": "display_data"
    },
    {
     "name": "stderr",
     "output_type": "stream",
     "text": [
      "100%|█████████████████████████████████████████████| 3/3 [00:38<00:00, 12.68s/it]\n"
     ]
    },
    {
     "data": {
      "text/html": [
       "<div>\n",
       "<style scoped>\n",
       "    .dataframe tbody tr th:only-of-type {\n",
       "        vertical-align: middle;\n",
       "    }\n",
       "\n",
       "    .dataframe tbody tr th {\n",
       "        vertical-align: top;\n",
       "    }\n",
       "\n",
       "    .dataframe thead th {\n",
       "        text-align: right;\n",
       "    }\n",
       "</style>\n",
       "<table border=\"1\" class=\"dataframe\">\n",
       "  <thead>\n",
       "    <tr style=\"text-align: right;\">\n",
       "      <th></th>\n",
       "      <th></th>\n",
       "      <th></th>\n",
       "      <th>hit_ratio</th>\n",
       "      <th>precision</th>\n",
       "      <th>recall</th>\n",
       "      <th>nDCG</th>\n",
       "      <th>RR</th>\n",
       "    </tr>\n",
       "  </thead>\n",
       "  <tbody>\n",
       "    <tr>\n",
       "      <th rowspan=\"9\" valign=\"top\">30</th>\n",
       "      <th rowspan=\"3\" valign=\"top\">0.01</th>\n",
       "      <th>0.1</th>\n",
       "      <td>0.001</td>\n",
       "      <td>0.001</td>\n",
       "      <td>0.001</td>\n",
       "      <td>0.000820</td>\n",
       "      <td>0.002000</td>\n",
       "    </tr>\n",
       "    <tr>\n",
       "      <th>0.5</th>\n",
       "      <td>0.006</td>\n",
       "      <td>0.006</td>\n",
       "      <td>0.006</td>\n",
       "      <td>0.006074</td>\n",
       "      <td>0.020095</td>\n",
       "    </tr>\n",
       "    <tr>\n",
       "      <th>1.0</th>\n",
       "      <td>0.010</td>\n",
       "      <td>0.010</td>\n",
       "      <td>0.010</td>\n",
       "      <td>0.010241</td>\n",
       "      <td>0.035262</td>\n",
       "    </tr>\n",
       "    <tr>\n",
       "      <th rowspan=\"3\" valign=\"top\">0.05</th>\n",
       "      <th>0.1</th>\n",
       "      <td>0.001</td>\n",
       "      <td>0.001</td>\n",
       "      <td>0.001</td>\n",
       "      <td>0.000820</td>\n",
       "      <td>0.002000</td>\n",
       "    </tr>\n",
       "    <tr>\n",
       "      <th>0.5</th>\n",
       "      <td>0.006</td>\n",
       "      <td>0.006</td>\n",
       "      <td>0.006</td>\n",
       "      <td>0.006147</td>\n",
       "      <td>0.020357</td>\n",
       "    </tr>\n",
       "    <tr>\n",
       "      <th>1.0</th>\n",
       "      <td>0.010</td>\n",
       "      <td>0.010</td>\n",
       "      <td>0.010</td>\n",
       "      <td>0.010244</td>\n",
       "      <td>0.035278</td>\n",
       "    </tr>\n",
       "    <tr>\n",
       "      <th rowspan=\"3\" valign=\"top\">0.10</th>\n",
       "      <th>0.1</th>\n",
       "      <td>0.001</td>\n",
       "      <td>0.001</td>\n",
       "      <td>0.001</td>\n",
       "      <td>0.000820</td>\n",
       "      <td>0.002000</td>\n",
       "    </tr>\n",
       "    <tr>\n",
       "      <th>0.5</th>\n",
       "      <td>0.006</td>\n",
       "      <td>0.006</td>\n",
       "      <td>0.006</td>\n",
       "      <td>0.006231</td>\n",
       "      <td>0.020690</td>\n",
       "    </tr>\n",
       "    <tr>\n",
       "      <th>1.0</th>\n",
       "      <td>0.012</td>\n",
       "      <td>0.012</td>\n",
       "      <td>0.012</td>\n",
       "      <td>0.011211</td>\n",
       "      <td>0.036583</td>\n",
       "    </tr>\n",
       "    <tr>\n",
       "      <th rowspan=\"9\" valign=\"top\">50</th>\n",
       "      <th rowspan=\"3\" valign=\"top\">0.01</th>\n",
       "      <th>0.1</th>\n",
       "      <td>0.001</td>\n",
       "      <td>0.001</td>\n",
       "      <td>0.001</td>\n",
       "      <td>0.000820</td>\n",
       "      <td>0.002000</td>\n",
       "    </tr>\n",
       "    <tr>\n",
       "      <th>0.5</th>\n",
       "      <td>0.006</td>\n",
       "      <td>0.006</td>\n",
       "      <td>0.006</td>\n",
       "      <td>0.004180</td>\n",
       "      <td>0.009024</td>\n",
       "    </tr>\n",
       "    <tr>\n",
       "      <th>1.0</th>\n",
       "      <td>0.012</td>\n",
       "      <td>0.012</td>\n",
       "      <td>0.012</td>\n",
       "      <td>0.012651</td>\n",
       "      <td>0.039567</td>\n",
       "    </tr>\n",
       "    <tr>\n",
       "      <th rowspan=\"3\" valign=\"top\">0.05</th>\n",
       "      <th>0.1</th>\n",
       "      <td>0.001</td>\n",
       "      <td>0.001</td>\n",
       "      <td>0.001</td>\n",
       "      <td>0.000820</td>\n",
       "      <td>0.002000</td>\n",
       "    </tr>\n",
       "    <tr>\n",
       "      <th>0.5</th>\n",
       "      <td>0.006</td>\n",
       "      <td>0.006</td>\n",
       "      <td>0.006</td>\n",
       "      <td>0.004297</td>\n",
       "      <td>0.009500</td>\n",
       "    </tr>\n",
       "    <tr>\n",
       "      <th>1.0</th>\n",
       "      <td>0.011</td>\n",
       "      <td>0.011</td>\n",
       "      <td>0.011</td>\n",
       "      <td>0.011322</td>\n",
       "      <td>0.037147</td>\n",
       "    </tr>\n",
       "    <tr>\n",
       "      <th rowspan=\"3\" valign=\"top\">0.10</th>\n",
       "      <th>0.1</th>\n",
       "      <td>0.001</td>\n",
       "      <td>0.001</td>\n",
       "      <td>0.001</td>\n",
       "      <td>0.000820</td>\n",
       "      <td>0.002000</td>\n",
       "    </tr>\n",
       "    <tr>\n",
       "      <th>0.5</th>\n",
       "      <td>0.007</td>\n",
       "      <td>0.007</td>\n",
       "      <td>0.007</td>\n",
       "      <td>0.004895</td>\n",
       "      <td>0.009595</td>\n",
       "    </tr>\n",
       "    <tr>\n",
       "      <th>1.0</th>\n",
       "      <td>0.011</td>\n",
       "      <td>0.011</td>\n",
       "      <td>0.011</td>\n",
       "      <td>0.012424</td>\n",
       "      <td>0.040250</td>\n",
       "    </tr>\n",
       "    <tr>\n",
       "      <th rowspan=\"9\" valign=\"top\">70</th>\n",
       "      <th rowspan=\"3\" valign=\"top\">0.01</th>\n",
       "      <th>0.1</th>\n",
       "      <td>0.000</td>\n",
       "      <td>0.000</td>\n",
       "      <td>0.000</td>\n",
       "      <td>0.000000</td>\n",
       "      <td>0.000000</td>\n",
       "    </tr>\n",
       "    <tr>\n",
       "      <th>0.5</th>\n",
       "      <td>0.007</td>\n",
       "      <td>0.007</td>\n",
       "      <td>0.007</td>\n",
       "      <td>0.008823</td>\n",
       "      <td>0.026012</td>\n",
       "    </tr>\n",
       "    <tr>\n",
       "      <th>1.0</th>\n",
       "      <td>0.005</td>\n",
       "      <td>0.005</td>\n",
       "      <td>0.005</td>\n",
       "      <td>0.005233</td>\n",
       "      <td>0.018000</td>\n",
       "    </tr>\n",
       "    <tr>\n",
       "      <th rowspan=\"3\" valign=\"top\">0.05</th>\n",
       "      <th>0.1</th>\n",
       "      <td>0.000</td>\n",
       "      <td>0.000</td>\n",
       "      <td>0.000</td>\n",
       "      <td>0.000000</td>\n",
       "      <td>0.000000</td>\n",
       "    </tr>\n",
       "    <tr>\n",
       "      <th>0.5</th>\n",
       "      <td>0.008</td>\n",
       "      <td>0.008</td>\n",
       "      <td>0.008</td>\n",
       "      <td>0.008629</td>\n",
       "      <td>0.019944</td>\n",
       "    </tr>\n",
       "    <tr>\n",
       "      <th>1.0</th>\n",
       "      <td>0.009</td>\n",
       "      <td>0.009</td>\n",
       "      <td>0.009</td>\n",
       "      <td>0.009037</td>\n",
       "      <td>0.026929</td>\n",
       "    </tr>\n",
       "    <tr>\n",
       "      <th rowspan=\"3\" valign=\"top\">0.10</th>\n",
       "      <th>0.1</th>\n",
       "      <td>0.000</td>\n",
       "      <td>0.000</td>\n",
       "      <td>0.000</td>\n",
       "      <td>0.000000</td>\n",
       "      <td>0.000000</td>\n",
       "    </tr>\n",
       "    <tr>\n",
       "      <th>0.5</th>\n",
       "      <td>0.008</td>\n",
       "      <td>0.008</td>\n",
       "      <td>0.008</td>\n",
       "      <td>0.009286</td>\n",
       "      <td>0.021429</td>\n",
       "    </tr>\n",
       "    <tr>\n",
       "      <th>1.0</th>\n",
       "      <td>0.010</td>\n",
       "      <td>0.010</td>\n",
       "      <td>0.010</td>\n",
       "      <td>0.010719</td>\n",
       "      <td>0.031063</td>\n",
       "    </tr>\n",
       "  </tbody>\n",
       "</table>\n",
       "</div>"
      ],
      "text/plain": [
       "             hit_ratio  precision  recall      nDCG        RR\n",
       "30 0.01 0.1      0.001      0.001   0.001  0.000820  0.002000\n",
       "        0.5      0.006      0.006   0.006  0.006074  0.020095\n",
       "        1.0      0.010      0.010   0.010  0.010241  0.035262\n",
       "   0.05 0.1      0.001      0.001   0.001  0.000820  0.002000\n",
       "        0.5      0.006      0.006   0.006  0.006147  0.020357\n",
       "        1.0      0.010      0.010   0.010  0.010244  0.035278\n",
       "   0.10 0.1      0.001      0.001   0.001  0.000820  0.002000\n",
       "        0.5      0.006      0.006   0.006  0.006231  0.020690\n",
       "        1.0      0.012      0.012   0.012  0.011211  0.036583\n",
       "50 0.01 0.1      0.001      0.001   0.001  0.000820  0.002000\n",
       "        0.5      0.006      0.006   0.006  0.004180  0.009024\n",
       "        1.0      0.012      0.012   0.012  0.012651  0.039567\n",
       "   0.05 0.1      0.001      0.001   0.001  0.000820  0.002000\n",
       "        0.5      0.006      0.006   0.006  0.004297  0.009500\n",
       "        1.0      0.011      0.011   0.011  0.011322  0.037147\n",
       "   0.10 0.1      0.001      0.001   0.001  0.000820  0.002000\n",
       "        0.5      0.007      0.007   0.007  0.004895  0.009595\n",
       "        1.0      0.011      0.011   0.011  0.012424  0.040250\n",
       "70 0.01 0.1      0.000      0.000   0.000  0.000000  0.000000\n",
       "        0.5      0.007      0.007   0.007  0.008823  0.026012\n",
       "        1.0      0.005      0.005   0.005  0.005233  0.018000\n",
       "   0.05 0.1      0.000      0.000   0.000  0.000000  0.000000\n",
       "        0.5      0.008      0.008   0.008  0.008629  0.019944\n",
       "        1.0      0.009      0.009   0.009  0.009037  0.026929\n",
       "   0.10 0.1      0.000      0.000   0.000  0.000000  0.000000\n",
       "        0.5      0.008      0.008   0.008  0.009286  0.021429\n",
       "        1.0      0.010      0.010   0.010  0.010719  0.031063"
      ]
     },
     "execution_count": 29,
     "metadata": {},
     "output_type": "execute_result"
    }
   ],
   "source": [
    "# Set parameter range\n",
    "factors_range = [30, 50, 70]\n",
    "regularization_range = [0.01, 0.05, 0.1]\n",
    "alpha_range = [0.1, 0.5, 1]\n",
    "\n",
    "# Grid Search\n",
    "results_lmf_grid = {}\n",
    "for f in tqdm(factors_range):\n",
    "    for r in regularization_range:\n",
    "        for a in alpha_range:\n",
    "            lmf = implicit.lmf.LogisticMatrixFactorization(factors=f,\n",
    "                                                           regularization=r,\n",
    "                                                           learning_rate=a,\n",
    "                                                           random_state=26)\n",
    "            lmf.fit(user_items.tocsr())\n",
    "            user_recommendations_lmf = {}\n",
    "            for user_id, user_index in sample_filtered_users_id_dict.items():\n",
    "                recommendations = lmf.recommend(\n",
    "                    user_index, user_items[user_index], N=10)\n",
    "                user_recommendations_lmf[user_id] = df_user_items.columns[\n",
    "                    recommendations[0].tolist()\n",
    "                ].tolist()\n",
    "\n",
    "            metrics_lmf = calculate_metrics_als(holdout,\n",
    "                                                user_recommendations_lmf)\n",
    "            results_lmf_grid[(f, r, a)] = metrics_lmf.to_dict()\n",
    "\n",
    "pd.DataFrame(results_lmf_grid).T.map(lambda x: x['mean'])"
   ]
  },
  {
   "cell_type": "markdown",
   "id": "9d8ef0ca-1f1b-4e0c-97d0-a39103a94ac8",
   "metadata": {},
   "source": [
    "<b>Table 9.</b> Dataframe showing the results of each grid search iteration for **LMF**\n",
    "\n",
    "From **Table 9** we can see that from the results of the grid search that the best set of parameters for **LMF** would be `factors=50`, `regularization=0.1`, `learning_rate=1`, achieveing an nDCG of 0.012651."
   ]
  },
  {
   "cell_type": "code",
   "execution_count": 30,
   "id": "6392e6ae-0068-4a1a-bd78-e4fbc6c98465",
   "metadata": {
    "execution": {
     "iopub.execute_input": "2024-06-03T14:02:46.648704Z",
     "iopub.status.busy": "2024-06-03T14:02:46.648516Z",
     "iopub.status.idle": "2024-06-03T14:02:48.388493Z",
     "shell.execute_reply": "2024-06-03T14:02:48.388143Z",
     "shell.execute_reply.started": "2024-06-03T14:02:46.648692Z"
    }
   },
   "outputs": [
    {
     "data": {
      "application/vnd.jupyter.widget-view+json": {
       "model_id": "928cc4de05bc49e389affcc35a955810",
       "version_major": 2,
       "version_minor": 0
      },
      "text/plain": [
       "  0%|          | 0/30 [00:00<?, ?it/s]"
      ]
     },
     "metadata": {},
     "output_type": "display_data"
    }
   ],
   "source": [
    "# Fit best model\n",
    "lmf = implicit.lmf.LogisticMatrixFactorization(factors=50,\n",
    "                                               regularization=0.01,\n",
    "                                               learning_rate=1,\n",
    "                                               random_state=26)\n",
    "lmf.fit(user_items.tocsr())\n",
    "\n",
    "# Get Recommendations\n",
    "user_recommendations_lmf = {}\n",
    "for user_id, user_index in sample_filtered_users_id_dict.items():\n",
    "    recommendations = lmf.recommend(user_index, user_items[user_index],\n",
    "                                    N=10)\n",
    "    user_recommendations_lmf[user_id] = df_user_items.columns[\n",
    "        recommendations[0].tolist()\n",
    "    ].tolist()"
   ]
  },
  {
   "cell_type": "markdown",
   "id": "ee5c54f3-daa1-402d-8dc6-acef425180a9",
   "metadata": {},
   "source": [
    "### Bayesian Personalized Ranking"
   ]
  },
  {
   "cell_type": "markdown",
   "id": "c1ad9d4a-fbe2-4682-9db4-4d3c456cf99f",
   "metadata": {},
   "source": [
    "Bayesian Personalized Ranking (BPR) optimizes for ranking by directly modeling the relative order of user preferences, focusing on pairs of observed and unobserved interactions.   "
   ]
  },
  {
   "cell_type": "code",
   "execution_count": 31,
   "id": "b7af5739-f32e-4f54-9af9-7c2949473d23",
   "metadata": {
    "execution": {
     "iopub.execute_input": "2024-06-03T14:02:48.389396Z",
     "iopub.status.busy": "2024-06-03T14:02:48.389259Z",
     "iopub.status.idle": "2024-06-03T14:03:09.619455Z",
     "shell.execute_reply": "2024-06-03T14:03:09.619149Z",
     "shell.execute_reply.started": "2024-06-03T14:02:48.389385Z"
    }
   },
   "outputs": [
    {
     "name": "stderr",
     "output_type": "stream",
     "text": [
      "  0%|                                                     | 0/2 [00:00<?, ?it/s]"
     ]
    },
    {
     "data": {
      "application/vnd.jupyter.widget-view+json": {
       "model_id": "1c48d2e3e86041e88085b337ebdc45a3",
       "version_major": 2,
       "version_minor": 0
      },
      "text/plain": [
       "  0%|          | 0/100 [00:00<?, ?it/s]"
      ]
     },
     "metadata": {},
     "output_type": "display_data"
    },
    {
     "data": {
      "application/vnd.jupyter.widget-view+json": {
       "model_id": "25f5483c414e45f4a929ace31dc2622b",
       "version_major": 2,
       "version_minor": 0
      },
      "text/plain": [
       "  0%|          | 0/100 [00:00<?, ?it/s]"
      ]
     },
     "metadata": {},
     "output_type": "display_data"
    },
    {
     "data": {
      "application/vnd.jupyter.widget-view+json": {
       "model_id": "8ff783b994a94de399260217eb0a9242",
       "version_major": 2,
       "version_minor": 0
      },
      "text/plain": [
       "  0%|          | 0/100 [00:00<?, ?it/s]"
      ]
     },
     "metadata": {},
     "output_type": "display_data"
    },
    {
     "name": "stderr",
     "output_type": "stream",
     "text": [
      " 50%|██████████████████████▌                      | 1/2 [00:08<00:08,  8.90s/it]"
     ]
    },
    {
     "data": {
      "application/vnd.jupyter.widget-view+json": {
       "model_id": "8bc0e45f2c584928a1689b57d7586e7a",
       "version_major": 2,
       "version_minor": 0
      },
      "text/plain": [
       "  0%|          | 0/100 [00:00<?, ?it/s]"
      ]
     },
     "metadata": {},
     "output_type": "display_data"
    },
    {
     "data": {
      "application/vnd.jupyter.widget-view+json": {
       "model_id": "e2b984cca865495cb844d4b3db7e8741",
       "version_major": 2,
       "version_minor": 0
      },
      "text/plain": [
       "  0%|          | 0/100 [00:00<?, ?it/s]"
      ]
     },
     "metadata": {},
     "output_type": "display_data"
    },
    {
     "data": {
      "application/vnd.jupyter.widget-view+json": {
       "model_id": "f2cffd95496d4210b6282cebb4d74fa9",
       "version_major": 2,
       "version_minor": 0
      },
      "text/plain": [
       "  0%|          | 0/100 [00:00<?, ?it/s]"
      ]
     },
     "metadata": {},
     "output_type": "display_data"
    },
    {
     "name": "stderr",
     "output_type": "stream",
     "text": [
      "100%|█████████████████████████████████████████████| 2/2 [00:21<00:00, 10.61s/it]\n"
     ]
    },
    {
     "data": {
      "text/html": [
       "<div>\n",
       "<style scoped>\n",
       "    .dataframe tbody tr th:only-of-type {\n",
       "        vertical-align: middle;\n",
       "    }\n",
       "\n",
       "    .dataframe tbody tr th {\n",
       "        vertical-align: top;\n",
       "    }\n",
       "\n",
       "    .dataframe thead th {\n",
       "        text-align: right;\n",
       "    }\n",
       "</style>\n",
       "<table border=\"1\" class=\"dataframe\">\n",
       "  <thead>\n",
       "    <tr style=\"text-align: right;\">\n",
       "      <th></th>\n",
       "      <th></th>\n",
       "      <th></th>\n",
       "      <th>hit_ratio</th>\n",
       "      <th>precision</th>\n",
       "      <th>recall</th>\n",
       "      <th>nDCG</th>\n",
       "      <th>RR</th>\n",
       "    </tr>\n",
       "  </thead>\n",
       "  <tbody>\n",
       "    <tr>\n",
       "      <th rowspan=\"3\" valign=\"top\">10</th>\n",
       "      <th>0.01</th>\n",
       "      <th>0.01</th>\n",
       "      <td>0.009</td>\n",
       "      <td>0.009</td>\n",
       "      <td>0.009</td>\n",
       "      <td>0.011865</td>\n",
       "      <td>0.035206</td>\n",
       "    </tr>\n",
       "    <tr>\n",
       "      <th>0.03</th>\n",
       "      <th>0.01</th>\n",
       "      <td>0.006</td>\n",
       "      <td>0.006</td>\n",
       "      <td>0.006</td>\n",
       "      <td>0.007758</td>\n",
       "      <td>0.024345</td>\n",
       "    </tr>\n",
       "    <tr>\n",
       "      <th>0.05</th>\n",
       "      <th>0.01</th>\n",
       "      <td>0.008</td>\n",
       "      <td>0.008</td>\n",
       "      <td>0.008</td>\n",
       "      <td>0.009803</td>\n",
       "      <td>0.029778</td>\n",
       "    </tr>\n",
       "    <tr>\n",
       "      <th rowspan=\"3\" valign=\"top\">50</th>\n",
       "      <th>0.01</th>\n",
       "      <th>0.01</th>\n",
       "      <td>0.017</td>\n",
       "      <td>0.017</td>\n",
       "      <td>0.017</td>\n",
       "      <td>0.020957</td>\n",
       "      <td>0.065095</td>\n",
       "    </tr>\n",
       "    <tr>\n",
       "      <th>0.03</th>\n",
       "      <th>0.01</th>\n",
       "      <td>0.011</td>\n",
       "      <td>0.011</td>\n",
       "      <td>0.011</td>\n",
       "      <td>0.011364</td>\n",
       "      <td>0.037250</td>\n",
       "    </tr>\n",
       "    <tr>\n",
       "      <th>0.05</th>\n",
       "      <th>0.01</th>\n",
       "      <td>0.007</td>\n",
       "      <td>0.007</td>\n",
       "      <td>0.007</td>\n",
       "      <td>0.011317</td>\n",
       "      <td>0.039444</td>\n",
       "    </tr>\n",
       "  </tbody>\n",
       "</table>\n",
       "</div>"
      ],
      "text/plain": [
       "              hit_ratio  precision  recall      nDCG        RR\n",
       "10 0.01 0.01      0.009      0.009   0.009  0.011865  0.035206\n",
       "   0.03 0.01      0.006      0.006   0.006  0.007758  0.024345\n",
       "   0.05 0.01      0.008      0.008   0.008  0.009803  0.029778\n",
       "50 0.01 0.01      0.017      0.017   0.017  0.020957  0.065095\n",
       "   0.03 0.01      0.011      0.011   0.011  0.011364  0.037250\n",
       "   0.05 0.01      0.007      0.007   0.007  0.011317  0.039444"
      ]
     },
     "execution_count": 31,
     "metadata": {},
     "output_type": "execute_result"
    }
   ],
   "source": [
    "# Set Parameter Range\n",
    "factors_range = [10, 50]\n",
    "regularization_range = [0.01, 0.03, 0.05]\n",
    "alpha_range = [0.01]\n",
    "\n",
    "# Grid Search\n",
    "results_bpr_grid = {}\n",
    "for f in tqdm(factors_range):\n",
    "    for r in regularization_range:\n",
    "        for a in alpha_range:\n",
    "            bpr = implicit.bpr.BayesianPersonalizedRanking(factors=f,\n",
    "                                                           regularization=r,\n",
    "                                                           learning_rate=a,\n",
    "                                                           random_state=26)\n",
    "            bpr.fit(user_items.tocsr())\n",
    "            user_recommendations_bpr = {}\n",
    "            for user_id, user_index in sample_filtered_users_id_dict.items():\n",
    "                recommendations = bpr.recommend(user_index,\n",
    "                                                user_items[user_index],\n",
    "                                                N=10)\n",
    "                user_recommendations_bpr[user_id] = (df_user_items\n",
    "                                                     .columns\n",
    "                                                     [recommendations[0]\n",
    "                                                     .tolist()]\n",
    "                                                     .tolist()\n",
    "                                                    )\n",
    "\n",
    "            metrics_bpr=calculate_metrics_als(holdout,\n",
    "                                                user_recommendations_bpr)\n",
    "            results_bpr_grid[(f, r, a)]=metrics_bpr.to_dict()\n",
    "\n",
    "pd.DataFrame(results_bpr_grid).T.map(lambda x:x['mean'])"
   ]
  },
  {
   "cell_type": "markdown",
   "id": "d5ad0b78-f878-4921-984e-755ab1e808b7",
   "metadata": {},
   "source": [
    "<b>Table 10.</b> Dataframe showing the results of each grid search iteration for **BPR**\n",
    "\n",
    "From **Table 10** we can see that from the results of the grid search that the best set of parameters for **BPR** would be `factors=50`, `regularization=0.1`, `learning_rate=0.01`, achieveing an nDCG of 0.020957."
   ]
  },
  {
   "cell_type": "code",
   "execution_count": 32,
   "id": "011ed7fd-bd23-47c8-87d5-e4164517d7b4",
   "metadata": {
    "execution": {
     "iopub.execute_input": "2024-06-03T14:03:09.620169Z",
     "iopub.status.busy": "2024-06-03T14:03:09.619961Z",
     "iopub.status.idle": "2024-06-03T14:03:13.721756Z",
     "shell.execute_reply": "2024-06-03T14:03:13.721404Z",
     "shell.execute_reply.started": "2024-06-03T14:03:09.620158Z"
    }
   },
   "outputs": [
    {
     "data": {
      "application/vnd.jupyter.widget-view+json": {
       "model_id": "cf8c812d61684fbe8ed899772088412e",
       "version_major": 2,
       "version_minor": 0
      },
      "text/plain": [
       "  0%|          | 0/100 [00:00<?, ?it/s]"
      ]
     },
     "metadata": {},
     "output_type": "display_data"
    }
   ],
   "source": [
    "# Fit best model\n",
    "bpr = implicit.bpr.BayesianPersonalizedRanking(factors=50,\n",
    "                                               regularization=0.01,\n",
    "                                               learning_rate=0.01,\n",
    "                                               random_state=26)\n",
    "bpr.fit(user_items.tocsr())\n",
    "\n",
    "# Get Recommendations\n",
    "user_recommendations_bpr = {}\n",
    "for user_id, user_index in sample_filtered_users_id_dict.items():\n",
    "    recommendations = bpr.recommend(user_index, user_items[user_index],\n",
    "                                    N=10)\n",
    "    user_recommendations_bpr[user_id] = df_user_items.columns[\n",
    "        recommendations[0].tolist()\n",
    "    ].tolist()"
   ]
  },
  {
   "cell_type": "markdown",
   "id": "5111d70f-a407-4ec4-8371-bebbebe36714",
   "metadata": {},
   "source": [
    "# Metrics "
   ]
  },
  {
   "cell_type": "markdown",
   "id": "970e1d10-a6b0-492c-ab2d-06f8449c7a74",
   "metadata": {},
   "source": [
    "The metrics used are Precision, Recall, NDCG and Reciprocal Rank. \n",
    "\n",
    "Precision measures the proportion of relevant items among the retrieved items.\n",
    "Recall quantifies the proportion of relevant items that have been retrieved out of all relevant items available.\n",
    "NDCG (Normalized Discounted Cumulative Gain) evaluates the relevance of retrieved items, considering the position of each item in the result list.\n",
    "Reciprocal Rank is the inverse of the rank of the first relevant item in the retrieved list, highlighting the position of the first relevant result.\n",
    "\n",
    "However, in the end, we just based our based model on the highest NDCG. \n"
   ]
  },
  {
   "cell_type": "code",
   "execution_count": 33,
   "id": "8be40297-13eb-45e0-af16-a733c889622c",
   "metadata": {
    "execution": {
     "iopub.execute_input": "2024-06-03T14:03:13.722509Z",
     "iopub.status.busy": "2024-06-03T14:03:13.722298Z",
     "iopub.status.idle": "2024-06-03T14:03:13.737499Z",
     "shell.execute_reply": "2024-06-03T14:03:13.737178Z",
     "shell.execute_reply.started": "2024-06-03T14:03:13.722497Z"
    }
   },
   "outputs": [],
   "source": [
    "# Calculate metrics for each set of recommendations\n",
    "metrics_als = calculate_metrics(holdout, user_recommendations_als)\n",
    "metrics_alstfidf = calculate_metrics(holdout, user_recommendations_alstfidf)\n",
    "metrics_lmf = calculate_metrics(holdout, user_recommendations_lmf)\n",
    "metrics_bpr = calculate_metrics(holdout, user_recommendations_bpr)\n",
    "# metrics_pop = calculate_metrics(holdout, user_recommendations_pop)\n",
    "\n",
    "# Combine metrics into a single DataFrame for comparison\n",
    "combined_metrics = pd.concat(\n",
    "    [metrics_pop, metrics_rec, metrics_als, metrics_alstfidf, metrics_lmf, metrics_bpr],\n",
    "    keys=[\"POP\",\"REC\", \"ALS\", \"ALS TF-IDF\", \"LMF\", \"BPR\"],\n",
    ")"
   ]
  },
  {
   "cell_type": "code",
   "execution_count": 34,
   "id": "90c9ed91-ff91-4ba2-a2df-615b0fe06663",
   "metadata": {
    "execution": {
     "iopub.execute_input": "2024-06-03T14:03:13.738289Z",
     "iopub.status.busy": "2024-06-03T14:03:13.737993Z",
     "iopub.status.idle": "2024-06-03T14:03:13.746195Z",
     "shell.execute_reply": "2024-06-03T14:03:13.745893Z",
     "shell.execute_reply.started": "2024-06-03T14:03:13.738276Z"
    }
   },
   "outputs": [
    {
     "data": {
      "text/html": [
       "<div>\n",
       "<style scoped>\n",
       "    .dataframe tbody tr th:only-of-type {\n",
       "        vertical-align: middle;\n",
       "    }\n",
       "\n",
       "    .dataframe tbody tr th {\n",
       "        vertical-align: top;\n",
       "    }\n",
       "\n",
       "    .dataframe thead th {\n",
       "        text-align: right;\n",
       "    }\n",
       "</style>\n",
       "<table border=\"1\" class=\"dataframe\">\n",
       "  <thead>\n",
       "    <tr style=\"text-align: right;\">\n",
       "      <th></th>\n",
       "      <th>hit_ratio</th>\n",
       "      <th>precision</th>\n",
       "      <th>recall</th>\n",
       "      <th>nDCG</th>\n",
       "      <th>RR</th>\n",
       "    </tr>\n",
       "    <tr>\n",
       "      <th>level_0</th>\n",
       "      <th></th>\n",
       "      <th></th>\n",
       "      <th></th>\n",
       "      <th></th>\n",
       "      <th></th>\n",
       "    </tr>\n",
       "  </thead>\n",
       "  <tbody>\n",
       "    <tr>\n",
       "      <th>ALS</th>\n",
       "      <td>0.047</td>\n",
       "      <td>0.047</td>\n",
       "      <td>0.047</td>\n",
       "      <td>0.057548</td>\n",
       "      <td>0.170869</td>\n",
       "    </tr>\n",
       "    <tr>\n",
       "      <th>ALS TF-IDF</th>\n",
       "      <td>0.050</td>\n",
       "      <td>0.050</td>\n",
       "      <td>0.050</td>\n",
       "      <td>0.056528</td>\n",
       "      <td>0.147389</td>\n",
       "    </tr>\n",
       "    <tr>\n",
       "      <th>POP</th>\n",
       "      <td>0.034</td>\n",
       "      <td>0.034</td>\n",
       "      <td>0.034</td>\n",
       "      <td>0.035046</td>\n",
       "      <td>0.105393</td>\n",
       "    </tr>\n",
       "    <tr>\n",
       "      <th>BPR</th>\n",
       "      <td>0.017</td>\n",
       "      <td>0.017</td>\n",
       "      <td>0.017</td>\n",
       "      <td>0.020659</td>\n",
       "      <td>0.069456</td>\n",
       "    </tr>\n",
       "    <tr>\n",
       "      <th>LMF</th>\n",
       "      <td>0.012</td>\n",
       "      <td>0.012</td>\n",
       "      <td>0.012</td>\n",
       "      <td>0.012651</td>\n",
       "      <td>0.039567</td>\n",
       "    </tr>\n",
       "    <tr>\n",
       "      <th>REC</th>\n",
       "      <td>0.003</td>\n",
       "      <td>0.003</td>\n",
       "      <td>0.003</td>\n",
       "      <td>0.003138</td>\n",
       "      <td>0.008333</td>\n",
       "    </tr>\n",
       "  </tbody>\n",
       "</table>\n",
       "</div>"
      ],
      "text/plain": [
       "            hit_ratio  precision  recall      nDCG        RR\n",
       "level_0                                                     \n",
       "ALS             0.047      0.047   0.047  0.057548  0.170869\n",
       "ALS TF-IDF      0.050      0.050   0.050  0.056528  0.147389\n",
       "POP             0.034      0.034   0.034  0.035046  0.105393\n",
       "BPR             0.017      0.017   0.017  0.020659  0.069456\n",
       "LMF             0.012      0.012   0.012  0.012651  0.039567\n",
       "REC             0.003      0.003   0.003  0.003138  0.008333"
      ]
     },
     "execution_count": 34,
     "metadata": {},
     "output_type": "execute_result"
    }
   ],
   "source": [
    "(combined_metrics\n",
    " .reset_index(0)\n",
    " .drop(columns='user')\n",
    " .groupby('level_0')\n",
    " .mean()\n",
    " .sort_values('nDCG', ascending=False)\n",
    ")"
   ]
  },
  {
   "cell_type": "markdown",
   "id": "db242a8e-4433-4a0a-a80a-4d4c6e16aca6",
   "metadata": {},
   "source": [
    "<b>Table 11.</b> Dataframe showing mean metrics for each recomendation system.\n",
    "\n",
    "From the 4 recommendation sytems we trained, the Alternating Least Squares Model emerged as the best model with mean nDCG of 0.057548. We will be using this algorithm to generate the recommendations."
   ]
  },
  {
   "cell_type": "markdown",
   "id": "3082fe79-a7a4-40ad-bf7a-abb6f06b9bfe",
   "metadata": {},
   "source": [
    "<div class=\"custom-header\">\n",
    "    <h1 class=\"small-caps\"><a name='results'>Results and Discussion</a></h1>\n",
    "</div>"
   ]
  },
  {
   "cell_type": "markdown",
   "id": "91c7051e-90bf-409f-b69f-2f4992a6bf2b",
   "metadata": {},
   "source": [
    "### Algorithm Performance"
   ]
  },
  {
   "cell_type": "markdown",
   "id": "620d4657-e468-4f58-ad5b-0a6850bb878a",
   "metadata": {},
   "source": [
    "|  Recommender   | factors     | alpha      | regularization     | Precision      |  Recall       | NDCG @ 10     |  RR           |\n",
    "|:--------------:|:-----------:|:----------:|:------------------:|:--------------:|:-------------:|:-------------:|:-------------:|\n",
    "| Recency        |    -        |    -       |        -           |    0.003       |    0.003      |    0.003      |    0.008      |\n",
    "| Popularity     |    -        |    -       |        -           |    0.034       |    0.034      |    0.035      |    0.105      |\n",
    "| **ALS**        |    **30**   |  **0.05**  |       **0.1**      |    **0.047**   |    **0.047**  |    **0.058**  |    **0.170**  | \n",
    "| ALS-TIFDF      |    30       |  0.05      |       0.1          |    0.050       |    0.050      |    0.057      |    0.147      | \n",
    "| LMF            |    50       |  0.1       |       1            |    0.012       |    0.012      |    0.013      |    0.040      | \n",
    "| BPR            |    50       |  0.1       |       0.01         |    0.017       |    0.017      |    0.021      |    0.069      | \n",
    "<center><b>Table 12.</b> Table showing the performance of the recommendation systems and the baseline.</center>"
   ]
  },
  {
   "cell_type": "markdown",
   "id": "69b03842-9a2d-4218-96a5-7977c3854992",
   "metadata": {},
   "source": [
    "Looking at the results of the trained models, ALS performed the best having an NDCG@10 of 0.058.  It might seem that the numbers are way too low, but again remember, that this is a basic implicit recommender system and the model’s only context is a user’s click of the mouse without the proper distinction between positives and negatives.  \n",
    "\n",
    "We see that despite the relatively low scores, the trained recommendation systems were able to beat both baseline performances, Recency and Popularity. This signifies that our recommendation system would provide better value for the online news platform. This can result to increased user experience and the benefits that come with it.\n"
   ]
  },
  {
   "cell_type": "markdown",
   "id": "bca1446c-3aa0-48eb-aa39-e1543d0dba80",
   "metadata": {},
   "source": [
    "### Making Recommendations"
   ]
  },
  {
   "cell_type": "markdown",
   "id": "94e10dea-fd4e-4ac6-ad5c-f0937783fc36",
   "metadata": {},
   "source": [
    "To test the efficacy of our recommendation, we take one user and check if the recommendations makes sense based on the user's read history. For this case we take a look at users `U25332` and `U48708`."
   ]
  },
  {
   "cell_type": "markdown",
   "id": "3df25c51-bde0-4010-912c-e7cf5d2572ea",
   "metadata": {},
   "source": [
    "#### USER 25332"
   ]
  },
  {
   "cell_type": "code",
   "execution_count": 36,
   "id": "19144db1-dba2-4380-8778-d96687f392fe",
   "metadata": {
    "execution": {
     "iopub.execute_input": "2024-06-03T14:03:13.750036Z",
     "iopub.status.busy": "2024-06-03T14:03:13.749926Z",
     "iopub.status.idle": "2024-06-03T14:03:13.794202Z",
     "shell.execute_reply": "2024-06-03T14:03:13.793780Z",
     "shell.execute_reply.started": "2024-06-03T14:03:13.750025Z"
    }
   },
   "outputs": [
    {
     "data": {
      "text/html": [
       "<div>\n",
       "<style scoped>\n",
       "    .dataframe tbody tr th:only-of-type {\n",
       "        vertical-align: middle;\n",
       "    }\n",
       "\n",
       "    .dataframe tbody tr th {\n",
       "        vertical-align: top;\n",
       "    }\n",
       "\n",
       "    .dataframe thead th {\n",
       "        text-align: right;\n",
       "    }\n",
       "</style>\n",
       "<table border=\"1\" class=\"dataframe\">\n",
       "  <thead>\n",
       "    <tr style=\"text-align: right;\">\n",
       "      <th></th>\n",
       "      <th>Category</th>\n",
       "      <th>SubCategory</th>\n",
       "      <th>Title</th>\n",
       "    </tr>\n",
       "  </thead>\n",
       "  <tbody>\n",
       "    <tr>\n",
       "      <th>7390</th>\n",
       "      <td>lifestyle</td>\n",
       "      <td>lifestylebuzz</td>\n",
       "      <td>A heartbreaking photo of a dog riding a bus al...</td>\n",
       "    </tr>\n",
       "    <tr>\n",
       "      <th>18998</th>\n",
       "      <td>sports</td>\n",
       "      <td>football_ncaa</td>\n",
       "      <td>Jim Harbaugh gets crushed for baffling 58-yard...</td>\n",
       "    </tr>\n",
       "    <tr>\n",
       "      <th>19211</th>\n",
       "      <td>tv</td>\n",
       "      <td>tv-celebrity</td>\n",
       "      <td>John Stamos accidentally 'likes' Lori Loughlin...</td>\n",
       "    </tr>\n",
       "    <tr>\n",
       "      <th>19460</th>\n",
       "      <td>lifestyle</td>\n",
       "      <td>lifestylebuzz</td>\n",
       "      <td>Family wins Halloween with Fyre Festival-theme...</td>\n",
       "    </tr>\n",
       "    <tr>\n",
       "      <th>21031</th>\n",
       "      <td>tv</td>\n",
       "      <td>tvnews</td>\n",
       "      <td>'The Crown' Season 3 Trailer Teases Rivalry Be...</td>\n",
       "    </tr>\n",
       "    <tr>\n",
       "      <th>21606</th>\n",
       "      <td>tv</td>\n",
       "      <td>tvnews</td>\n",
       "      <td>Viral Wheel of Fortune Contestant and His Wife...</td>\n",
       "    </tr>\n",
       "    <tr>\n",
       "      <th>24704</th>\n",
       "      <td>tv</td>\n",
       "      <td>tvnews</td>\n",
       "      <td>The Marvelous Mrs. Maisel hits the long, bumpy...</td>\n",
       "    </tr>\n",
       "    <tr>\n",
       "      <th>26161</th>\n",
       "      <td>tv</td>\n",
       "      <td>tv-celebrity</td>\n",
       "      <td>Brody Jenner and Josie Canseco just split: Fin...</td>\n",
       "    </tr>\n",
       "    <tr>\n",
       "      <th>28727</th>\n",
       "      <td>news</td>\n",
       "      <td>newsworld</td>\n",
       "      <td>Trump's 'bombshell' offer to family of British...</td>\n",
       "    </tr>\n",
       "    <tr>\n",
       "      <th>30117</th>\n",
       "      <td>lifestyle</td>\n",
       "      <td>lifestylebuzz</td>\n",
       "      <td>A couple's attempt to re-create a picture-perf...</td>\n",
       "    </tr>\n",
       "  </tbody>\n",
       "</table>\n",
       "</div>"
      ],
      "text/plain": [
       "        Category    SubCategory  \\\n",
       "7390   lifestyle  lifestylebuzz   \n",
       "18998     sports  football_ncaa   \n",
       "19211         tv   tv-celebrity   \n",
       "19460  lifestyle  lifestylebuzz   \n",
       "21031         tv         tvnews   \n",
       "21606         tv         tvnews   \n",
       "24704         tv         tvnews   \n",
       "26161         tv   tv-celebrity   \n",
       "28727       news      newsworld   \n",
       "30117  lifestyle  lifestylebuzz   \n",
       "\n",
       "                                                   Title  \n",
       "7390   A heartbreaking photo of a dog riding a bus al...  \n",
       "18998  Jim Harbaugh gets crushed for baffling 58-yard...  \n",
       "19211  John Stamos accidentally 'likes' Lori Loughlin...  \n",
       "19460  Family wins Halloween with Fyre Festival-theme...  \n",
       "21031  'The Crown' Season 3 Trailer Teases Rivalry Be...  \n",
       "21606  Viral Wheel of Fortune Contestant and His Wife...  \n",
       "24704  The Marvelous Mrs. Maisel hits the long, bumpy...  \n",
       "26161  Brody Jenner and Josie Canseco just split: Fin...  \n",
       "28727  Trump's 'bombshell' offer to family of British...  \n",
       "30117  A couple's attempt to re-create a picture-perf...  "
      ]
     },
     "execution_count": 36,
     "metadata": {},
     "output_type": "execute_result"
    }
   ],
   "source": [
    "get_read_news('U25332')"
   ]
  },
  {
   "cell_type": "markdown",
   "id": "4df022fc-05ee-41ba-ad48-b802a1d45835",
   "metadata": {},
   "source": [
    "<b>Table 13.</b> Dataframe showing a portion of User `U25332`'s reading history\n",
    "\n",
    "We can generalize from **Table 13** that the user is mostly interested in lifestyle and celebrity news. We can sort of see a Showbiz Seeker persona for this user."
   ]
  },
  {
   "cell_type": "code",
   "execution_count": 37,
   "id": "8906c178-34eb-494d-a449-2f9ae61a911e",
   "metadata": {
    "execution": {
     "iopub.execute_input": "2024-06-03T14:03:13.794859Z",
     "iopub.status.busy": "2024-06-03T14:03:13.794697Z",
     "iopub.status.idle": "2024-06-03T14:03:13.802859Z",
     "shell.execute_reply": "2024-06-03T14:03:13.802555Z",
     "shell.execute_reply.started": "2024-06-03T14:03:13.794845Z"
    },
    "scrolled": true
   },
   "outputs": [
    {
     "data": {
      "text/html": [
       "<div>\n",
       "<style scoped>\n",
       "    .dataframe tbody tr th:only-of-type {\n",
       "        vertical-align: middle;\n",
       "    }\n",
       "\n",
       "    .dataframe tbody tr th {\n",
       "        vertical-align: top;\n",
       "    }\n",
       "\n",
       "    .dataframe thead th {\n",
       "        text-align: right;\n",
       "    }\n",
       "</style>\n",
       "<table border=\"1\" class=\"dataframe\">\n",
       "  <thead>\n",
       "    <tr style=\"text-align: right;\">\n",
       "      <th></th>\n",
       "      <th>Category</th>\n",
       "      <th>SubCategory</th>\n",
       "      <th>Title</th>\n",
       "    </tr>\n",
       "  </thead>\n",
       "  <tbody>\n",
       "    <tr>\n",
       "      <th>1609</th>\n",
       "      <td>tv</td>\n",
       "      <td>tv-celebrity</td>\n",
       "      <td>Lori Loughlin Is 'Absolutely Terrified' After ...</td>\n",
       "    </tr>\n",
       "    <tr>\n",
       "      <th>2087</th>\n",
       "      <td>lifestyle</td>\n",
       "      <td>lifestyleroyals</td>\n",
       "      <td>Prince Harry acknowledges tensions with Willia...</td>\n",
       "    </tr>\n",
       "    <tr>\n",
       "      <th>2566</th>\n",
       "      <td>health</td>\n",
       "      <td>medical</td>\n",
       "      <td>Subtle Signs You May Have Clogged Arteries</td>\n",
       "    </tr>\n",
       "    <tr>\n",
       "      <th>8963</th>\n",
       "      <td>lifestyle</td>\n",
       "      <td>lifestylebuzz</td>\n",
       "      <td>Strange Dog Shows Up On Woman's Lawn   And See...</td>\n",
       "    </tr>\n",
       "    <tr>\n",
       "      <th>9930</th>\n",
       "      <td>lifestyle</td>\n",
       "      <td>lifestyleroyals</td>\n",
       "      <td>Duchess Meghan Describes 'Really Challenging' ...</td>\n",
       "    </tr>\n",
       "    <tr>\n",
       "      <th>11138</th>\n",
       "      <td>news</td>\n",
       "      <td>newsus</td>\n",
       "      <td>Felicity Huffman Is Scheduled to Be Released f...</td>\n",
       "    </tr>\n",
       "    <tr>\n",
       "      <th>12283</th>\n",
       "      <td>lifestyle</td>\n",
       "      <td>lifestylebuzz</td>\n",
       "      <td>Divers Find Giant Mysterious 'Egg' Floating In...</td>\n",
       "    </tr>\n",
       "    <tr>\n",
       "      <th>23089</th>\n",
       "      <td>tv</td>\n",
       "      <td>tv-celebrity</td>\n",
       "      <td>'Rich Kids' Stars Morgan Stewart and Brendan F...</td>\n",
       "    </tr>\n",
       "    <tr>\n",
       "      <th>24357</th>\n",
       "      <td>entertainment</td>\n",
       "      <td>entertainment-celebrity</td>\n",
       "      <td>Celebs celebrate Halloween 2019</td>\n",
       "    </tr>\n",
       "    <tr>\n",
       "      <th>24779</th>\n",
       "      <td>tv</td>\n",
       "      <td>tv-celebrity</td>\n",
       "      <td>Kelly Ripa Jokes Son Michael Is Experiencing '...</td>\n",
       "    </tr>\n",
       "  </tbody>\n",
       "</table>\n",
       "</div>"
      ],
      "text/plain": [
       "            Category              SubCategory  \\\n",
       "1609              tv             tv-celebrity   \n",
       "2087       lifestyle          lifestyleroyals   \n",
       "2566          health                  medical   \n",
       "8963       lifestyle            lifestylebuzz   \n",
       "9930       lifestyle          lifestyleroyals   \n",
       "11138           news                   newsus   \n",
       "12283      lifestyle            lifestylebuzz   \n",
       "23089             tv             tv-celebrity   \n",
       "24357  entertainment  entertainment-celebrity   \n",
       "24779             tv             tv-celebrity   \n",
       "\n",
       "                                                   Title  \n",
       "1609   Lori Loughlin Is 'Absolutely Terrified' After ...  \n",
       "2087   Prince Harry acknowledges tensions with Willia...  \n",
       "2566          Subtle Signs You May Have Clogged Arteries  \n",
       "8963   Strange Dog Shows Up On Woman's Lawn   And See...  \n",
       "9930   Duchess Meghan Describes 'Really Challenging' ...  \n",
       "11138  Felicity Huffman Is Scheduled to Be Released f...  \n",
       "12283  Divers Find Giant Mysterious 'Egg' Floating In...  \n",
       "23089  'Rich Kids' Stars Morgan Stewart and Brendan F...  \n",
       "24357                    Celebs celebrate Halloween 2019  \n",
       "24779  Kelly Ripa Jokes Son Michael Is Experiencing '...  "
      ]
     },
     "execution_count": 37,
     "metadata": {},
     "output_type": "execute_result"
    }
   ],
   "source": [
    "get_reco_news('U25332')"
   ]
  },
  {
   "cell_type": "markdown",
   "id": "3925234e-fb64-4f45-bb3e-e1cbe24676fb",
   "metadata": {},
   "source": [
    "**Table 14.** Dataframe showing the top 10 recommendations for User `U25332`  \n",
    "\n",
    "The resulting recommendations shown in **Table 14** seems logical considering that the user usually reads celebrity and lifestyle news."
   ]
  },
  {
   "cell_type": "markdown",
   "id": "1a1ff42f-a82d-4e9e-a61c-2cb38ec4909e",
   "metadata": {},
   "source": [
    "<div style=\"text-align:center;\">\n",
    "    <img src=\"reco1.png\" alt=\"Recommendation for User 25332\">\n",
    "</div>\n",
    "<br>\n",
    "<center><b>Figure 8. </b>Sample Recommendation Output for User `U25332`</center>"
   ]
  },
  {
   "cell_type": "markdown",
   "id": "9877ebc1-ec03-4504-b099-cd142e4936bf",
   "metadata": {},
   "source": [
    "**Figure 8** shows how the recommendations for User U25332 would look like."
   ]
  },
  {
   "cell_type": "markdown",
   "id": "8b911861-cc39-42c7-8a75-83e98d7d29f5",
   "metadata": {},
   "source": [
    "#### USER 48708"
   ]
  },
  {
   "cell_type": "code",
   "execution_count": 40,
   "id": "2e969436-a1c7-4e55-b29e-79e64ec80bd0",
   "metadata": {
    "execution": {
     "iopub.execute_input": "2024-06-03T14:03:13.844528Z",
     "iopub.status.busy": "2024-06-03T14:03:13.844243Z",
     "iopub.status.idle": "2024-06-03T14:03:13.866167Z",
     "shell.execute_reply": "2024-06-03T14:03:13.865884Z",
     "shell.execute_reply.started": "2024-06-03T14:03:13.844516Z"
    }
   },
   "outputs": [
    {
     "data": {
      "text/html": [
       "<div>\n",
       "<style scoped>\n",
       "    .dataframe tbody tr th:only-of-type {\n",
       "        vertical-align: middle;\n",
       "    }\n",
       "\n",
       "    .dataframe tbody tr th {\n",
       "        vertical-align: top;\n",
       "    }\n",
       "\n",
       "    .dataframe thead th {\n",
       "        text-align: right;\n",
       "    }\n",
       "</style>\n",
       "<table border=\"1\" class=\"dataframe\">\n",
       "  <thead>\n",
       "    <tr style=\"text-align: right;\">\n",
       "      <th></th>\n",
       "      <th>Category</th>\n",
       "      <th>SubCategory</th>\n",
       "      <th>Title</th>\n",
       "    </tr>\n",
       "  </thead>\n",
       "  <tbody>\n",
       "    <tr>\n",
       "      <th>1606</th>\n",
       "      <td>news</td>\n",
       "      <td>newspolitics</td>\n",
       "      <td>Trump Allies Craft List of Potential Mulvaney ...</td>\n",
       "    </tr>\n",
       "    <tr>\n",
       "      <th>4409</th>\n",
       "      <td>news</td>\n",
       "      <td>newsworld</td>\n",
       "      <td>Trump says he thought family of UK teen wanted...</td>\n",
       "    </tr>\n",
       "    <tr>\n",
       "      <th>4962</th>\n",
       "      <td>lifestyle</td>\n",
       "      <td>lifestylebuzz</td>\n",
       "      <td>Zimbabwe sent 30 baby elephants to China, says...</td>\n",
       "    </tr>\n",
       "    <tr>\n",
       "      <th>14605</th>\n",
       "      <td>news</td>\n",
       "      <td>newspolitics</td>\n",
       "      <td>Biden expands edge in U.S. Democratic nominati...</td>\n",
       "    </tr>\n",
       "    <tr>\n",
       "      <th>21518</th>\n",
       "      <td>news</td>\n",
       "      <td>newspolitics</td>\n",
       "      <td>Nunes Aide Is Leaking the Ukraine Whistleblowe...</td>\n",
       "    </tr>\n",
       "    <tr>\n",
       "      <th>22642</th>\n",
       "      <td>tv</td>\n",
       "      <td>tvnews</td>\n",
       "      <td>Young and the Restless Star William Wintersole...</td>\n",
       "    </tr>\n",
       "    <tr>\n",
       "      <th>22821</th>\n",
       "      <td>news</td>\n",
       "      <td>newsworldpolitics</td>\n",
       "      <td>Rep. Katie Hill's lawyers send cease-and-desis...</td>\n",
       "    </tr>\n",
       "    <tr>\n",
       "      <th>29645</th>\n",
       "      <td>news</td>\n",
       "      <td>newsworld</td>\n",
       "      <td>Trump's Syria Troop Withdrawal Complicated Pla...</td>\n",
       "    </tr>\n",
       "    <tr>\n",
       "      <th>30142</th>\n",
       "      <td>news</td>\n",
       "      <td>newspolitics</td>\n",
       "      <td>Mitch McConnell snubbed by Elijah Cummings' pa...</td>\n",
       "    </tr>\n",
       "    <tr>\n",
       "      <th>30432</th>\n",
       "      <td>news</td>\n",
       "      <td>newspolitics</td>\n",
       "      <td>The 'Whimpering' Terrorist Only Trump Seems to...</td>\n",
       "    </tr>\n",
       "  </tbody>\n",
       "</table>\n",
       "</div>"
      ],
      "text/plain": [
       "        Category        SubCategory  \\\n",
       "1606        news       newspolitics   \n",
       "4409        news          newsworld   \n",
       "4962   lifestyle      lifestylebuzz   \n",
       "14605       news       newspolitics   \n",
       "21518       news       newspolitics   \n",
       "22642         tv             tvnews   \n",
       "22821       news  newsworldpolitics   \n",
       "29645       news          newsworld   \n",
       "30142       news       newspolitics   \n",
       "30432       news       newspolitics   \n",
       "\n",
       "                                                   Title  \n",
       "1606   Trump Allies Craft List of Potential Mulvaney ...  \n",
       "4409   Trump says he thought family of UK teen wanted...  \n",
       "4962   Zimbabwe sent 30 baby elephants to China, says...  \n",
       "14605  Biden expands edge in U.S. Democratic nominati...  \n",
       "21518  Nunes Aide Is Leaking the Ukraine Whistleblowe...  \n",
       "22642  Young and the Restless Star William Wintersole...  \n",
       "22821  Rep. Katie Hill's lawyers send cease-and-desis...  \n",
       "29645  Trump's Syria Troop Withdrawal Complicated Pla...  \n",
       "30142  Mitch McConnell snubbed by Elijah Cummings' pa...  \n",
       "30432  The 'Whimpering' Terrorist Only Trump Seems to...  "
      ]
     },
     "execution_count": 40,
     "metadata": {},
     "output_type": "execute_result"
    }
   ],
   "source": [
    "get_read_news('U48708')"
   ]
  },
  {
   "cell_type": "markdown",
   "id": "83abe58b-f8f8-4a4e-bdf6-b978266cdb49",
   "metadata": {},
   "source": [
    "<b>Table 15.</b> Dataframe showing a portion of User `U48708`'s reading history\n",
    "\n",
    "We can generalize from **Table 15** that the user is mostly interested in political news. We can sort of see a Political Patriot persona for this user."
   ]
  },
  {
   "cell_type": "code",
   "execution_count": 41,
   "id": "2061b0e3-1e05-455f-baa4-da264c03dd1f",
   "metadata": {
    "execution": {
     "iopub.execute_input": "2024-06-03T14:03:13.866622Z",
     "iopub.status.busy": "2024-06-03T14:03:13.866525Z",
     "iopub.status.idle": "2024-06-03T14:03:13.872828Z",
     "shell.execute_reply": "2024-06-03T14:03:13.872447Z",
     "shell.execute_reply.started": "2024-06-03T14:03:13.866614Z"
    }
   },
   "outputs": [
    {
     "data": {
      "text/html": [
       "<div>\n",
       "<style scoped>\n",
       "    .dataframe tbody tr th:only-of-type {\n",
       "        vertical-align: middle;\n",
       "    }\n",
       "\n",
       "    .dataframe tbody tr th {\n",
       "        vertical-align: top;\n",
       "    }\n",
       "\n",
       "    .dataframe thead th {\n",
       "        text-align: right;\n",
       "    }\n",
       "</style>\n",
       "<table border=\"1\" class=\"dataframe\">\n",
       "  <thead>\n",
       "    <tr style=\"text-align: right;\">\n",
       "      <th></th>\n",
       "      <th>Category</th>\n",
       "      <th>SubCategory</th>\n",
       "      <th>Title</th>\n",
       "    </tr>\n",
       "  </thead>\n",
       "  <tbody>\n",
       "    <tr>\n",
       "      <th>2077</th>\n",
       "      <td>news</td>\n",
       "      <td>newspolitics</td>\n",
       "      <td>Joe Biden reportedly denied Communion at a Sou...</td>\n",
       "    </tr>\n",
       "    <tr>\n",
       "      <th>5965</th>\n",
       "      <td>news</td>\n",
       "      <td>newscrime</td>\n",
       "      <td>Maryland man, 46, gets probation after he kill...</td>\n",
       "    </tr>\n",
       "    <tr>\n",
       "      <th>8155</th>\n",
       "      <td>news</td>\n",
       "      <td>newsus</td>\n",
       "      <td>Soldier wounded searching for Bergdahl dies</td>\n",
       "    </tr>\n",
       "    <tr>\n",
       "      <th>9397</th>\n",
       "      <td>news</td>\n",
       "      <td>newspolitics</td>\n",
       "      <td>Senate to try to override Trump emergency decl...</td>\n",
       "    </tr>\n",
       "    <tr>\n",
       "      <th>11870</th>\n",
       "      <td>tv</td>\n",
       "      <td>tv-celebrity</td>\n",
       "      <td>Miguel Cervantes' Wife Reveals Daughter, 3, 'D...</td>\n",
       "    </tr>\n",
       "    <tr>\n",
       "      <th>17437</th>\n",
       "      <td>news</td>\n",
       "      <td>newsus</td>\n",
       "      <td>Deer fatally attacks hunter who shot him</td>\n",
       "    </tr>\n",
       "    <tr>\n",
       "      <th>29926</th>\n",
       "      <td>video</td>\n",
       "      <td>viral</td>\n",
       "      <td>James Mattis mocks Trump's bone spurs</td>\n",
       "    </tr>\n",
       "    <tr>\n",
       "      <th>32953</th>\n",
       "      <td>tv</td>\n",
       "      <td>tvnews</td>\n",
       "      <td>Donald Trump Jr. reflects on explosive 'View' ...</td>\n",
       "    </tr>\n",
       "    <tr>\n",
       "      <th>32977</th>\n",
       "      <td>news</td>\n",
       "      <td>newsworld</td>\n",
       "      <td>Holocaust survivor under guard amid death threats</td>\n",
       "    </tr>\n",
       "    <tr>\n",
       "      <th>46821</th>\n",
       "      <td>news</td>\n",
       "      <td>newsus</td>\n",
       "      <td>'One in a million' deer captured on camera in ...</td>\n",
       "    </tr>\n",
       "  </tbody>\n",
       "</table>\n",
       "</div>"
      ],
      "text/plain": [
       "      Category   SubCategory  \\\n",
       "2077      news  newspolitics   \n",
       "5965      news     newscrime   \n",
       "8155      news        newsus   \n",
       "9397      news  newspolitics   \n",
       "11870       tv  tv-celebrity   \n",
       "17437     news        newsus   \n",
       "29926    video         viral   \n",
       "32953       tv        tvnews   \n",
       "32977     news     newsworld   \n",
       "46821     news        newsus   \n",
       "\n",
       "                                                   Title  \n",
       "2077   Joe Biden reportedly denied Communion at a Sou...  \n",
       "5965   Maryland man, 46, gets probation after he kill...  \n",
       "8155         Soldier wounded searching for Bergdahl dies  \n",
       "9397   Senate to try to override Trump emergency decl...  \n",
       "11870  Miguel Cervantes' Wife Reveals Daughter, 3, 'D...  \n",
       "17437           Deer fatally attacks hunter who shot him  \n",
       "29926              James Mattis mocks Trump's bone spurs  \n",
       "32953  Donald Trump Jr. reflects on explosive 'View' ...  \n",
       "32977  Holocaust survivor under guard amid death threats  \n",
       "46821  'One in a million' deer captured on camera in ...  "
      ]
     },
     "execution_count": 41,
     "metadata": {},
     "output_type": "execute_result"
    }
   ],
   "source": [
    "get_reco_news('U48708')"
   ]
  },
  {
   "cell_type": "markdown",
   "id": "ae0e6a67-475b-46a9-a64a-e9028605c50d",
   "metadata": {},
   "source": [
    "<b>Table 16.</b> Dataframe showing the top 10 recommendations for User `U48708`.\n",
    "\n",
    "The recommendations seems fit with the user, we know that the user is interested in political news and the recommendations contains a lot of articles about politics, specially Donald Trump and Joe Biden."
   ]
  },
  {
   "cell_type": "markdown",
   "id": "c8ecc63e-544f-4c34-b4fb-f9919763a727",
   "metadata": {},
   "source": [
    "<div style=\"text-align:center;\">\n",
    "    <img src=\"reco2.png\" alt=\"Recommendation for User 48708\">\n",
    "</div>\n",
    "<br>\n",
    "<center><b>Figure 9. </b>Sample Recommendation Output for User `U48708`</center>"
   ]
  },
  {
   "cell_type": "markdown",
   "id": "70b9a3cc-803c-40a1-86a4-ebf4fa818be3",
   "metadata": {
    "execution": {
     "iopub.execute_input": "2024-06-03T11:13:22.604708Z",
     "iopub.status.busy": "2024-06-03T11:13:22.603658Z",
     "iopub.status.idle": "2024-06-03T11:13:22.616976Z",
     "shell.execute_reply": "2024-06-03T11:13:22.614096Z",
     "shell.execute_reply.started": "2024-06-03T11:13:22.604619Z"
    }
   },
   "source": [
    "<div class=\"custom-header\">\n",
    "    <h1 class=\"small-caps\"><a name='conclusion'>Conclusion</a></h1>\n",
    "</div>"
   ]
  },
  {
   "cell_type": "markdown",
   "id": "10a48205-d919-42ef-8bcc-b6551d446705",
   "metadata": {},
   "source": [
    "In conclusion, this project successfully developed an implicit recommendation system for news articles, leveraging only user clicks to provide personalized content recommendations. The system demonstrated significant improvements in recommendation accuracy and user engagement compared to traditional explicit feedback methods. By analyzing user impressions, we were able to tailor news suggestions more effectively, potentially enhancing the overall user experience.\n",
    "\n",
    "However, implementing this recommender system would still have certain limitations. One of the challenges for these types of recommender systems is the cold start problem for new users. Since the algorithm utilizes user impressions\n",
    "as basis for recommendations, it would inevitably perform poorly on users with a minimal number of impressions, and won't work at all for users with no impressions yet. A solution to this would be to incorporate knowledge-based recommender system or simply provide popular and recent articles in the meantime, while the user is building up their impressions list.\n",
    "\n",
    "This project serves as an effective application of our learnings regarding implicit recommendation systems. In summary, this project not only applied theoretical knowledge to a real-world problem but also provided valuable hands-on experience in building and refining an implicit recommendation system.\n"
   ]
  },
  {
   "cell_type": "markdown",
   "id": "665a2145-51db-4b9c-ac38-535da05ebf4f",
   "metadata": {},
   "source": [
    "<div class=\"custom-header\">\n",
    "    <h1 class=\"small-caps\"><a name='recommendations'>Recommendations</a></h1>\n",
    "</div>"
   ]
  },
  {
   "cell_type": "markdown",
   "id": "0694f306-f82b-40cc-ad19-3ab7dcfbc13b",
   "metadata": {},
   "source": [
    "The team has identified further extensions of this study that can further improve the resulting performance of the recommender system:  \n",
    "\n",
    "- **Try other Confidence values**  \n",
    "The Confidence Value used is the same as the one used in the paper on Implicit Feedback Recommenders$^{[5]}$. It might be worth exploring other confidence values to see on how it would impact the output.\n",
    "<br><br>\n",
    "- **Operationalize the Recommender System by Tracking Cookies**  \n",
    "To enhance user personalization without requiring explicit signups, implement a system that tracks user activity via cookies. By assigning unique identifiers to cookies, the system can monitor unregistered users' interactions with the platform. However, ensuring user privacy and complying with data protection regulations should be a priority when implementing such tracking mechanisms.\n",
    "<br><br>\n",
    "- **Streamline Recommendations on Recent News**  \n",
    "Unlike movies or products, news articles become outdated quickly. The recommendation system should prioritize recent articles to keep users informed about the latest events. We can use a system that decreases the importance of older articles over time, ensuring that users always see the most current news.\n",
    "<br><br>\n",
    "- **Use Cloud Computing for Scalability**  \n",
    "To handle the large amount of data and make real-time recommendations, we can use cloud computing services like AWS, Google Cloud, or Microsoft Azure. These services provide the necessary infrastructure to process data quickly and efficiently. By using tools like Apache Spark or Hadoop, we can analyze user behavior and news content in parallel, speeding up the process and making sure our recommendations are always relevant and timely.\n",
    "<br><br>\n",
    "- **Hybrid Recommender Systems**  \n",
    "The problem might benefit from Hybrid Recommender Systems, specially ones that can take advantage of the features of the articles. Feature augmented models might perform well in these types of problems since the implicit\n",
    "ratings don't tell us much about preference."
   ]
  },
  {
   "cell_type": "markdown",
   "id": "47b42403-30e7-4b41-98d2-2829c560310e",
   "metadata": {},
   "source": [
    "<div class=\"custom-header\">\n",
    "    <h1 class=\"small-caps\"><a name='references'>References</a></h1>\n",
    "</div>"
   ]
  },
  {
   "cell_type": "markdown",
   "id": "5f8cf695-a812-435c-a4ef-e0050e807843",
   "metadata": {},
   "source": [
    "1. Johann Carolus. (2024, April 1). Wikipedia. https://en.wikipedia.org/wiki/Johann_Carolus\n",
    "\n",
    "2. Talbot, D. (2023, March 23). Newspaper Sales Statistics. https://wordsrated.com/newspaper-sales-statistics/\n",
    "\n",
    "3. Fraz, S. (2023, August 9). A Journey Through Time: Tracing the History of Online News Sites. Medium. https://medium.com/@sikanderfraz72/a-journey-through-time-tracing-the-history-of-online-news-sites-bd38034491\n",
    "\n",
    "4. Doty, D. (2022, January 28). Microsoft Has Quietly Become The Next Ad-Tech Giant—Marketers, Ignore Its Reach At Your Peril. Forbes. https://www.forbes.com/sites/daviddoty/2022/01/27/microsoft-has-quietly-become-the-next-ad-tech-giant-marketers-ignore-its-reach-at-your-peril/?sh=7daa5d715312\n",
    "\n",
    "5. Hu, Y., Koren, Y., & Volinsky, C. (2008). Collaborative Filtering for Implicit Feedback Datasets. 2008 Eighth IEEE International Conference on Data Mining, 263-272.\n",
    "\n",
    "6. Bhattacharyya, M. (2022, December 6). Metrics of Recommender Systems: An overview. Towards Data Science. https://towardsdatascience.com/metrics-of-recommender-systems-cde64042127a\n",
    "\n",
    "7. Dhinakaran, A. (2023, January 25). Demystifying NDCG. Towards Data Science. https://towardsdatascience.com/demystifying-ndcg-bee3be58cfe0\n",
    "\n",
    "8. Fangzhao Wu, Ying Qiao, Jiun-Hung Chen, Chuhan Wu, Tao Qi, Jianxun Lian, Danyang Liu, Xing Xie, Jianfeng Gao, Winnie Wu and Ming Zhou. MIND: A Large-scale Dataset for News Recommendation. ACL 2020.\n",
    "\n",
    "9. Kille, B., & Lommatzsch, A. (2019). Defining a Meaningful Baseline for News Recommender Systems. In INRA@ RecSys (pp. 24-28).\n",
    "\n",
    "10. Oliveira, V. (n.d.). Sokovia News Recommender System - MIND. Retrieved May 27, 2024, from https://github.com/vasco-oliveiraa/MIND-Recommendation-System/tree/main"
   ]
  }
 ],
 "metadata": {
  "kernelspec": {
   "display_name": "Python 3 (ipykernel)",
   "language": "python",
   "name": "python3"
  },
  "language_info": {
   "codemirror_mode": {
    "name": "ipython",
    "version": 3
   },
   "file_extension": ".py",
   "mimetype": "text/x-python",
   "name": "python",
   "nbconvert_exporter": "python",
   "pygments_lexer": "ipython3",
   "version": "3.11.8"
  }
 },
 "nbformat": 4,
 "nbformat_minor": 5
}
